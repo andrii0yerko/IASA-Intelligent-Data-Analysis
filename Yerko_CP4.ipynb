{
 "cells": [
  {
   "cell_type": "markdown",
   "metadata": {
    "id": "wNhBviOWN-YW"
   },
   "source": [
    "<center><font size=\"6\"><b>Комп'ютерний практикум 4.\n",
    "\n",
    "Препроцесінг даних</b></font></center>"
   ]
  },
  {
   "cell_type": "markdown",
   "metadata": {
    "id": "U0xZilE1TFpg"
   },
   "source": [
    "##<center>__Самостійні завдання__</center>\n",
    "\n",
    "> Скопіювати блок самостійних завдань в окремий файл ***LastName_CP4.ipynb***\n",
    "\n",
    "> Інсталюйте необхідні пакети бібліотек Python"
   ]
  },
  {
   "cell_type": "markdown",
   "metadata": {
    "id": "n2DcwcrSULJA"
   },
   "source": [
    "### Завдання №1\n",
    "\n",
    "Завантажте дані з ресурсу\n",
    "\n",
    "URL = 'https://raw.githubusercontent.com/datasciencedojo/datasets/master/titanic.csv'"
   ]
  },
  {
   "cell_type": "code",
   "execution_count": 1,
   "metadata": {
    "id": "U43QSaHHTFOL"
   },
   "outputs": [
    {
     "data": {
      "text/html": [
       "<div>\n",
       "<style scoped>\n",
       "    .dataframe tbody tr th:only-of-type {\n",
       "        vertical-align: middle;\n",
       "    }\n",
       "\n",
       "    .dataframe tbody tr th {\n",
       "        vertical-align: top;\n",
       "    }\n",
       "\n",
       "    .dataframe thead th {\n",
       "        text-align: right;\n",
       "    }\n",
       "</style>\n",
       "<table border=\"1\" class=\"dataframe\">\n",
       "  <thead>\n",
       "    <tr style=\"text-align: right;\">\n",
       "      <th></th>\n",
       "      <th>PassengerId</th>\n",
       "      <th>Survived</th>\n",
       "      <th>Pclass</th>\n",
       "      <th>Name</th>\n",
       "      <th>Sex</th>\n",
       "      <th>Age</th>\n",
       "      <th>SibSp</th>\n",
       "      <th>Parch</th>\n",
       "      <th>Ticket</th>\n",
       "      <th>Fare</th>\n",
       "      <th>Cabin</th>\n",
       "      <th>Embarked</th>\n",
       "    </tr>\n",
       "  </thead>\n",
       "  <tbody>\n",
       "    <tr>\n",
       "      <th>0</th>\n",
       "      <td>1</td>\n",
       "      <td>0</td>\n",
       "      <td>3</td>\n",
       "      <td>Braund, Mr. Owen Harris</td>\n",
       "      <td>male</td>\n",
       "      <td>22.0</td>\n",
       "      <td>1</td>\n",
       "      <td>0</td>\n",
       "      <td>A/5 21171</td>\n",
       "      <td>7.2500</td>\n",
       "      <td>NaN</td>\n",
       "      <td>S</td>\n",
       "    </tr>\n",
       "    <tr>\n",
       "      <th>1</th>\n",
       "      <td>2</td>\n",
       "      <td>1</td>\n",
       "      <td>1</td>\n",
       "      <td>Cumings, Mrs. John Bradley (Florence Briggs Th...</td>\n",
       "      <td>female</td>\n",
       "      <td>38.0</td>\n",
       "      <td>1</td>\n",
       "      <td>0</td>\n",
       "      <td>PC 17599</td>\n",
       "      <td>71.2833</td>\n",
       "      <td>C85</td>\n",
       "      <td>C</td>\n",
       "    </tr>\n",
       "    <tr>\n",
       "      <th>2</th>\n",
       "      <td>3</td>\n",
       "      <td>1</td>\n",
       "      <td>3</td>\n",
       "      <td>Heikkinen, Miss. Laina</td>\n",
       "      <td>female</td>\n",
       "      <td>26.0</td>\n",
       "      <td>0</td>\n",
       "      <td>0</td>\n",
       "      <td>STON/O2. 3101282</td>\n",
       "      <td>7.9250</td>\n",
       "      <td>NaN</td>\n",
       "      <td>S</td>\n",
       "    </tr>\n",
       "    <tr>\n",
       "      <th>3</th>\n",
       "      <td>4</td>\n",
       "      <td>1</td>\n",
       "      <td>1</td>\n",
       "      <td>Futrelle, Mrs. Jacques Heath (Lily May Peel)</td>\n",
       "      <td>female</td>\n",
       "      <td>35.0</td>\n",
       "      <td>1</td>\n",
       "      <td>0</td>\n",
       "      <td>113803</td>\n",
       "      <td>53.1000</td>\n",
       "      <td>C123</td>\n",
       "      <td>S</td>\n",
       "    </tr>\n",
       "    <tr>\n",
       "      <th>4</th>\n",
       "      <td>5</td>\n",
       "      <td>0</td>\n",
       "      <td>3</td>\n",
       "      <td>Allen, Mr. William Henry</td>\n",
       "      <td>male</td>\n",
       "      <td>35.0</td>\n",
       "      <td>0</td>\n",
       "      <td>0</td>\n",
       "      <td>373450</td>\n",
       "      <td>8.0500</td>\n",
       "      <td>NaN</td>\n",
       "      <td>S</td>\n",
       "    </tr>\n",
       "  </tbody>\n",
       "</table>\n",
       "</div>"
      ],
      "text/plain": [
       "   PassengerId  Survived  Pclass  \\\n",
       "0            1         0       3   \n",
       "1            2         1       1   \n",
       "2            3         1       3   \n",
       "3            4         1       1   \n",
       "4            5         0       3   \n",
       "\n",
       "                                                Name     Sex   Age  SibSp  \\\n",
       "0                            Braund, Mr. Owen Harris    male  22.0      1   \n",
       "1  Cumings, Mrs. John Bradley (Florence Briggs Th...  female  38.0      1   \n",
       "2                             Heikkinen, Miss. Laina  female  26.0      0   \n",
       "3       Futrelle, Mrs. Jacques Heath (Lily May Peel)  female  35.0      1   \n",
       "4                           Allen, Mr. William Henry    male  35.0      0   \n",
       "\n",
       "   Parch            Ticket     Fare Cabin Embarked  \n",
       "0      0         A/5 21171   7.2500   NaN        S  \n",
       "1      0          PC 17599  71.2833   C85        C  \n",
       "2      0  STON/O2. 3101282   7.9250   NaN        S  \n",
       "3      0            113803  53.1000  C123        S  \n",
       "4      0            373450   8.0500   NaN        S  "
      ]
     },
     "execution_count": 1,
     "metadata": {},
     "output_type": "execute_result"
    }
   ],
   "source": [
    "# МІСЦЕ ДЛЯ КОДУ\n",
    "\n",
    "import pandas as pd\n",
    "\n",
    "URL = 'https://raw.githubusercontent.com/datasciencedojo/datasets/master/titanic.csv'\n",
    "\n",
    "df = pd.read_csv(URL)\n",
    "df.head()"
   ]
  },
  {
   "cell_type": "markdown",
   "metadata": {
    "id": "NNIV6q91UW2B"
   },
   "source": [
    "### Завдання №2\n",
    "\n",
    "* Виведіть інформацію про датасет, описову статистику для кількісних змінних та для якісних змінних\n",
    "\n",
    "* побудуйте графік регресії для змінних `Survived` та `Pclass`\n"
   ]
  },
  {
   "cell_type": "code",
   "execution_count": 2,
   "metadata": {
    "id": "pfweeG1YVU_h"
   },
   "outputs": [
    {
     "name": "stdout",
     "output_type": "stream",
     "text": [
      "<class 'pandas.core.frame.DataFrame'>\n",
      "RangeIndex: 891 entries, 0 to 890\n",
      "Data columns (total 12 columns):\n",
      " #   Column       Non-Null Count  Dtype  \n",
      "---  ------       --------------  -----  \n",
      " 0   PassengerId  891 non-null    int64  \n",
      " 1   Survived     891 non-null    int64  \n",
      " 2   Pclass       891 non-null    int64  \n",
      " 3   Name         891 non-null    object \n",
      " 4   Sex          891 non-null    object \n",
      " 5   Age          714 non-null    float64\n",
      " 6   SibSp        891 non-null    int64  \n",
      " 7   Parch        891 non-null    int64  \n",
      " 8   Ticket       891 non-null    object \n",
      " 9   Fare         891 non-null    float64\n",
      " 10  Cabin        204 non-null    object \n",
      " 11  Embarked     889 non-null    object \n",
      "dtypes: float64(2), int64(5), object(5)\n",
      "memory usage: 83.7+ KB\n",
      "None\n",
      "        PassengerId    Survived      Pclass                     Name   Sex  \\\n",
      "count    891.000000  891.000000  891.000000                      891   891   \n",
      "unique          NaN         NaN         NaN                      891     2   \n",
      "top             NaN         NaN         NaN  Braund, Mr. Owen Harris  male   \n",
      "freq            NaN         NaN         NaN                        1   577   \n",
      "mean     446.000000    0.383838    2.308642                      NaN   NaN   \n",
      "std      257.353842    0.486592    0.836071                      NaN   NaN   \n",
      "min        1.000000    0.000000    1.000000                      NaN   NaN   \n",
      "25%      223.500000    0.000000    2.000000                      NaN   NaN   \n",
      "50%      446.000000    0.000000    3.000000                      NaN   NaN   \n",
      "75%      668.500000    1.000000    3.000000                      NaN   NaN   \n",
      "max      891.000000    1.000000    3.000000                      NaN   NaN   \n",
      "\n",
      "               Age       SibSp       Parch  Ticket        Fare    Cabin  \\\n",
      "count   714.000000  891.000000  891.000000     891  891.000000      204   \n",
      "unique         NaN         NaN         NaN     681         NaN      147   \n",
      "top            NaN         NaN         NaN  347082         NaN  B96 B98   \n",
      "freq           NaN         NaN         NaN       7         NaN        4   \n",
      "mean     29.699118    0.523008    0.381594     NaN   32.204208      NaN   \n",
      "std      14.526497    1.102743    0.806057     NaN   49.693429      NaN   \n",
      "min       0.420000    0.000000    0.000000     NaN    0.000000      NaN   \n",
      "25%      20.125000    0.000000    0.000000     NaN    7.910400      NaN   \n",
      "50%      28.000000    0.000000    0.000000     NaN   14.454200      NaN   \n",
      "75%      38.000000    1.000000    0.000000     NaN   31.000000      NaN   \n",
      "max      80.000000    8.000000    6.000000     NaN  512.329200      NaN   \n",
      "\n",
      "       Embarked  \n",
      "count       889  \n",
      "unique        3  \n",
      "top           S  \n",
      "freq        644  \n",
      "mean        NaN  \n",
      "std         NaN  \n",
      "min         NaN  \n",
      "25%         NaN  \n",
      "50%         NaN  \n",
      "75%         NaN  \n",
      "max         NaN  \n"
     ]
    },
    {
     "data": {
      "text/plain": [
       "<AxesSubplot: xlabel='Survived', ylabel='Pclass'>"
      ]
     },
     "execution_count": 2,
     "metadata": {},
     "output_type": "execute_result"
    },
    {
     "data": {
      "image/png": "[encoded data removed]",
      "text/plain": [
       "<Figure size 432x288 with 1 Axes>"
      ]
     },
     "metadata": {
      "needs_background": "light"
     },
     "output_type": "display_data"
    }
   ],
   "source": [
    "# МІСЦЕ ДЛЯ КОДУ\n",
    "\n",
    "import seaborn as sns\n",
    "\n",
    "# Виведіть інформацію про датасет, описову статистику для кількісних змінних та для якісних змінних\n",
    "print(df.info())\n",
    "print(df.describe(include='all'))\n",
    "\n",
    "# побудуйте графік регресії для змінних Survived та Pclass\n",
    "sns.regplot(x='Survived', y='Pclass', data=df)"
   ]
  },
  {
   "cell_type": "markdown",
   "metadata": {
    "id": "wpjg_1PvVTua"
   },
   "source": [
    "### Завдання №3\n",
    "\n",
    "* побудуйте `heatmap()` для візуального відображення пропущених значень\n",
    "* для кількісної змінної поповніть пропущені дані середнім значенням\n",
    "* для категоріальної змінної поповніть пропущені значення значенням, яке зустрічається найчастіше"
   ]
  },
  {
   "cell_type": "code",
   "execution_count": 3,
   "metadata": {
    "id": "TeNvNJdpWN7d"
   },
   "outputs": [
    {
     "data": {
      "image/png": "[encoded data removed]",
      "text/plain": [
       "<Figure size 432x288 with 2 Axes>"
      ]
     },
     "metadata": {
      "needs_background": "light"
     },
     "output_type": "display_data"
    }
   ],
   "source": [
    "# МІСЦЕ ДЛЯ КОДУ\n",
    "\n",
    "import numpy as np\n",
    "\n",
    "# побудуйте heatmap() для візуального відображення пропущених значень\n",
    "sns.heatmap(df.isnull())\n",
    "\n",
    "# для кількісної змінної поповніть пропущені дані середнім значенням\n",
    "df['Age'].fillna(value=df['Age'].mean(), inplace=True)\n",
    "\n",
    "# для категоріальної змінної поповніть пропущені значення значенням, яке зустрічається найчастіше\n",
    "df['Cabin'].fillna(value=df['Cabin'].mode()[0], inplace=True)\n"
   ]
  },
  {
   "cell_type": "markdown",
   "metadata": {
    "id": "pEqKagJ3WRjS"
   },
   "source": [
    "### Завдання №4\n",
    "\n",
    "Оберіть 4 категоріальних змінних та закодуйте:\n",
    "* Змінну_1 -  за допомогою функції `LabelEncoder()`\n",
    "* Змінну_2 -  за допомогою функції `get_dummies()`\n",
    "* Змінну_3 -  за допомогою функції `OneHotEncoder()`\n",
    "* Змінну_4 -  кількістю значень відповідної категорії\n"
   ]
  },
  {
   "cell_type": "code",
   "execution_count": 4,
   "metadata": {
    "id": "l2rVl_4fWSgJ"
   },
   "outputs": [],
   "source": [
    "# МІСЦЕ ДЛЯ КОДУ\n",
    "\n",
    "from sklearn.preprocessing import LabelEncoder, OneHotEncoder\n",
    "import numpy as np\n",
    "\n",
    "# Змінна_1 - за допомогою функції LabelEncoder()\n",
    "le = LabelEncoder()\n",
    "df['Pclass_LabelEncoded'] = le.fit_transform(df['Pclass'])\n",
    "\n",
    "# Змінна_2 - за допомогою функції get_dummies()\n",
    "df = pd.concat([df, pd.get_dummies(df['Sex'], prefix='Sex')], axis=1)\n",
    "\n",
    "# Змінна_3 - за допомогою функції OneHotEncoder()\n",
    "ohe = OneHotEncoder()\n",
    "ohe_result = ohe.fit_transform(df[['Cabin']])\n",
    "ohe_df = pd.DataFrame(ohe_result.toarray(), columns=ohe.get_feature_names_out(['Cabin']))\n",
    "df = pd.concat([df, ohe_df], axis=1)\n",
    "\n",
    "# Змінна_4 - кількістю значень відповідної категорії\n",
    "df['Embarked_Count'] = df['Embarked'].map(df['Embarked'].value_counts(dropna=False))\n"
   ]
  },
  {
   "cell_type": "markdown",
   "metadata": {
    "id": "VmjUBu_FXqa0"
   },
   "source": [
    "### Завдання №5\n",
    "Поділіть на 4 вікові групи змінну `Age`"
   ]
  },
  {
   "cell_type": "code",
   "execution_count": 5,
   "metadata": {
    "id": "TwjTreWwWUcm"
   },
   "outputs": [],
   "source": [
    "# МІСЦЕ ДЛЯ КОДУ\n",
    "bins = np.linspace(df['Age'].min(), df['Age'].max(), 5)\n",
    "labels = ['Дитина', 'Молодший', 'Старший', 'Літній']\n",
    "df['Age_Group'] = pd.cut(df['Age'], bins=bins, labels=labels, include_lowest=True)"
   ]
  },
  {
   "cell_type": "markdown",
   "metadata": {
    "id": "n0GsLKbqYSpL"
   },
   "source": [
    "### Завдання №6\n",
    "\n",
    "* Створіть новий датафрейм з вихідного тільки із числових значень\n",
    "* Застосуйте $MinMax$-Нормування даних та збережіть в новий датафрейм, виведіть описову статистику\n",
    "* Застосуйте $Standart Scaling$ даних та збережіть в новий датафрейм, виведіть описову статистику\n",
    "* Застосуйте $L_1$-Нормування та збережіть в новий датафрейм, виведіть описову статистику\n"
   ]
  },
  {
   "cell_type": "code",
   "execution_count": 6,
   "metadata": {
    "id": "F25Xs8GXWWsq"
   },
   "outputs": [
    {
     "name": "stdout",
     "output_type": "stream",
     "text": [
      "       PassengerId    Survived      Pclass         Age       SibSp  \\\n",
      "count   891.000000  891.000000  891.000000  891.000000  891.000000   \n",
      "mean      0.500000    0.383838    0.654321    0.367921    0.065376   \n",
      "std       0.289162    0.486592    0.418036    0.163383    0.137843   \n",
      "min       0.000000    0.000000    0.000000    0.000000    0.000000   \n",
      "25%       0.250000    0.000000    0.500000    0.271174    0.000000   \n",
      "50%       0.500000    0.000000    1.000000    0.367921    0.000000   \n",
      "75%       0.750000    1.000000    1.000000    0.434531    0.125000   \n",
      "max       1.000000    1.000000    1.000000    1.000000    1.000000   \n",
      "\n",
      "            Parch        Fare  Pclass_LabelEncoded  Sex_female    Sex_male  \\\n",
      "count  891.000000  891.000000           891.000000  891.000000  891.000000   \n",
      "mean     0.063599    0.062858             0.654321    0.352413    0.647587   \n",
      "std      0.134343    0.096995             0.418036    0.477990    0.477990   \n",
      "min      0.000000    0.000000             0.000000    0.000000    0.000000   \n",
      "25%      0.000000    0.015440             0.500000    0.000000    0.000000   \n",
      "50%      0.000000    0.028213             1.000000    0.000000    1.000000   \n",
      "75%      0.000000    0.060508             1.000000    1.000000    1.000000   \n",
      "max      1.000000    1.000000             1.000000    1.000000    1.000000   \n",
      "\n",
      "       ...  Cabin_F E69  Cabin_F G63  Cabin_F G73    Cabin_F2   Cabin_F33  \\\n",
      "count  ...   891.000000   891.000000   891.000000  891.000000  891.000000   \n",
      "mean   ...     0.001122     0.001122     0.002245    0.003367    0.003367   \n",
      "std    ...     0.033501     0.033501     0.047351    0.057961    0.057961   \n",
      "min    ...     0.000000     0.000000     0.000000    0.000000    0.000000   \n",
      "25%    ...     0.000000     0.000000     0.000000    0.000000    0.000000   \n",
      "50%    ...     0.000000     0.000000     0.000000    0.000000    0.000000   \n",
      "75%    ...     0.000000     0.000000     0.000000    0.000000    0.000000   \n",
      "max    ...     1.000000     1.000000     1.000000    1.000000    1.000000   \n",
      "\n",
      "        Cabin_F38    Cabin_F4    Cabin_G6     Cabin_T  Embarked_Count  \n",
      "count  891.000000  891.000000  891.000000  891.000000      891.000000  \n",
      "mean     0.001122    0.002245    0.004489    0.001122        0.781633  \n",
      "std      0.033501    0.047351    0.066890    0.033501        0.354627  \n",
      "min      0.000000    0.000000    0.000000    0.000000        0.000000  \n",
      "25%      0.000000    0.000000    0.000000    0.000000        0.258567  \n",
      "50%      0.000000    0.000000    0.000000    0.000000        1.000000  \n",
      "75%      0.000000    0.000000    0.000000    0.000000        1.000000  \n",
      "max      1.000000    1.000000    1.000000    1.000000        1.000000  \n",
      "\n",
      "[8 rows x 158 columns]\n",
      "        PassengerId      Survived        Pclass           Age         SibSp  \\\n",
      "count  8.910000e+02  8.910000e+02  8.910000e+02  8.910000e+02  8.910000e+02   \n",
      "mean   6.379733e-17  3.987333e-17 -8.772133e-17  2.232906e-16  4.386066e-17   \n",
      "std    1.000562e+00  1.000562e+00  1.000562e+00  1.000562e+00  1.000562e+00   \n",
      "min   -1.730108e+00 -7.892723e-01 -1.566107e+00 -2.253155e+00 -4.745452e-01   \n",
      "25%   -8.650540e-01 -7.892723e-01 -3.693648e-01 -5.924806e-01 -4.745452e-01   \n",
      "50%    0.000000e+00 -7.892723e-01  8.273772e-01  0.000000e+00 -4.745452e-01   \n",
      "75%    8.650540e-01  1.266990e+00  8.273772e-01  4.079260e-01  4.327934e-01   \n",
      "max    1.730108e+00  1.266990e+00  8.273772e-01  3.870872e+00  6.784163e+00   \n",
      "\n",
      "              Parch          Fare  Pclass_LabelEncoded    Sex_female  \\\n",
      "count  8.910000e+02  8.910000e+02         8.910000e+02  8.910000e+02   \n",
      "mean   5.382900e-17  3.987333e-18        -8.772133e-17  3.987333e-17   \n",
      "std    1.000562e+00  1.000562e+00         1.000562e+00  1.000562e+00   \n",
      "min   -4.736736e-01 -6.484217e-01        -1.566107e+00 -7.376951e-01   \n",
      "25%   -4.736736e-01 -4.891482e-01        -3.693648e-01 -7.376951e-01   \n",
      "50%   -4.736736e-01 -3.573909e-01         8.273772e-01 -7.376951e-01   \n",
      "75%   -4.736736e-01 -2.424635e-02         8.273772e-01  1.355574e+00   \n",
      "max    6.974147e+00  9.667167e+00         8.273772e-01  1.355574e+00   \n",
      "\n",
      "           Sex_male  ...  Cabin_F E69  Cabin_F G63   Cabin_F G73  \\\n",
      "count  8.910000e+02  ...   891.000000   891.000000  8.910000e+02   \n",
      "mean  -1.156327e-16  ...     0.000000     0.000000  5.980999e-18   \n",
      "std    1.000562e+00  ...     1.000562     1.000562  1.000562e+00   \n",
      "min   -1.355574e+00  ...    -0.033520    -0.033520 -4.743120e-02   \n",
      "25%   -1.355574e+00  ...    -0.033520    -0.033520 -4.743120e-02   \n",
      "50%    7.376951e-01  ...    -0.033520    -0.033520 -4.743120e-02   \n",
      "75%    7.376951e-01  ...    -0.033520    -0.033520 -4.743120e-02   \n",
      "max    7.376951e-01  ...    29.832868    29.832868  2.108317e+01   \n",
      "\n",
      "           Cabin_F2     Cabin_F33   Cabin_F38      Cabin_F4      Cabin_G6  \\\n",
      "count  8.910000e+02  8.910000e+02  891.000000  8.910000e+02  8.910000e+02   \n",
      "mean  -4.784800e-17 -4.186700e-17    0.000000  2.591766e-17  3.987333e-18   \n",
      "std    1.000562e+00  1.000562e+00    1.000562  1.000562e+00  1.000562e+00   \n",
      "min   -5.812382e-02 -5.812382e-02   -0.033520 -4.743120e-02 -6.715343e-02   \n",
      "25%   -5.812382e-02 -5.812382e-02   -0.033520 -4.743120e-02 -6.715343e-02   \n",
      "50%   -5.812382e-02 -5.812382e-02   -0.033520 -4.743120e-02 -6.715343e-02   \n",
      "75%   -5.812382e-02 -5.812382e-02   -0.033520 -4.743120e-02 -6.715343e-02   \n",
      "max    1.720465e+01  1.720465e+01   29.832868  2.108317e+01  1.489127e+01   \n",
      "\n",
      "          Cabin_T  Embarked_Count  \n",
      "count  891.000000    8.910000e+02  \n",
      "mean     0.000000   -6.379733e-17  \n",
      "std      1.000562    1.000562e+00  \n",
      "min     -0.033520   -2.205333e+00  \n",
      "25%     -0.033520   -1.475801e+00  \n",
      "50%     -0.033520    6.161119e-01  \n",
      "75%     -0.033520    6.161119e-01  \n",
      "max     29.832868    6.161119e-01  \n",
      "\n",
      "[8 rows x 158 columns]\n",
      "       PassengerId    Survived      Pclass         Age       SibSp  \\\n",
      "count   891.000000  891.000000  891.000000  891.000000  891.000000   \n",
      "mean      0.424248    0.000495    0.002848    0.035234    0.000623   \n",
      "std       0.203837    0.000869    0.002570    0.028033    0.001612   \n",
      "min       0.001466    0.000000    0.000582    0.000424    0.000000   \n",
      "25%       0.271671    0.000000    0.001477    0.020413    0.000000   \n",
      "50%       0.437352    0.000000    0.002273    0.028427    0.000000   \n",
      "75%       0.538931    0.000874    0.003316    0.041244    0.000803   \n",
      "max       0.878049    0.007632    0.023409    0.252462    0.029170   \n",
      "\n",
      "            Parch        Fare  Pclass_LabelEncoded  Sex_female    Sex_male  \\\n",
      "count  891.000000  891.000000           891.000000  891.000000  891.000000   \n",
      "mean     0.000406    0.036351             0.001642    0.000464    0.000742   \n",
      "std      0.000918    0.055676             0.001858    0.000862    0.000803   \n",
      "min      0.000000    0.000000             0.000000    0.000000    0.000000   \n",
      "25%      0.000000    0.008679             0.000646    0.000000    0.000000   \n",
      "50%      0.000000    0.016972             0.001389    0.000000    0.000739   \n",
      "75%      0.000000    0.037193             0.002190    0.000832    0.001080   \n",
      "max      0.007531    0.523678             0.015606    0.007632    0.007803   \n",
      "\n",
      "       ...  Cabin_F E69   Cabin_F G63  Cabin_F G73    Cabin_F2   Cabin_F33  \\\n",
      "count  ...   891.000000  8.910000e+02   891.000000  891.000000  891.000000   \n",
      "mean   ...     0.000003  8.012954e-07     0.000002    0.000004    0.000003   \n",
      "std    ...     0.000093  2.391837e-05     0.000050    0.000064    0.000061   \n",
      "min    ...     0.000000  0.000000e+00     0.000000    0.000000    0.000000   \n",
      "25%    ...     0.000000  0.000000e+00     0.000000    0.000000    0.000000   \n",
      "50%    ...     0.000000  0.000000e+00     0.000000    0.000000    0.000000   \n",
      "75%    ...     0.000000  0.000000e+00     0.000000    0.000000    0.000000   \n",
      "max    ...     0.002785  7.139542e-04     0.001316    0.001159    0.001322   \n",
      "\n",
      "        Cabin_F38    Cabin_F4    Cabin_G6     Cabin_T  Embarked_Count  \n",
      "count  891.000000  891.000000  891.000000  891.000000      891.000000  \n",
      "mean     0.000001    0.000002    0.000005    0.000001        0.495742  \n",
      "std      0.000037    0.000046    0.000078    0.000031        0.207111  \n",
      "min      0.000000    0.000000    0.000000    0.000000        0.002045  \n",
      "25%      0.000000    0.000000    0.000000    0.000000        0.406752  \n",
      "50%      0.000000    0.000000    0.000000    0.000000        0.493487  \n",
      "75%      0.000000    0.000000    0.000000    0.000000        0.632596  \n",
      "max      0.001113    0.001140    0.001458    0.000937        0.943936  \n",
      "\n",
      "[8 rows x 158 columns]\n"
     ]
    }
   ],
   "source": [
    "# МІСЦЕ ДЛЯ КОДУ\n",
    "\n",
    "from sklearn.preprocessing import MinMaxScaler, StandardScaler, Normalizer\n",
    "\n",
    "# Створіть новий датафрейм з вихідного тільки із числових значень\n",
    "df_numeric = df.select_dtypes(include=[np.number])\n",
    "\n",
    "scaler = MinMaxScaler()\n",
    "df_numeric_scaled = pd.DataFrame(scaler.fit_transform(df_numeric), columns=df_numeric.columns)\n",
    "print(df_numeric_scaled.describe())\n",
    "\n",
    "# ініціалізуємо StandardScaler, застосовуємо його до даних та виводимо описову статистику\n",
    "scaler = StandardScaler()\n",
    "df_numeric_scaled = pd.DataFrame(scaler.fit_transform(df_numeric), columns=df_numeric.columns)\n",
    "print(df_numeric_scaled.describe())\n",
    "\n",
    "# ініціалізуємо Normalizer з L1 нормою, застосовуємо його до даних та виводимо описову статистику\n",
    "scaler = Normalizer(norm='l1')\n",
    "df_numeric_scaled = pd.DataFrame(scaler.fit_transform(df_numeric), columns=df_numeric.columns)\n",
    "print(df_numeric_scaled.describe())\n"
   ]
  },
  {
   "cell_type": "code",
   "execution_count": null,
   "metadata": {},
   "outputs": [],
   "source": []
  }
 ],
 "metadata": {
  "colab": {
   "name": "КП№4_Препроцесінг_даних.ipynb",
   "provenance": []
  },
  "kernelspec": {
   "display_name": "Python 3 (ipykernel)",
   "language": "python",
   "name": "python3"
  },
  "language_info": {
   "codemirror_mode": {
    "name": "ipython",
    "version": 3
   },
   "file_extension": ".py",
   "mimetype": "text/x-python",
   "name": "python",
   "nbconvert_exporter": "python",
   "pygments_lexer": "ipython3",
   "version": "3.10.8"
  }
 },
 "nbformat": 4,
 "nbformat_minor": 1
}
