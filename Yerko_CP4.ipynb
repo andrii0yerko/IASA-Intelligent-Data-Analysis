{
 "cells": [
  {
   "cell_type": "markdown",
   "metadata": {
    "id": "wNhBviOWN-YW"
   },
   "source": [
    "<center><font size=\"6\"><b>Комп'ютерний практикум 4.\n",
    "\n",
    "Препроцесінг даних</b></font></center>"
   ]
  },
  {
   "cell_type": "markdown",
   "metadata": {
    "id": "U0xZilE1TFpg"
   },
   "source": [
    "##<center>__Самостійні завдання__</center>\n",
    "\n",
    "> Скопіювати блок самостійних завдань в окремий файл ***LastName_CP4.ipynb***\n",
    "\n",
    "> Інсталюйте необхідні пакети бібліотек Python"
   ]
  },
  {
   "cell_type": "markdown",
   "metadata": {
    "id": "n2DcwcrSULJA"
   },
   "source": [
    "### Завдання №1\n",
    "\n",
    "Завантажте дані з ресурсу\n",
    "\n",
    "URL = 'https://raw.githubusercontent.com/datasciencedojo/datasets/master/titanic.csv'"
   ]
  },
  {
   "cell_type": "code",
   "execution_count": 1,
   "metadata": {
    "id": "U43QSaHHTFOL"
   },
   "outputs": [
    {
     "data": {
      "text/html": [
       "<div>\n",
       "<style scoped>\n",
       "    .dataframe tbody tr th:only-of-type {\n",
       "        vertical-align: middle;\n",
       "    }\n",
       "\n",
       "    .dataframe tbody tr th {\n",
       "        vertical-align: top;\n",
       "    }\n",
       "\n",
       "    .dataframe thead th {\n",
       "        text-align: right;\n",
       "    }\n",
       "</style>\n",
       "<table border=\"1\" class=\"dataframe\">\n",
       "  <thead>\n",
       "    <tr style=\"text-align: right;\">\n",
       "      <th></th>\n",
       "      <th>PassengerId</th>\n",
       "      <th>Survived</th>\n",
       "      <th>Pclass</th>\n",
       "      <th>Name</th>\n",
       "      <th>Sex</th>\n",
       "      <th>Age</th>\n",
       "      <th>SibSp</th>\n",
       "      <th>Parch</th>\n",
       "      <th>Ticket</th>\n",
       "      <th>Fare</th>\n",
       "      <th>Cabin</th>\n",
       "      <th>Embarked</th>\n",
       "    </tr>\n",
       "  </thead>\n",
       "  <tbody>\n",
       "    <tr>\n",
       "      <th>0</th>\n",
       "      <td>1</td>\n",
       "      <td>0</td>\n",
       "      <td>3</td>\n",
       "      <td>Braund, Mr. Owen Harris</td>\n",
       "      <td>male</td>\n",
       "      <td>22.0</td>\n",
       "      <td>1</td>\n",
       "      <td>0</td>\n",
       "      <td>A/5 21171</td>\n",
       "      <td>7.2500</td>\n",
       "      <td>NaN</td>\n",
       "      <td>S</td>\n",
       "    </tr>\n",
       "    <tr>\n",
       "      <th>1</th>\n",
       "      <td>2</td>\n",
       "      <td>1</td>\n",
       "      <td>1</td>\n",
       "      <td>Cumings, Mrs. John Bradley (Florence Briggs Th...</td>\n",
       "      <td>female</td>\n",
       "      <td>38.0</td>\n",
       "      <td>1</td>\n",
       "      <td>0</td>\n",
       "      <td>PC 17599</td>\n",
       "      <td>71.2833</td>\n",
       "      <td>C85</td>\n",
       "      <td>C</td>\n",
       "    </tr>\n",
       "    <tr>\n",
       "      <th>2</th>\n",
       "      <td>3</td>\n",
       "      <td>1</td>\n",
       "      <td>3</td>\n",
       "      <td>Heikkinen, Miss. Laina</td>\n",
       "      <td>female</td>\n",
       "      <td>26.0</td>\n",
       "      <td>0</td>\n",
       "      <td>0</td>\n",
       "      <td>STON/O2. 3101282</td>\n",
       "      <td>7.9250</td>\n",
       "      <td>NaN</td>\n",
       "      <td>S</td>\n",
       "    </tr>\n",
       "    <tr>\n",
       "      <th>3</th>\n",
       "      <td>4</td>\n",
       "      <td>1</td>\n",
       "      <td>1</td>\n",
       "      <td>Futrelle, Mrs. Jacques Heath (Lily May Peel)</td>\n",
       "      <td>female</td>\n",
       "      <td>35.0</td>\n",
       "      <td>1</td>\n",
       "      <td>0</td>\n",
       "      <td>113803</td>\n",
       "      <td>53.1000</td>\n",
       "      <td>C123</td>\n",
       "      <td>S</td>\n",
       "    </tr>\n",
       "    <tr>\n",
       "      <th>4</th>\n",
       "      <td>5</td>\n",
       "      <td>0</td>\n",
       "      <td>3</td>\n",
       "      <td>Allen, Mr. William Henry</td>\n",
       "      <td>male</td>\n",
       "      <td>35.0</td>\n",
       "      <td>0</td>\n",
       "      <td>0</td>\n",
       "      <td>373450</td>\n",
       "      <td>8.0500</td>\n",
       "      <td>NaN</td>\n",
       "      <td>S</td>\n",
       "    </tr>\n",
       "  </tbody>\n",
       "</table>\n",
       "</div>"
      ],
      "text/plain": [
       "   PassengerId  Survived  Pclass  \\\n",
       "0            1         0       3   \n",
       "1            2         1       1   \n",
       "2            3         1       3   \n",
       "3            4         1       1   \n",
       "4            5         0       3   \n",
       "\n",
       "                                                Name     Sex   Age  SibSp  \\\n",
       "0                            Braund, Mr. Owen Harris    male  22.0      1   \n",
       "1  Cumings, Mrs. John Bradley (Florence Briggs Th...  female  38.0      1   \n",
       "2                             Heikkinen, Miss. Laina  female  26.0      0   \n",
       "3       Futrelle, Mrs. Jacques Heath (Lily May Peel)  female  35.0      1   \n",
       "4                           Allen, Mr. William Henry    male  35.0      0   \n",
       "\n",
       "   Parch            Ticket     Fare Cabin Embarked  \n",
       "0      0         A/5 21171   7.2500   NaN        S  \n",
       "1      0          PC 17599  71.2833   C85        C  \n",
       "2      0  STON/O2. 3101282   7.9250   NaN        S  \n",
       "3      0            113803  53.1000  C123        S  \n",
       "4      0            373450   8.0500   NaN        S  "
      ]
     },
     "execution_count": 1,
     "metadata": {},
     "output_type": "execute_result"
    }
   ],
   "source": [
    "# МІСЦЕ ДЛЯ КОДУ\n",
    "\n",
    "import pandas as pd\n",
    "\n",
    "URL = 'https://raw.githubusercontent.com/datasciencedojo/datasets/master/titanic.csv'\n",
    "\n",
    "df = pd.read_csv(URL)\n",
    "df.head()"
   ]
  },
  {
   "cell_type": "markdown",
   "metadata": {
    "id": "NNIV6q91UW2B"
   },
   "source": [
    "### Завдання №2\n",
    "\n",
    "* Виведіть інформацію про датасет, описову статистику для кількісних змінних та для якісних змінних\n",
    "\n",
    "* побудуйте графік регресії для змінних `Survived` та `Pclass`\n"
   ]
  },
  {
   "cell_type": "code",
   "execution_count": 2,
   "metadata": {
    "id": "pfweeG1YVU_h"
   },
   "outputs": [
    {
     "name": "stdout",
     "output_type": "stream",
     "text": [
      "<class 'pandas.core.frame.DataFrame'>\n",
      "RangeIndex: 891 entries, 0 to 890\n",
      "Data columns (total 12 columns):\n",
      " #   Column       Non-Null Count  Dtype  \n",
      "---  ------       --------------  -----  \n",
      " 0   PassengerId  891 non-null    int64  \n",
      " 1   Survived     891 non-null    int64  \n",
      " 2   Pclass       891 non-null    int64  \n",
      " 3   Name         891 non-null    object \n",
      " 4   Sex          891 non-null    object \n",
      " 5   Age          714 non-null    float64\n",
      " 6   SibSp        891 non-null    int64  \n",
      " 7   Parch        891 non-null    int64  \n",
      " 8   Ticket       891 non-null    object \n",
      " 9   Fare         891 non-null    float64\n",
      " 10  Cabin        204 non-null    object \n",
      " 11  Embarked     889 non-null    object \n",
      "dtypes: float64(2), int64(5), object(5)\n",
      "memory usage: 83.7+ KB\n",
      "None\n",
      "        PassengerId    Survived      Pclass                     Name   Sex  \\\n",
      "count    891.000000  891.000000  891.000000                      891   891   \n",
      "unique          NaN         NaN         NaN                      891     2   \n",
      "top             NaN         NaN         NaN  Braund, Mr. Owen Harris  male   \n",
      "freq            NaN         NaN         NaN                        1   577   \n",
      "mean     446.000000    0.383838    2.308642                      NaN   NaN   \n",
      "std      257.353842    0.486592    0.836071                      NaN   NaN   \n",
      "min        1.000000    0.000000    1.000000                      NaN   NaN   \n",
      "25%      223.500000    0.000000    2.000000                      NaN   NaN   \n",
      "50%      446.000000    0.000000    3.000000                      NaN   NaN   \n",
      "75%      668.500000    1.000000    3.000000                      NaN   NaN   \n",
      "max      891.000000    1.000000    3.000000                      NaN   NaN   \n",
      "\n",
      "               Age       SibSp       Parch  Ticket        Fare    Cabin  \\\n",
      "count   714.000000  891.000000  891.000000     891  891.000000      204   \n",
      "unique         NaN         NaN         NaN     681         NaN      147   \n",
      "top            NaN         NaN         NaN  347082         NaN  B96 B98   \n",
      "freq           NaN         NaN         NaN       7         NaN        4   \n",
      "mean     29.699118    0.523008    0.381594     NaN   32.204208      NaN   \n",
      "std      14.526497    1.102743    0.806057     NaN   49.693429      NaN   \n",
      "min       0.420000    0.000000    0.000000     NaN    0.000000      NaN   \n",
      "25%      20.125000    0.000000    0.000000     NaN    7.910400      NaN   \n",
      "50%      28.000000    0.000000    0.000000     NaN   14.454200      NaN   \n",
      "75%      38.000000    1.000000    0.000000     NaN   31.000000      NaN   \n",
      "max      80.000000    8.000000    6.000000     NaN  512.329200      NaN   \n",
      "\n",
      "       Embarked  \n",
      "count       889  \n",
      "unique        3  \n",
      "top           S  \n",
      "freq        644  \n",
      "mean        NaN  \n",
      "std         NaN  \n",
      "min         NaN  \n",
      "25%         NaN  \n",
      "50%         NaN  \n",
      "75%         NaN  \n",
      "max         NaN  \n"
     ]
    },
    {
     "data": {
      "text/plain": [
       "<AxesSubplot: xlabel='Survived', ylabel='Pclass'>"
      ]
     },
     "execution_count": 2,
     "metadata": {},
     "output_type": "execute_result"
    },
    {
     "data": {
      "image/png": "[encoded data removed]",
      "text/plain": [
       "<Figure size 432x288 with 1 Axes>"
      ]
     },
     "metadata": {
      "needs_background": "light"
     },
     "output_type": "display_data"
    }
   ],
   "source": [
    "# МІСЦЕ ДЛЯ КОДУ\n",
    "\n",
    "import seaborn as sns\n",
    "\n",
    "# Виведіть інформацію про датасет, описову статистику для кількісних змінних та для якісних змінних\n",
    "print(df.info())\n",
    "print(df.describe(include='all'))\n",
    "\n",
    "# побудуйте графік регресії для змінних Survived та Pclass\n",
    "sns.regplot(x='Survived', y='Pclass', data=df)"
   ]
  },
  {
   "cell_type": "markdown",
   "metadata": {
    "id": "wpjg_1PvVTua"
   },
   "source": [
    "### Завдання №3\n",
    "\n",
    "* побудуйте `heatmap()` для візуального відображення пропущених значень\n",
    "* для кількісної змінної поповніть пропущені дані середнім значенням\n",
    "* для категоріальної змінної поповніть пропущені значення значенням, яке зустрічається найчастіше"
   ]
  },
  {
   "cell_type": "code",
   "execution_count": 3,
   "metadata": {
    "id": "TeNvNJdpWN7d"
   },
   "outputs": [
    {
     "ename": "NameError",
     "evalue": "name 'data' is not defined",
     "output_type": "error",
     "traceback": [
      "\u001b[0;31m---------------------------------------------------------------------------\u001b[0m",
      "\u001b[0;31mNameError\u001b[0m                                 Traceback (most recent call last)",
      "Input \u001b[0;32mIn [3]\u001b[0m, in \u001b[0;36m<cell line: 9>\u001b[0;34m()\u001b[0m\n\u001b[1;32m      6\u001b[0m sns\u001b[38;5;241m.\u001b[39mheatmap(df\u001b[38;5;241m.\u001b[39misnull())\n\u001b[1;32m      8\u001b[0m \u001b[38;5;66;03m# для кількісної змінної поповніть пропущені дані середнім значенням\u001b[39;00m\n\u001b[0;32m----> 9\u001b[0m df[\u001b[38;5;124m'\u001b[39m\u001b[38;5;124mAge\u001b[39m\u001b[38;5;124m'\u001b[39m]\u001b[38;5;241m.\u001b[39mfillna(value\u001b[38;5;241m=\u001b[39m\u001b[43mdata\u001b[49m[\u001b[38;5;124m'\u001b[39m\u001b[38;5;124mAge\u001b[39m\u001b[38;5;124m'\u001b[39m]\u001b[38;5;241m.\u001b[39mmean(), inplace\u001b[38;5;241m=\u001b[39m\u001b[38;5;28;01mTrue\u001b[39;00m)\n\u001b[1;32m     11\u001b[0m \u001b[38;5;66;03m# для категоріальної змінної поповніть пропущені значення значенням, яке зустрічається найчастіше\u001b[39;00m\n\u001b[1;32m     12\u001b[0m df[\u001b[38;5;124m'\u001b[39m\u001b[38;5;124mCabin\u001b[39m\u001b[38;5;124m'\u001b[39m]\u001b[38;5;241m.\u001b[39mfillna(value\u001b[38;5;241m=\u001b[39mdf[\u001b[38;5;124m'\u001b[39m\u001b[38;5;124mCabin\u001b[39m\u001b[38;5;124m'\u001b[39m]\u001b[38;5;241m.\u001b[39mmode()[\u001b[38;5;241m0\u001b[39m], inplace\u001b[38;5;241m=\u001b[39m\u001b[38;5;28;01mTrue\u001b[39;00m)\n",
      "\u001b[0;31mNameError\u001b[0m: name 'data' is not defined"
     ]
    },
    {
     "data": {
      "image/png": "[encoded data removed]",
      "text/plain": [
       "<Figure size 432x288 with 2 Axes>"
      ]
     },
     "metadata": {
      "needs_background": "light"
     },
     "output_type": "display_data"
    }
   ],
   "source": [
    "# МІСЦЕ ДЛЯ КОДУ\n",
    "\n",
    "import numpy as np\n",
    "\n",
    "# побудуйте heatmap() для візуального відображення пропущених значень\n",
    "sns.heatmap(df.isnull())\n",
    "\n",
    "# для кількісної змінної поповніть пропущені дані середнім значенням\n",
    "df['Age'].fillna(value=data['Age'].mean(), inplace=True)\n",
    "\n",
    "# для категоріальної змінної поповніть пропущені значення значенням, яке зустрічається найчастіше\n",
    "df['Cabin'].fillna(value=df['Cabin'].mode()[0], inplace=True)\n"
   ]
  },
  {
   "cell_type": "markdown",
   "metadata": {
    "id": "pEqKagJ3WRjS"
   },
   "source": [
    "### Завдання №4\n",
    "\n",
    "Оберіть 4 категоріальних змінних та закодуйте:\n",
    "* Змінну_1 -  за допомогою функції `LabelEncoder()`\n",
    "* Змінну_2 -  за допомогою функції `get_dummies()`\n",
    "* Змінну_3 -  за допомогою функції `OneHotEncoder()`\n",
    "* Змінну_4 -  кількістю значень відповідної категорії\n"
   ]
  },
  {
   "cell_type": "code",
   "execution_count": null,
   "metadata": {
    "id": "l2rVl_4fWSgJ"
   },
   "outputs": [],
   "source": [
    "# МІСЦЕ ДЛЯ КОДУ\n",
    "\n",
    "from sklearn.preprocessing import LabelEncoder, OneHotEncoder\n",
    "import numpy as np\n",
    "\n",
    "# Змінна_1 - за допомогою функції LabelEncoder()\n",
    "le = LabelEncoder()\n",
    "df['Pclass_LabelEncoded'] = le.fit_transform(df['Pclass'])\n",
    "\n",
    "# Змінна_2 - за допомогою функції get_dummies()\n",
    "df = pd.concat([df, pd.get_dummies(df['Sex'], prefix='Sex')], axis=1)\n",
    "\n",
    "# Змінна_3 - за допомогою функції OneHotEncoder()\n",
    "ohe = OneHotEncoder()\n",
    "ohe_result = ohe.fit_transform(df[['Cabin']])\n",
    "ohe_df = pd.DataFrame(ohe_result.toarray(), columns=ohe.get_feature_names_out(['Cabin']))\n",
    "df = pd.concat([df, ohe_df], axis=1)\n",
    "\n",
    "# Змінна_4 - кількістю значень відповідної категорії\n",
    "df['Embarked_Count'] = df['Embarked'].map(df['Embarked'].value_counts())\n"
   ]
  },
  {
   "cell_type": "markdown",
   "metadata": {
    "id": "VmjUBu_FXqa0"
   },
   "source": [
    "### Завдання №5\n",
    "Поділіть на 4 вікові групи змінну `Age`"
   ]
  },
  {
   "cell_type": "code",
   "execution_count": null,
   "metadata": {
    "id": "TwjTreWwWUcm"
   },
   "outputs": [],
   "source": [
    "# МІСЦЕ ДЛЯ КОДУ\n",
    "bins = np.linspace(df['Age'].min(), df['Age'].max(), 5)\n",
    "labels = ['Дитина', 'Молодший', 'Старший', 'Літній']\n",
    "df['Age_Group'] = pd.cut(df['Age'], bins=bins, labels=labels, include_lowest=True)"
   ]
  },
  {
   "cell_type": "markdown",
   "metadata": {
    "id": "n0GsLKbqYSpL"
   },
   "source": [
    "### Завдання №6\n",
    "\n",
    "* Створіть новий датафрейм з вихідного тільки із числових значень\n",
    "* Застосуйте $MinMax$-Нормування даних та збережіть в новий датафрейм, виведіть описову статистику\n",
    "* Застосуйте $Standart Scaling$ даних та збережіть в новий датафрейм, виведіть описову статистику\n",
    "* Застосуйте $L_1$-Нормування та збережіть в новий датафрейм, виведіть описову статистику\n"
   ]
  },
  {
   "cell_type": "code",
   "execution_count": null,
   "metadata": {
    "id": "F25Xs8GXWWsq"
   },
   "outputs": [],
   "source": [
    "# МІСЦЕ ДЛЯ КОДУ\n",
    "\n",
    "from sklearn.preprocessing import MinMaxScaler, StandardScaler, Normalizer\n",
    "\n",
    "# Створіть новий датафрейм з вихідного тільки із числових значень\n",
    "df_numeric = df.select_dtypes(include=[np.number])\n",
    "\n",
    "scaler = MinMaxScaler()\n",
    "df_numeric_scaled = pd.DataFrame(scaler.fit_transform(df_numeric), columns=df_numeric.columns)\n",
    "print(df_numeric_scaled.describe())\n",
    "\n",
    "# ініціалізуємо StandardScaler, застосовуємо його до даних та виводимо описову статистику\n",
    "scaler = StandardScaler()\n",
    "df_numeric_scaled = pd.DataFrame(scaler.fit_transform(df_numeric), columns=df_numeric.columns)\n",
    "print(df_numeric_scaled.describe())\n",
    "\n",
    "# ініціалізуємо Normalizer з L1 нормою, застосовуємо його до даних та виводимо описову статистику\n",
    "scaler = Normalizer(norm='l1')\n",
    "df_numeric_scaled = pd.DataFrame(scaler.fit_transform(df_numeric), columns=df_numeric.columns)\n",
    "print(df_numeric_scaled.describe())\n"
   ]
  },
  {
   "cell_type": "code",
   "execution_count": null,
   "metadata": {},
   "outputs": [],
   "source": []
  }
 ],
 "metadata": {
  "colab": {
   "name": "КП№4_Препроцесінг_даних.ipynb",
   "provenance": []
  },
  "kernelspec": {
   "display_name": "Python 3 (ipykernel)",
   "language": "python",
   "name": "python3"
  },
  "language_info": {
   "codemirror_mode": {
    "name": "ipython",
    "version": 3
   },
   "file_extension": ".py",
   "mimetype": "text/x-python",
   "name": "python",
   "nbconvert_exporter": "python",
   "pygments_lexer": "ipython3",
   "version": "3.10.8"
  }
 },
 "nbformat": 4,
 "nbformat_minor": 1
}
