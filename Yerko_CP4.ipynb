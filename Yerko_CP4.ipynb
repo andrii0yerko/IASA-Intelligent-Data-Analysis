{
 "cells": [
  {
   "cell_type": "markdown",
   "metadata": {
    "id": "wNhBviOWN-YW"
   },
   "source": [
    "<center><font size=\"6\"><b>Комп'ютерний практикум 4.\n",
    "\n",
    "Препроцесінг даних</b></font></center>"
   ]
  },
  {
   "cell_type": "markdown",
   "metadata": {
    "id": "U0xZilE1TFpg"
   },
   "source": [
    "##<center>__Самостійні завдання__</center>\n",
    "\n",
    "> Скопіювати блок самостійних завдань в окремий файл ***LastName_CP4.ipynb***\n",
    "\n",
    "> Інсталюйте необхідні пакети бібліотек Python"
   ]
  },
  {
   "cell_type": "markdown",
   "metadata": {
    "id": "n2DcwcrSULJA"
   },
   "source": [
    "### Завдання №1\n",
    "\n",
    "Завантажте дані з ресурсу\n",
    "\n",
    "URL = 'https://raw.githubusercontent.com/datasciencedojo/datasets/master/titanic.csv'"
   ]
  },
  {
   "cell_type": "code",
   "execution_count": 1,
   "metadata": {
    "id": "U43QSaHHTFOL"
   },
   "outputs": [
    {
     "data": {
      "text/html": [
       "<div>\n",
       "<style scoped>\n",
       "    .dataframe tbody tr th:only-of-type {\n",
       "        vertical-align: middle;\n",
       "    }\n",
       "\n",
       "    .dataframe tbody tr th {\n",
       "        vertical-align: top;\n",
       "    }\n",
       "\n",
       "    .dataframe thead th {\n",
       "        text-align: right;\n",
       "    }\n",
       "</style>\n",
       "<table border=\"1\" class=\"dataframe\">\n",
       "  <thead>\n",
       "    <tr style=\"text-align: right;\">\n",
       "      <th></th>\n",
       "      <th>PassengerId</th>\n",
       "      <th>Survived</th>\n",
       "      <th>Pclass</th>\n",
       "      <th>Name</th>\n",
       "      <th>Sex</th>\n",
       "      <th>Age</th>\n",
       "      <th>SibSp</th>\n",
       "      <th>Parch</th>\n",
       "      <th>Ticket</th>\n",
       "      <th>Fare</th>\n",
       "      <th>Cabin</th>\n",
       "      <th>Embarked</th>\n",
       "    </tr>\n",
       "  </thead>\n",
       "  <tbody>\n",
       "    <tr>\n",
       "      <th>0</th>\n",
       "      <td>1</td>\n",
       "      <td>0</td>\n",
       "      <td>3</td>\n",
       "      <td>Braund, Mr. Owen Harris</td>\n",
       "      <td>male</td>\n",
       "      <td>22.0</td>\n",
       "      <td>1</td>\n",
       "      <td>0</td>\n",
       "      <td>A/5 21171</td>\n",
       "      <td>7.2500</td>\n",
       "      <td>NaN</td>\n",
       "      <td>S</td>\n",
       "    </tr>\n",
       "    <tr>\n",
       "      <th>1</th>\n",
       "      <td>2</td>\n",
       "      <td>1</td>\n",
       "      <td>1</td>\n",
       "      <td>Cumings, Mrs. John Bradley (Florence Briggs Th...</td>\n",
       "      <td>female</td>\n",
       "      <td>38.0</td>\n",
       "      <td>1</td>\n",
       "      <td>0</td>\n",
       "      <td>PC 17599</td>\n",
       "      <td>71.2833</td>\n",
       "      <td>C85</td>\n",
       "      <td>C</td>\n",
       "    </tr>\n",
       "    <tr>\n",
       "      <th>2</th>\n",
       "      <td>3</td>\n",
       "      <td>1</td>\n",
       "      <td>3</td>\n",
       "      <td>Heikkinen, Miss. Laina</td>\n",
       "      <td>female</td>\n",
       "      <td>26.0</td>\n",
       "      <td>0</td>\n",
       "      <td>0</td>\n",
       "      <td>STON/O2. 3101282</td>\n",
       "      <td>7.9250</td>\n",
       "      <td>NaN</td>\n",
       "      <td>S</td>\n",
       "    </tr>\n",
       "    <tr>\n",
       "      <th>3</th>\n",
       "      <td>4</td>\n",
       "      <td>1</td>\n",
       "      <td>1</td>\n",
       "      <td>Futrelle, Mrs. Jacques Heath (Lily May Peel)</td>\n",
       "      <td>female</td>\n",
       "      <td>35.0</td>\n",
       "      <td>1</td>\n",
       "      <td>0</td>\n",
       "      <td>113803</td>\n",
       "      <td>53.1000</td>\n",
       "      <td>C123</td>\n",
       "      <td>S</td>\n",
       "    </tr>\n",
       "    <tr>\n",
       "      <th>4</th>\n",
       "      <td>5</td>\n",
       "      <td>0</td>\n",
       "      <td>3</td>\n",
       "      <td>Allen, Mr. William Henry</td>\n",
       "      <td>male</td>\n",
       "      <td>35.0</td>\n",
       "      <td>0</td>\n",
       "      <td>0</td>\n",
       "      <td>373450</td>\n",
       "      <td>8.0500</td>\n",
       "      <td>NaN</td>\n",
       "      <td>S</td>\n",
       "    </tr>\n",
       "  </tbody>\n",
       "</table>\n",
       "</div>"
      ],
      "text/plain": [
       "   PassengerId  Survived  Pclass  \\\n",
       "0            1         0       3   \n",
       "1            2         1       1   \n",
       "2            3         1       3   \n",
       "3            4         1       1   \n",
       "4            5         0       3   \n",
       "\n",
       "                                                Name     Sex   Age  SibSp  \\\n",
       "0                            Braund, Mr. Owen Harris    male  22.0      1   \n",
       "1  Cumings, Mrs. John Bradley (Florence Briggs Th...  female  38.0      1   \n",
       "2                             Heikkinen, Miss. Laina  female  26.0      0   \n",
       "3       Futrelle, Mrs. Jacques Heath (Lily May Peel)  female  35.0      1   \n",
       "4                           Allen, Mr. William Henry    male  35.0      0   \n",
       "\n",
       "   Parch            Ticket     Fare Cabin Embarked  \n",
       "0      0         A/5 21171   7.2500   NaN        S  \n",
       "1      0          PC 17599  71.2833   C85        C  \n",
       "2      0  STON/O2. 3101282   7.9250   NaN        S  \n",
       "3      0            113803  53.1000  C123        S  \n",
       "4      0            373450   8.0500   NaN        S  "
      ]
     },
     "execution_count": 1,
     "metadata": {},
     "output_type": "execute_result"
    }
   ],
   "source": [
    "# МІСЦЕ ДЛЯ КОДУ\n",
    "\n",
    "import pandas as pd\n",
    "\n",
    "URL = 'https://raw.githubusercontent.com/datasciencedojo/datasets/master/titanic.csv'\n",
    "\n",
    "df = pd.read_csv(URL)\n",
    "df.head()"
   ]
  },
  {
   "cell_type": "markdown",
   "metadata": {
    "id": "NNIV6q91UW2B"
   },
   "source": [
    "### Завдання №2\n",
    "\n",
    "* Виведіть інформацію про датасет, описову статистику для кількісних змінних та для якісних змінних\n",
    "\n",
    "* побудуйте графік регресії для змінних `Survived` та `Pclass`\n"
   ]
  },
  {
   "cell_type": "code",
   "execution_count": 2,
   "metadata": {
    "id": "pfweeG1YVU_h"
   },
   "outputs": [
    {
     "name": "stdout",
     "output_type": "stream",
     "text": [
      "<class 'pandas.core.frame.DataFrame'>\n",
      "RangeIndex: 891 entries, 0 to 890\n",
      "Data columns (total 12 columns):\n",
      " #   Column       Non-Null Count  Dtype  \n",
      "---  ------       --------------  -----  \n",
      " 0   PassengerId  891 non-null    int64  \n",
      " 1   Survived     891 non-null    int64  \n",
      " 2   Pclass       891 non-null    int64  \n",
      " 3   Name         891 non-null    object \n",
      " 4   Sex          891 non-null    object \n",
      " 5   Age          714 non-null    float64\n",
      " 6   SibSp        891 non-null    int64  \n",
      " 7   Parch        891 non-null    int64  \n",
      " 8   Ticket       891 non-null    object \n",
      " 9   Fare         891 non-null    float64\n",
      " 10  Cabin        204 non-null    object \n",
      " 11  Embarked     889 non-null    object \n",
      "dtypes: float64(2), int64(5), object(5)\n",
      "memory usage: 83.7+ KB\n",
      "None\n",
      "        PassengerId    Survived      Pclass                     Name   Sex  \\\n",
      "count    891.000000  891.000000  891.000000                      891   891   \n",
      "unique          NaN         NaN         NaN                      891     2   \n",
      "top             NaN         NaN         NaN  Braund, Mr. Owen Harris  male   \n",
      "freq            NaN         NaN         NaN                        1   577   \n",
      "mean     446.000000    0.383838    2.308642                      NaN   NaN   \n",
      "std      257.353842    0.486592    0.836071                      NaN   NaN   \n",
      "min        1.000000    0.000000    1.000000                      NaN   NaN   \n",
      "25%      223.500000    0.000000    2.000000                      NaN   NaN   \n",
      "50%      446.000000    0.000000    3.000000                      NaN   NaN   \n",
      "75%      668.500000    1.000000    3.000000                      NaN   NaN   \n",
      "max      891.000000    1.000000    3.000000                      NaN   NaN   \n",
      "\n",
      "               Age       SibSp       Parch  Ticket        Fare    Cabin  \\\n",
      "count   714.000000  891.000000  891.000000     891  891.000000      204   \n",
      "unique         NaN         NaN         NaN     681         NaN      147   \n",
      "top            NaN         NaN         NaN  347082         NaN  B96 B98   \n",
      "freq           NaN         NaN         NaN       7         NaN        4   \n",
      "mean     29.699118    0.523008    0.381594     NaN   32.204208      NaN   \n",
      "std      14.526497    1.102743    0.806057     NaN   49.693429      NaN   \n",
      "min       0.420000    0.000000    0.000000     NaN    0.000000      NaN   \n",
      "25%      20.125000    0.000000    0.000000     NaN    7.910400      NaN   \n",
      "50%      28.000000    0.000000    0.000000     NaN   14.454200      NaN   \n",
      "75%      38.000000    1.000000    0.000000     NaN   31.000000      NaN   \n",
      "max      80.000000    8.000000    6.000000     NaN  512.329200      NaN   \n",
      "\n",
      "       Embarked  \n",
      "count       889  \n",
      "unique        3  \n",
      "top           S  \n",
      "freq        644  \n",
      "mean        NaN  \n",
      "std         NaN  \n",
      "min         NaN  \n",
      "25%         NaN  \n",
      "50%         NaN  \n",
      "75%         NaN  \n",
      "max         NaN  \n"
     ]
    },
    {
     "data": {
      "text/plain": [
       "<AxesSubplot: xlabel='Survived', ylabel='Pclass'>"
      ]
     },
     "execution_count": 2,
     "metadata": {},
     "output_type": "execute_result"
    },
    {
     "data": {
      "image/png": "[encoded data removed]",
      "text/plain": [
       "<Figure size 432x288 with 1 Axes>"
      ]
     },
     "metadata": {
      "needs_background": "light"
     },
     "output_type": "display_data"
    }
   ],
   "source": [
    "# МІСЦЕ ДЛЯ КОДУ\n",
    "\n",
    "import seaborn as sns\n",
    "\n",
    "# Виведіть інформацію про датасет, описову статистику для кількісних змінних та для якісних змінних\n",
    "print(df.info())\n",
    "print(df.describe(include='all'))\n",
    "\n",
    "# побудуйте графік регресії для змінних Survived та Pclass\n",
    "sns.regplot(x='Survived', y='Pclass', data=df)"
   ]
  },
  {
   "cell_type": "markdown",
   "metadata": {
    "id": "wpjg_1PvVTua"
   },
   "source": [
    "### Завдання №3\n",
    "\n",
    "* побудуйте `heatmap()` для візуального відображення пропущених значень\n",
    "* для кількісної змінної поповніть пропущені дані середнім значенням\n",
    "* для категоріальної змінної поповніть пропущені значення значенням, яке зустрічається найчастіше"
   ]
  },
  {
   "cell_type": "code",
   "execution_count": 3,
   "metadata": {
    "id": "TeNvNJdpWN7d"
   },
   "outputs": [
    {
     "data": {
      "image/png": "[encoded data removed]",
      "text/plain": [
       "<Figure size 432x288 with 2 Axes>"
      ]
     },
     "metadata": {
      "needs_background": "light"
     },
     "output_type": "display_data"
    }
   ],
   "source": [
    "# МІСЦЕ ДЛЯ КОДУ\n",
    "\n",
    "import numpy as np\n",
    "\n",
    "# побудуйте heatmap() для візуального відображення пропущених значень\n",
    "sns.heatmap(df.isnull())\n",
    "\n",
    "# для кількісної змінної поповніть пропущені дані середнім значенням\n",
    "df['Age'].fillna(value=df['Age'].mean(), inplace=True)\n",
    "\n",
    "# для категоріальної змінної поповніть пропущені значення значенням, яке зустрічається найчастіше\n",
    "df['Cabin'].fillna(value=df['Cabin'].mode()[0], inplace=True)\n"
   ]
  },
  {
   "cell_type": "markdown",
   "metadata": {
    "id": "pEqKagJ3WRjS"
   },
   "source": [
    "### Завдання №4\n",
    "\n",
    "Оберіть 4 категоріальних змінних та закодуйте:\n",
    "* Змінну_1 -  за допомогою функції `LabelEncoder()`\n",
    "* Змінну_2 -  за допомогою функції `get_dummies()`\n",
    "* Змінну_3 -  за допомогою функції `OneHotEncoder()`\n",
    "* Змінну_4 -  кількістю значень відповідної категорії\n"
   ]
  },
  {
   "cell_type": "code",
   "execution_count": 4,
   "metadata": {
    "id": "l2rVl_4fWSgJ"
   },
   "outputs": [],
   "source": [
    "# МІСЦЕ ДЛЯ КОДУ\n",
    "\n",
    "from sklearn.preprocessing import LabelEncoder, OneHotEncoder\n",
    "import numpy as np\n",
    "\n",
    "# Змінна_1 - за допомогою функції LabelEncoder()\n",
    "le = LabelEncoder()\n",
    "df['Pclass_LabelEncoded'] = le.fit_transform(df['Pclass'])\n",
    "\n",
    "# Змінна_2 - за допомогою функції get_dummies()\n",
    "df = pd.concat([df, pd.get_dummies(df['Sex'], prefix='Sex')], axis=1)\n",
    "\n",
    "# Змінна_3 - за допомогою функції OneHotEncoder()\n",
    "ohe = OneHotEncoder()\n",
    "ohe_result = ohe.fit_transform(df[['Cabin']])\n",
    "ohe_df = pd.DataFrame(ohe_result.toarray(), columns=ohe.get_feature_names_out(['Cabin']))\n",
    "df = pd.concat([df, ohe_df], axis=1)\n",
    "\n",
    "# Змінна_4 - кількістю значень відповідної категорії\n",
    "df['Embarked_Count'] = df['Embarked'].map(df['Embarked'].value_counts())\n"
   ]
  },
  {
   "cell_type": "markdown",
   "metadata": {
    "id": "VmjUBu_FXqa0"
   },
   "source": [
    "### Завдання №5\n",
    "Поділіть на 4 вікові групи змінну `Age`"
   ]
  },
  {
   "cell_type": "code",
   "execution_count": 5,
   "metadata": {
    "id": "TwjTreWwWUcm"
   },
   "outputs": [],
   "source": [
    "# МІСЦЕ ДЛЯ КОДУ\n",
    "bins = np.linspace(df['Age'].min(), df['Age'].max(), 5)\n",
    "labels = ['Дитина', 'Молодший', 'Старший', 'Літній']\n",
    "df['Age_Group'] = pd.cut(df['Age'], bins=bins, labels=labels, include_lowest=True)"
   ]
  },
  {
   "cell_type": "markdown",
   "metadata": {
    "id": "n0GsLKbqYSpL"
   },
   "source": [
    "### Завдання №6\n",
    "\n",
    "* Створіть новий датафрейм з вихідного тільки із числових значень\n",
    "* Застосуйте $MinMax$-Нормування даних та збережіть в новий датафрейм, виведіть описову статистику\n",
    "* Застосуйте $Standart Scaling$ даних та збережіть в новий датафрейм, виведіть описову статистику\n",
    "* Застосуйте $L_1$-Нормування та збережіть в новий датафрейм, виведіть описову статистику\n"
   ]
  },
  {
   "cell_type": "code",
   "execution_count": 6,
   "metadata": {
    "id": "F25Xs8GXWWsq"
   },
   "outputs": [
    {
     "name": "stdout",
     "output_type": "stream",
     "text": [
      "       PassengerId    Survived      Pclass         Age       SibSp  \\\n",
      "count   891.000000  891.000000  891.000000  891.000000  891.000000   \n",
      "mean      0.500000    0.383838    0.654321    0.367921    0.065376   \n",
      "std       0.289162    0.486592    0.418036    0.163383    0.137843   \n",
      "min       0.000000    0.000000    0.000000    0.000000    0.000000   \n",
      "25%       0.250000    0.000000    0.500000    0.271174    0.000000   \n",
      "50%       0.500000    0.000000    1.000000    0.367921    0.000000   \n",
      "75%       0.750000    1.000000    1.000000    0.434531    0.125000   \n",
      "max       1.000000    1.000000    1.000000    1.000000    1.000000   \n",
      "\n",
      "            Parch        Fare  Pclass_LabelEncoded  Sex_female    Sex_male  \\\n",
      "count  891.000000  891.000000           891.000000  891.000000  891.000000   \n",
      "mean     0.063599    0.062858             0.654321    0.352413    0.647587   \n",
      "std      0.134343    0.096995             0.418036    0.477990    0.477990   \n",
      "min      0.000000    0.000000             0.000000    0.000000    0.000000   \n",
      "25%      0.000000    0.015440             0.500000    0.000000    0.000000   \n",
      "50%      0.000000    0.028213             1.000000    0.000000    1.000000   \n",
      "75%      0.000000    0.060508             1.000000    1.000000    1.000000   \n",
      "max      1.000000    1.000000             1.000000    1.000000    1.000000   \n",
      "\n",
      "       ...  Cabin_F E69  Cabin_F G63  Cabin_F G73    Cabin_F2   Cabin_F33  \\\n",
      "count  ...   891.000000   891.000000   891.000000  891.000000  891.000000   \n",
      "mean   ...     0.001122     0.001122     0.002245    0.003367    0.003367   \n",
      "std    ...     0.033501     0.033501     0.047351    0.057961    0.057961   \n",
      "min    ...     0.000000     0.000000     0.000000    0.000000    0.000000   \n",
      "25%    ...     0.000000     0.000000     0.000000    0.000000    0.000000   \n",
      "50%    ...     0.000000     0.000000     0.000000    0.000000    0.000000   \n",
      "75%    ...     0.000000     0.000000     0.000000    0.000000    0.000000   \n",
      "max    ...     1.000000     1.000000     1.000000    1.000000    1.000000   \n",
      "\n",
      "        Cabin_F38    Cabin_F4    Cabin_G6     Cabin_T  Embarked_Count  \n",
      "count  891.000000  891.000000  891.000000  891.000000      889.000000  \n",
      "mean     0.001122    0.002245    0.004489    0.001122        0.754739  \n",
      "std      0.033501    0.047351    0.066890    0.033501        0.399782  \n",
      "min      0.000000    0.000000    0.000000    0.000000        0.000000  \n",
      "25%      0.000000    0.000000    0.000000    0.000000        0.160494  \n",
      "50%      0.000000    0.000000    0.000000    0.000000        1.000000  \n",
      "75%      0.000000    0.000000    0.000000    0.000000        1.000000  \n",
      "max      1.000000    1.000000    1.000000    1.000000        1.000000  \n",
      "\n",
      "[8 rows x 158 columns]\n",
      "        PassengerId      Survived        Pclass           Age         SibSp  \\\n",
      "count  8.910000e+02  8.910000e+02  8.910000e+02  8.910000e+02  8.910000e+02   \n",
      "mean   6.379733e-17  3.987333e-17 -8.772133e-17  2.232906e-16  4.386066e-17   \n",
      "std    1.000562e+00  1.000562e+00  1.000562e+00  1.000562e+00  1.000562e+00   \n",
      "min   -1.730108e+00 -7.892723e-01 -1.566107e+00 -2.253155e+00 -4.745452e-01   \n",
      "25%   -8.650540e-01 -7.892723e-01 -3.693648e-01 -5.924806e-01 -4.745452e-01   \n",
      "50%    0.000000e+00 -7.892723e-01  8.273772e-01  0.000000e+00 -4.745452e-01   \n",
      "75%    8.650540e-01  1.266990e+00  8.273772e-01  4.079260e-01  4.327934e-01   \n",
      "max    1.730108e+00  1.266990e+00  8.273772e-01  3.870872e+00  6.784163e+00   \n",
      "\n",
      "              Parch          Fare  Pclass_LabelEncoded    Sex_female  \\\n",
      "count  8.910000e+02  8.910000e+02         8.910000e+02  8.910000e+02   \n",
      "mean   5.382900e-17  3.987333e-18        -8.772133e-17  3.987333e-17   \n",
      "std    1.000562e+00  1.000562e+00         1.000562e+00  1.000562e+00   \n",
      "min   -4.736736e-01 -6.484217e-01        -1.566107e+00 -7.376951e-01   \n",
      "25%   -4.736736e-01 -4.891482e-01        -3.693648e-01 -7.376951e-01   \n",
      "50%   -4.736736e-01 -3.573909e-01         8.273772e-01 -7.376951e-01   \n",
      "75%   -4.736736e-01 -2.424635e-02         8.273772e-01  1.355574e+00   \n",
      "max    6.974147e+00  9.667167e+00         8.273772e-01  1.355574e+00   \n",
      "\n",
      "           Sex_male  ...  Cabin_F E69  Cabin_F G63   Cabin_F G73  \\\n",
      "count  8.910000e+02  ...   891.000000   891.000000  8.910000e+02   \n",
      "mean  -1.156327e-16  ...     0.000000     0.000000  5.980999e-18   \n",
      "std    1.000562e+00  ...     1.000562     1.000562  1.000562e+00   \n",
      "min   -1.355574e+00  ...    -0.033520    -0.033520 -4.743120e-02   \n",
      "25%   -1.355574e+00  ...    -0.033520    -0.033520 -4.743120e-02   \n",
      "50%    7.376951e-01  ...    -0.033520    -0.033520 -4.743120e-02   \n",
      "75%    7.376951e-01  ...    -0.033520    -0.033520 -4.743120e-02   \n",
      "max    7.376951e-01  ...    29.832868    29.832868  2.108317e+01   \n",
      "\n",
      "           Cabin_F2     Cabin_F33   Cabin_F38      Cabin_F4      Cabin_G6  \\\n",
      "count  8.910000e+02  8.910000e+02  891.000000  8.910000e+02  8.910000e+02   \n",
      "mean  -4.784800e-17 -4.186700e-17    0.000000  2.591766e-17  3.987333e-18   \n",
      "std    1.000562e+00  1.000562e+00    1.000562  1.000562e+00  1.000562e+00   \n",
      "min   -5.812382e-02 -5.812382e-02   -0.033520 -4.743120e-02 -6.715343e-02   \n",
      "25%   -5.812382e-02 -5.812382e-02   -0.033520 -4.743120e-02 -6.715343e-02   \n",
      "50%   -5.812382e-02 -5.812382e-02   -0.033520 -4.743120e-02 -6.715343e-02   \n",
      "75%   -5.812382e-02 -5.812382e-02   -0.033520 -4.743120e-02 -6.715343e-02   \n",
      "max    1.720465e+01  1.720465e+01   29.832868  2.108317e+01  1.489127e+01   \n",
      "\n",
      "          Cabin_T  Embarked_Count  \n",
      "count  891.000000    8.890000e+02  \n",
      "mean     0.000000   -1.278817e-16  \n",
      "std      1.000562    1.000563e+00  \n",
      "min     -0.033520   -1.888937e+00  \n",
      "25%     -0.033520   -1.487258e+00  \n",
      "50%     -0.033520    6.138315e-01  \n",
      "75%     -0.033520    6.138315e-01  \n",
      "max     29.832868    6.138315e-01  \n",
      "\n",
      "[8 rows x 158 columns]\n"
     ]
    },
    {
     "ename": "ValueError",
     "evalue": "Input X contains NaN.\nNormalizer does not accept missing values encoded as NaN natively. For supervised learning, you might want to consider sklearn.ensemble.HistGradientBoostingClassifier and Regressor which accept missing values encoded as NaNs natively. Alternatively, it is possible to preprocess the data, for instance by using an imputer transformer in a pipeline or drop samples with missing values. See https://scikit-learn.org/stable/modules/impute.html You can find a list of all estimators that handle NaN values at the following page: https://scikit-learn.org/stable/modules/impute.html#estimators-that-handle-nan-values",
     "output_type": "error",
     "traceback": [
      "\u001b[0;31m---------------------------------------------------------------------------\u001b[0m",
      "\u001b[0;31mValueError\u001b[0m                                Traceback (most recent call last)",
      "Input \u001b[0;32mIn [6]\u001b[0m, in \u001b[0;36m<cell line: 19>\u001b[0;34m()\u001b[0m\n\u001b[1;32m     17\u001b[0m \u001b[38;5;66;03m# ініціалізуємо Normalizer з L1 нормою, застосовуємо його до даних та виводимо описову статистику\u001b[39;00m\n\u001b[1;32m     18\u001b[0m scaler \u001b[38;5;241m=\u001b[39m Normalizer(norm\u001b[38;5;241m=\u001b[39m\u001b[38;5;124m'\u001b[39m\u001b[38;5;124ml1\u001b[39m\u001b[38;5;124m'\u001b[39m)\n\u001b[0;32m---> 19\u001b[0m df_numeric_scaled \u001b[38;5;241m=\u001b[39m pd\u001b[38;5;241m.\u001b[39mDataFrame(\u001b[43mscaler\u001b[49m\u001b[38;5;241;43m.\u001b[39;49m\u001b[43mfit_transform\u001b[49m\u001b[43m(\u001b[49m\u001b[43mdf_numeric\u001b[49m\u001b[43m)\u001b[49m, columns\u001b[38;5;241m=\u001b[39mdf_numeric\u001b[38;5;241m.\u001b[39mcolumns)\n\u001b[1;32m     20\u001b[0m \u001b[38;5;28mprint\u001b[39m(df_numeric_scaled\u001b[38;5;241m.\u001b[39mdescribe())\n",
      "File \u001b[0;32m~/.local/lib/python3.10/site-packages/sklearn/utils/_set_output.py:142\u001b[0m, in \u001b[0;36m_wrap_method_output.<locals>.wrapped\u001b[0;34m(self, X, *args, **kwargs)\u001b[0m\n\u001b[1;32m    140\u001b[0m \u001b[38;5;129m@wraps\u001b[39m(f)\n\u001b[1;32m    141\u001b[0m \u001b[38;5;28;01mdef\u001b[39;00m \u001b[38;5;21mwrapped\u001b[39m(\u001b[38;5;28mself\u001b[39m, X, \u001b[38;5;241m*\u001b[39margs, \u001b[38;5;241m*\u001b[39m\u001b[38;5;241m*\u001b[39mkwargs):\n\u001b[0;32m--> 142\u001b[0m     data_to_wrap \u001b[38;5;241m=\u001b[39m \u001b[43mf\u001b[49m\u001b[43m(\u001b[49m\u001b[38;5;28;43mself\u001b[39;49m\u001b[43m,\u001b[49m\u001b[43m \u001b[49m\u001b[43mX\u001b[49m\u001b[43m,\u001b[49m\u001b[43m \u001b[49m\u001b[38;5;241;43m*\u001b[39;49m\u001b[43margs\u001b[49m\u001b[43m,\u001b[49m\u001b[43m \u001b[49m\u001b[38;5;241;43m*\u001b[39;49m\u001b[38;5;241;43m*\u001b[39;49m\u001b[43mkwargs\u001b[49m\u001b[43m)\u001b[49m\n\u001b[1;32m    143\u001b[0m     \u001b[38;5;28;01mif\u001b[39;00m \u001b[38;5;28misinstance\u001b[39m(data_to_wrap, \u001b[38;5;28mtuple\u001b[39m):\n\u001b[1;32m    144\u001b[0m         \u001b[38;5;66;03m# only wrap the first output for cross decomposition\u001b[39;00m\n\u001b[1;32m    145\u001b[0m         \u001b[38;5;28;01mreturn\u001b[39;00m (\n\u001b[1;32m    146\u001b[0m             _wrap_data_with_container(method, data_to_wrap[\u001b[38;5;241m0\u001b[39m], X, \u001b[38;5;28mself\u001b[39m),\n\u001b[1;32m    147\u001b[0m             \u001b[38;5;241m*\u001b[39mdata_to_wrap[\u001b[38;5;241m1\u001b[39m:],\n\u001b[1;32m    148\u001b[0m         )\n",
      "File \u001b[0;32m~/.local/lib/python3.10/site-packages/sklearn/base.py:859\u001b[0m, in \u001b[0;36mTransformerMixin.fit_transform\u001b[0;34m(self, X, y, **fit_params)\u001b[0m\n\u001b[1;32m    855\u001b[0m \u001b[38;5;66;03m# non-optimized default implementation; override when a better\u001b[39;00m\n\u001b[1;32m    856\u001b[0m \u001b[38;5;66;03m# method is possible for a given clustering algorithm\u001b[39;00m\n\u001b[1;32m    857\u001b[0m \u001b[38;5;28;01mif\u001b[39;00m y \u001b[38;5;129;01mis\u001b[39;00m \u001b[38;5;28;01mNone\u001b[39;00m:\n\u001b[1;32m    858\u001b[0m     \u001b[38;5;66;03m# fit method of arity 1 (unsupervised transformation)\u001b[39;00m\n\u001b[0;32m--> 859\u001b[0m     \u001b[38;5;28;01mreturn\u001b[39;00m \u001b[38;5;28;43mself\u001b[39;49m\u001b[38;5;241;43m.\u001b[39;49m\u001b[43mfit\u001b[49m\u001b[43m(\u001b[49m\u001b[43mX\u001b[49m\u001b[43m,\u001b[49m\u001b[43m \u001b[49m\u001b[38;5;241;43m*\u001b[39;49m\u001b[38;5;241;43m*\u001b[39;49m\u001b[43mfit_params\u001b[49m\u001b[43m)\u001b[49m\u001b[38;5;241m.\u001b[39mtransform(X)\n\u001b[1;32m    860\u001b[0m \u001b[38;5;28;01melse\u001b[39;00m:\n\u001b[1;32m    861\u001b[0m     \u001b[38;5;66;03m# fit method of arity 2 (supervised transformation)\u001b[39;00m\n\u001b[1;32m    862\u001b[0m     \u001b[38;5;28;01mreturn\u001b[39;00m \u001b[38;5;28mself\u001b[39m\u001b[38;5;241m.\u001b[39mfit(X, y, \u001b[38;5;241m*\u001b[39m\u001b[38;5;241m*\u001b[39mfit_params)\u001b[38;5;241m.\u001b[39mtransform(X)\n",
      "File \u001b[0;32m~/.local/lib/python3.10/site-packages/sklearn/preprocessing/_data.py:1966\u001b[0m, in \u001b[0;36mNormalizer.fit\u001b[0;34m(self, X, y)\u001b[0m\n\u001b[1;32m   1947\u001b[0m \u001b[38;5;124;03m\"\"\"Only validates estimator's parameters.\u001b[39;00m\n\u001b[1;32m   1948\u001b[0m \n\u001b[1;32m   1949\u001b[0m \u001b[38;5;124;03mThis method allows to: (i) validate the estimator's parameters and\u001b[39;00m\n\u001b[0;32m   (...)\u001b[0m\n\u001b[1;32m   1963\u001b[0m \u001b[38;5;124;03m    Fitted transformer.\u001b[39;00m\n\u001b[1;32m   1964\u001b[0m \u001b[38;5;124;03m\"\"\"\u001b[39;00m\n\u001b[1;32m   1965\u001b[0m \u001b[38;5;28mself\u001b[39m\u001b[38;5;241m.\u001b[39m_validate_params()\n\u001b[0;32m-> 1966\u001b[0m \u001b[38;5;28;43mself\u001b[39;49m\u001b[38;5;241;43m.\u001b[39;49m\u001b[43m_validate_data\u001b[49m\u001b[43m(\u001b[49m\u001b[43mX\u001b[49m\u001b[43m,\u001b[49m\u001b[43m \u001b[49m\u001b[43maccept_sparse\u001b[49m\u001b[38;5;241;43m=\u001b[39;49m\u001b[38;5;124;43m\"\u001b[39;49m\u001b[38;5;124;43mcsr\u001b[39;49m\u001b[38;5;124;43m\"\u001b[39;49m\u001b[43m)\u001b[49m\n\u001b[1;32m   1967\u001b[0m \u001b[38;5;28;01mreturn\u001b[39;00m \u001b[38;5;28mself\u001b[39m\n",
      "File \u001b[0;32m~/.local/lib/python3.10/site-packages/sklearn/base.py:546\u001b[0m, in \u001b[0;36mBaseEstimator._validate_data\u001b[0;34m(self, X, y, reset, validate_separately, **check_params)\u001b[0m\n\u001b[1;32m    544\u001b[0m     \u001b[38;5;28;01mraise\u001b[39;00m \u001b[38;5;167;01mValueError\u001b[39;00m(\u001b[38;5;124m\"\u001b[39m\u001b[38;5;124mValidation should be done on X, y or both.\u001b[39m\u001b[38;5;124m\"\u001b[39m)\n\u001b[1;32m    545\u001b[0m \u001b[38;5;28;01melif\u001b[39;00m \u001b[38;5;129;01mnot\u001b[39;00m no_val_X \u001b[38;5;129;01mand\u001b[39;00m no_val_y:\n\u001b[0;32m--> 546\u001b[0m     X \u001b[38;5;241m=\u001b[39m \u001b[43mcheck_array\u001b[49m\u001b[43m(\u001b[49m\u001b[43mX\u001b[49m\u001b[43m,\u001b[49m\u001b[43m \u001b[49m\u001b[43minput_name\u001b[49m\u001b[38;5;241;43m=\u001b[39;49m\u001b[38;5;124;43m\"\u001b[39;49m\u001b[38;5;124;43mX\u001b[39;49m\u001b[38;5;124;43m\"\u001b[39;49m\u001b[43m,\u001b[49m\u001b[43m \u001b[49m\u001b[38;5;241;43m*\u001b[39;49m\u001b[38;5;241;43m*\u001b[39;49m\u001b[43mcheck_params\u001b[49m\u001b[43m)\u001b[49m\n\u001b[1;32m    547\u001b[0m     out \u001b[38;5;241m=\u001b[39m X\n\u001b[1;32m    548\u001b[0m \u001b[38;5;28;01melif\u001b[39;00m no_val_X \u001b[38;5;129;01mand\u001b[39;00m \u001b[38;5;129;01mnot\u001b[39;00m no_val_y:\n",
      "File \u001b[0;32m~/.local/lib/python3.10/site-packages/sklearn/utils/validation.py:921\u001b[0m, in \u001b[0;36mcheck_array\u001b[0;34m(array, accept_sparse, accept_large_sparse, dtype, order, copy, force_all_finite, ensure_2d, allow_nd, ensure_min_samples, ensure_min_features, estimator, input_name)\u001b[0m\n\u001b[1;32m    915\u001b[0m         \u001b[38;5;28;01mraise\u001b[39;00m \u001b[38;5;167;01mValueError\u001b[39;00m(\n\u001b[1;32m    916\u001b[0m             \u001b[38;5;124m\"\u001b[39m\u001b[38;5;124mFound array with dim \u001b[39m\u001b[38;5;132;01m%d\u001b[39;00m\u001b[38;5;124m. \u001b[39m\u001b[38;5;132;01m%s\u001b[39;00m\u001b[38;5;124m expected <= 2.\u001b[39m\u001b[38;5;124m\"\u001b[39m\n\u001b[1;32m    917\u001b[0m             \u001b[38;5;241m%\u001b[39m (array\u001b[38;5;241m.\u001b[39mndim, estimator_name)\n\u001b[1;32m    918\u001b[0m         )\n\u001b[1;32m    920\u001b[0m     \u001b[38;5;28;01mif\u001b[39;00m force_all_finite:\n\u001b[0;32m--> 921\u001b[0m         \u001b[43m_assert_all_finite\u001b[49m\u001b[43m(\u001b[49m\n\u001b[1;32m    922\u001b[0m \u001b[43m            \u001b[49m\u001b[43marray\u001b[49m\u001b[43m,\u001b[49m\n\u001b[1;32m    923\u001b[0m \u001b[43m            \u001b[49m\u001b[43minput_name\u001b[49m\u001b[38;5;241;43m=\u001b[39;49m\u001b[43minput_name\u001b[49m\u001b[43m,\u001b[49m\n\u001b[1;32m    924\u001b[0m \u001b[43m            \u001b[49m\u001b[43mestimator_name\u001b[49m\u001b[38;5;241;43m=\u001b[39;49m\u001b[43mestimator_name\u001b[49m\u001b[43m,\u001b[49m\n\u001b[1;32m    925\u001b[0m \u001b[43m            \u001b[49m\u001b[43mallow_nan\u001b[49m\u001b[38;5;241;43m=\u001b[39;49m\u001b[43mforce_all_finite\u001b[49m\u001b[43m \u001b[49m\u001b[38;5;241;43m==\u001b[39;49m\u001b[43m \u001b[49m\u001b[38;5;124;43m\"\u001b[39;49m\u001b[38;5;124;43mallow-nan\u001b[39;49m\u001b[38;5;124;43m\"\u001b[39;49m\u001b[43m,\u001b[49m\n\u001b[1;32m    926\u001b[0m \u001b[43m        \u001b[49m\u001b[43m)\u001b[49m\n\u001b[1;32m    928\u001b[0m \u001b[38;5;28;01mif\u001b[39;00m ensure_min_samples \u001b[38;5;241m>\u001b[39m \u001b[38;5;241m0\u001b[39m:\n\u001b[1;32m    929\u001b[0m     n_samples \u001b[38;5;241m=\u001b[39m _num_samples(array)\n",
      "File \u001b[0;32m~/.local/lib/python3.10/site-packages/sklearn/utils/validation.py:161\u001b[0m, in \u001b[0;36m_assert_all_finite\u001b[0;34m(X, allow_nan, msg_dtype, estimator_name, input_name)\u001b[0m\n\u001b[1;32m    144\u001b[0m \u001b[38;5;28;01mif\u001b[39;00m estimator_name \u001b[38;5;129;01mand\u001b[39;00m input_name \u001b[38;5;241m==\u001b[39m \u001b[38;5;124m\"\u001b[39m\u001b[38;5;124mX\u001b[39m\u001b[38;5;124m\"\u001b[39m \u001b[38;5;129;01mand\u001b[39;00m has_nan_error:\n\u001b[1;32m    145\u001b[0m     \u001b[38;5;66;03m# Improve the error message on how to handle missing values in\u001b[39;00m\n\u001b[1;32m    146\u001b[0m     \u001b[38;5;66;03m# scikit-learn.\u001b[39;00m\n\u001b[1;32m    147\u001b[0m     msg_err \u001b[38;5;241m+\u001b[39m\u001b[38;5;241m=\u001b[39m (\n\u001b[1;32m    148\u001b[0m         \u001b[38;5;124mf\u001b[39m\u001b[38;5;124m\"\u001b[39m\u001b[38;5;130;01m\\n\u001b[39;00m\u001b[38;5;132;01m{\u001b[39;00mestimator_name\u001b[38;5;132;01m}\u001b[39;00m\u001b[38;5;124m does not accept missing values\u001b[39m\u001b[38;5;124m\"\u001b[39m\n\u001b[1;32m    149\u001b[0m         \u001b[38;5;124m\"\u001b[39m\u001b[38;5;124m encoded as NaN natively. For supervised learning, you might want\u001b[39m\u001b[38;5;124m\"\u001b[39m\n\u001b[0;32m   (...)\u001b[0m\n\u001b[1;32m    159\u001b[0m         \u001b[38;5;124m\"\u001b[39m\u001b[38;5;124m#estimators-that-handle-nan-values\u001b[39m\u001b[38;5;124m\"\u001b[39m\n\u001b[1;32m    160\u001b[0m     )\n\u001b[0;32m--> 161\u001b[0m \u001b[38;5;28;01mraise\u001b[39;00m \u001b[38;5;167;01mValueError\u001b[39;00m(msg_err)\n",
      "\u001b[0;31mValueError\u001b[0m: Input X contains NaN.\nNormalizer does not accept missing values encoded as NaN natively. For supervised learning, you might want to consider sklearn.ensemble.HistGradientBoostingClassifier and Regressor which accept missing values encoded as NaNs natively. Alternatively, it is possible to preprocess the data, for instance by using an imputer transformer in a pipeline or drop samples with missing values. See https://scikit-learn.org/stable/modules/impute.html You can find a list of all estimators that handle NaN values at the following page: https://scikit-learn.org/stable/modules/impute.html#estimators-that-handle-nan-values"
     ]
    }
   ],
   "source": [
    "# МІСЦЕ ДЛЯ КОДУ\n",
    "\n",
    "from sklearn.preprocessing import MinMaxScaler, StandardScaler, Normalizer\n",
    "\n",
    "# Створіть новий датафрейм з вихідного тільки із числових значень\n",
    "df_numeric = df.select_dtypes(include=[np.number])\n",
    "\n",
    "scaler = MinMaxScaler()\n",
    "df_numeric_scaled = pd.DataFrame(scaler.fit_transform(df_numeric), columns=df_numeric.columns)\n",
    "print(df_numeric_scaled.describe())\n",
    "\n",
    "# ініціалізуємо StandardScaler, застосовуємо його до даних та виводимо описову статистику\n",
    "scaler = StandardScaler()\n",
    "df_numeric_scaled = pd.DataFrame(scaler.fit_transform(df_numeric), columns=df_numeric.columns)\n",
    "print(df_numeric_scaled.describe())\n",
    "\n",
    "# ініціалізуємо Normalizer з L1 нормою, застосовуємо його до даних та виводимо описову статистику\n",
    "scaler = Normalizer(norm='l1')\n",
    "df_numeric_scaled = pd.DataFrame(scaler.fit_transform(df_numeric), columns=df_numeric.columns)\n",
    "print(df_numeric_scaled.describe())\n"
   ]
  },
  {
   "cell_type": "code",
   "execution_count": null,
   "metadata": {},
   "outputs": [],
   "source": []
  }
 ],
 "metadata": {
  "colab": {
   "name": "КП№4_Препроцесінг_даних.ipynb",
   "provenance": []
  },
  "kernelspec": {
   "display_name": "Python 3 (ipykernel)",
   "language": "python",
   "name": "python3"
  },
  "language_info": {
   "codemirror_mode": {
    "name": "ipython",
    "version": 3
   },
   "file_extension": ".py",
   "mimetype": "text/x-python",
   "name": "python",
   "nbconvert_exporter": "python",
   "pygments_lexer": "ipython3",
   "version": "3.10.8"
  }
 },
 "nbformat": 4,
 "nbformat_minor": 1
}
