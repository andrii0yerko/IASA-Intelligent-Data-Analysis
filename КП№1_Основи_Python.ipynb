{
  "nbformat": 4,
  "nbformat_minor": 0,
  "metadata": {
    "colab": {
      "provenance": [],
      "include_colab_link": true
    },
    "kernelspec": {
      "name": "python3",
      "display_name": "Python 3"
    }
  },
  "cells": [
    {
      "cell_type": "markdown",
      "metadata": {
        "id": "view-in-github",
        "colab_type": "text"
      },
      "source": [
        "<a href=\"https://colab.research.google.com/github/andrii0yerko/IASA-Intelligent-Data-Analysis/blob/main/%D0%9A%D0%9F%E2%84%961_%D0%9E%D1%81%D0%BD%D0%BE%D0%B2%D0%B8_Python.ipynb\" target=\"_parent\"><img src=\"https://colab.research.google.com/assets/colab-badge.svg\" alt=\"Open In Colab\"/></a>"
      ]
    },
    {
      "cell_type": "markdown",
      "metadata": {
        "id": "4jLE0nxT_P19"
      },
      "source": [
        "\n",
        "<center><font size=\"6\"><b>Комп'ютерний практикум 1.\n",
        "\n",
        " Основи Python</b></font></center>\n",
        "\n",
        "\n",
        "***"
      ]
    },
    {
      "cell_type": "markdown",
      "metadata": {
        "id": "z0vqDFdl7mZx"
      },
      "source": [
        "##<center>__Самостійні завдання__</center>\n",
        "\n",
        "> Скопіювати блок самостійних завдань в окремий файл ***LastName_CP1.ipynb***"
      ]
    },
    {
      "cell_type": "markdown",
      "metadata": {
        "id": "OflG6K-YVWbw"
      },
      "source": [
        "### Завдання №1\n",
        "\n",
        "1. Створити цілочисельну змінну `x`. \n",
        "2. Змінити тип даних змінної `x` на дійсний.\n",
        "3. Створити нову числову змінну `y`. \n",
        "4. Піднести змінну `x` до степеня `y` і зберегти результат як змінну `z`. (двома способами)\n",
        "5. Вивести значення змінної `z` та її тип."
      ]
    },
    {
      "cell_type": "code",
      "metadata": {
        "id": "2vu87JoBTOfH",
        "colab": {
          "base_uri": "https://localhost:8080/"
        },
        "outputId": "fbc66e67-6e94-4e21-b8b7-5d5cef8d6be1"
      },
      "source": [
        "# МІСЦЕ ДЛЯ КОДУ\n",
        "import math\n",
        "\n",
        "\n",
        "# 1\n",
        "x = 10\n",
        "\n",
        "# 2\n",
        "x = float(x)\n",
        "\n",
        "# 3\n",
        "y = 10.\n",
        "\n",
        "# 4\n",
        "z = x ** y\n",
        "z = math.pow(x, y)\n",
        "\n",
        "print(z, type(z))\n"
      ],
      "execution_count": 1,
      "outputs": [
        {
          "output_type": "stream",
          "name": "stdout",
          "text": [
            "10000000000.0 <class 'float'>\n"
          ]
        }
      ]
    },
    {
      "cell_type": "markdown",
      "metadata": {
        "id": "LirTJrM7W-cg"
      },
      "source": [
        "### Завдання №2\n",
        "\n",
        "1. Вивести запис: **\"{X} в степені {Y} дорівнює {Z}.\"**, використовуючи рядковий запис де X, Y та Z значення змінних.\n",
        "2. Перетворіть рядок так, щоб можна було прочитати лише **\"X в степені\"**, с заду наперед.\n",
        "\n",
        "> Очікуваний результат:\n",
        "```python\n",
        "x = 2\n",
        "y = 3\n",
        "\"2 в степені 3 дорівнює 8.\"\n",
        "\"інепетс в 2\"\n",
        "```"
      ]
    },
    {
      "cell_type": "code",
      "metadata": {
        "id": "8R4pqDIyW96X",
        "colab": {
          "base_uri": "https://localhost:8080/"
        },
        "outputId": "00c0e688-9144-4452-9a0f-10488b5a581b"
      },
      "source": [
        "# МІСЦЕ ДЛЯ КОДУ\n",
        "\n",
        "x = 2\n",
        "y = 3\n",
        "\n",
        "string = f\"{x} в степені {y} дорівнює {x ** y}\"\n",
        "\n",
        "tokens = string.split(maxsplit=3)[:3]\n",
        "string2 = \" \".join(tokens)\n",
        "string2 = string2[::-1]\n",
        "\n",
        "print(string)\n",
        "print(string2)"
      ],
      "execution_count": 2,
      "outputs": [
        {
          "output_type": "stream",
          "name": "stdout",
          "text": [
            "2 в степені 3 дорівнює 8\n",
            "інепетс в 2\n"
          ]
        }
      ]
    },
    {
      "cell_type": "markdown",
      "metadata": {
        "id": "TnzAtVsKZkjc"
      },
      "source": [
        "### Завдання №3\n",
        "\n",
        "1. Створіть новий список `my_list`, який містить 5 кольорів.\n",
        "2. Перевірте чи є в вашому списку колір `\"бузковий\"`. Якщо немає, то додайте його використовуючи команду `append`.\n",
        "3. Змініть перший елемент списку на `\"рожевий\"`.\n",
        "4. Видаліть другий елемент списку та виведіть результат на екран."
      ]
    },
    {
      "cell_type": "code",
      "metadata": {
        "id": "royz-qkJZmQ8",
        "colab": {
          "base_uri": "https://localhost:8080/"
        },
        "outputId": "d6a6674b-df64-4be9-9caf-3caa314a287a"
      },
      "source": [
        "# МІСЦЕ ДЛЯ КОДУ\n",
        "\n",
        "my_list = [\"червоний\", \"блакитний\", \"фіолетовий\", \"сіробуромалиновий\", \"чорний\"]\n",
        "\n",
        "if \"бузковий\" not in my_list:\n",
        "    my_list.append(\"бузковий\")\n",
        "\n",
        "my_list[0] = \"рожевий\"\n",
        "\n",
        "my_list.pop(1)\n",
        "\n",
        "print(my_list)"
      ],
      "execution_count": 3,
      "outputs": [
        {
          "output_type": "stream",
          "name": "stdout",
          "text": [
            "['рожевий', 'фіолетовий', 'сіробуромалиновий', 'чорний', 'бузковий']\n"
          ]
        }
      ]
    },
    {
      "cell_type": "markdown",
      "metadata": {
        "id": "bjIBnKjHceq4"
      },
      "source": [
        "### Завдання №4\n",
        "\n",
        "1. Створіть словник з країнами та їх столицями (країна - ключ, столиця - значення): Німеччина, Франція, Україна, США, Румунія, Італія. Виведіть результа.\n",
        "2. Додайте столицю Бельгії.\n",
        "3. Виведіть лише столиці."
      ]
    },
    {
      "cell_type": "code",
      "metadata": {
        "id": "A9WZujmvd3pd",
        "colab": {
          "base_uri": "https://localhost:8080/"
        },
        "outputId": "c320a3c7-afb5-4dd5-9d01-026d58aa1a3f"
      },
      "source": [
        "# МІСЦЕ ДЛЯ КОДУ\n",
        "\n",
        "capitals = {\n",
        "    \"Німеччина\": \"Берлін\",\n",
        "    \"Франція\": \"Париж\",\n",
        "    \"Україна\": \"Київ\",\n",
        "    \"США\": \"Вашингтон\",\n",
        "    \"Румунія\": \"Бухарест\",\n",
        "    \"Італія\": \"Рим\",\n",
        "}\n",
        "\n",
        "print(capitals)\n",
        "\n",
        "capitals[\"Бельгія\"] = \"Брюссель\"\n",
        "\n",
        "print(list(capitals.values()))"
      ],
      "execution_count": 4,
      "outputs": [
        {
          "output_type": "stream",
          "name": "stdout",
          "text": [
            "{'Німеччина': 'Берлін', 'Франція': 'Париж', 'Україна': 'Київ', 'США': 'Вашингтон', 'Румунія': 'Бухарест', 'Італія': 'Рим'}\n",
            "['Берлін', 'Париж', 'Київ', 'Вашингтон', 'Бухарест', 'Рим', 'Брюссель']\n"
          ]
        }
      ]
    },
    {
      "cell_type": "markdown",
      "metadata": {
        "id": "2QuFFg1KTP-t"
      },
      "source": [
        "### Завдання №5\n",
        "\n",
        "Виведіть значення списку_1, що не містяться в списку_2.\n",
        "\n",
        "> Очікуваний результат:\n",
        "```python\n",
        "[1,4,6,7]\n",
        "```"
      ]
    },
    {
      "cell_type": "code",
      "metadata": {
        "id": "spnHiR02TdSL",
        "colab": {
          "base_uri": "https://localhost:8080/"
        },
        "outputId": "10bd9713-ad10-44d9-a3bb-b0d225947c82"
      },
      "source": [
        "list_1 = [1,2,3,4,5,6,7]\n",
        "list_2 = [2,5,3]\n",
        "# МІСЦЕ ДЛЯ КОДУ\n",
        "\n",
        "[x for x in list_1 if x not in list_2]"
      ],
      "execution_count": 5,
      "outputs": [
        {
          "output_type": "execute_result",
          "data": {
            "text/plain": [
              "[1, 4, 6, 7]"
            ]
          },
          "metadata": {},
          "execution_count": 5
        }
      ]
    },
    {
      "cell_type": "markdown",
      "metadata": {
        "id": "5uXdDpjET7eA"
      },
      "source": [
        "### Завдання №6\n",
        "\n",
        "порахуйте всі входження слова \"Наука\" в рядок, без урахування регістру\n",
        "\n",
        "> Очікуваний результат:\n",
        "```python\n",
        "3\n",
        "```"
      ]
    },
    {
      "cell_type": "code",
      "metadata": {
        "id": "-yLtDPyVTdrG",
        "colab": {
          "base_uri": "https://localhost:8080/"
        },
        "outputId": "24bb9da9-ac6a-4a51-8696-cca6e3189a3f"
      },
      "source": [
        "string = \"Наука про дані – це наука про методи аналізу даних і вилучення\\\n",
        " з них цінної інформації та знань. Вона тісно пов’язана з такими галузями, \\\n",
        " як машинне навчання, наука про мислення, а також з технологіями для роботи \\\n",
        " з великими даними.\"\n",
        "\n",
        "# МІСЦЕ ДЛЯ КОДУ\n",
        "\n",
        "from collections import Counter\n",
        "\n",
        "counter = Counter(map(str.lower, string.split()))\n",
        "counter[\"наука\"]"
      ],
      "execution_count": 6,
      "outputs": [
        {
          "output_type": "execute_result",
          "data": {
            "text/plain": [
              "3"
            ]
          },
          "metadata": {},
          "execution_count": 6
        }
      ]
    },
    {
      "cell_type": "markdown",
      "metadata": {
        "id": "lORkhbauVchI"
      },
      "source": [
        "### Завдання №7\n",
        "\n",
        "Видаліть повтори зі списку та створіть кортеж. Знайдіть мінімальне та максимальне значення."
      ]
    },
    {
      "cell_type": "code",
      "metadata": {
        "id": "57Gp1maMWDWh",
        "colab": {
          "base_uri": "https://localhost:8080/"
        },
        "outputId": "03a2bbde-1b10-4bce-c8c7-766ddc45f7b1"
      },
      "source": [
        "my_list = [1, 4, 5, 10, 1, 3, 30, 100, 5]\n",
        "\n",
        "# МІСЦЕ ДЛЯ КОДУ\n",
        "\n",
        "my_tuple = tuple(set(my_list))\n",
        "\n",
        "min(my_tuple), max(my_tuple)"
      ],
      "execution_count": 7,
      "outputs": [
        {
          "output_type": "execute_result",
          "data": {
            "text/plain": [
              "(1, 100)"
            ]
          },
          "metadata": {},
          "execution_count": 7
        }
      ]
    },
    {
      "cell_type": "markdown",
      "metadata": {
        "id": "alRgo8HIWg14"
      },
      "source": [
        "### Завдання №8\n",
        "\n",
        "Дано дві множини  \n",
        "1. перевірити чи є перша множина підмножиною другої\n",
        "2. знайти об'єднання, перетин, різницю та симетричну різницю цих множин\n"
      ]
    },
    {
      "cell_type": "code",
      "metadata": {
        "id": "RxfbsbqsW8Up",
        "colab": {
          "base_uri": "https://localhost:8080/"
        },
        "outputId": "834548b8-7429-45bd-8f68-be15ce1829b4"
      },
      "source": [
        "set_1 = {57, 83, 29}\n",
        "set_2 = {67, 73, 43, 48, 83, 57, 29}\n",
        "\n",
        "# МІСЦЕ ДЛЯ КОДУ\n",
        "\n",
        "set_1.issubset(set_2), set_1 & set_2, set_1 - set_2, set_1.symmetric_difference(set_2)"
      ],
      "execution_count": 8,
      "outputs": [
        {
          "output_type": "execute_result",
          "data": {
            "text/plain": [
              "(True, {29, 57, 83}, set(), {43, 48, 67, 73})"
            ]
          },
          "metadata": {},
          "execution_count": 8
        }
      ]
    },
    {
      "cell_type": "markdown",
      "metadata": {
        "id": "5HlthU73XbMO"
      },
      "source": [
        "### Завдання №9\n",
        "\n",
        "Дано рядок `string`, порахувати кількість входжень літер \"а\", \"д\" та \"н\" та створити словник з цих літер та кількістю їх входжень. Вивести пари ключ-значення на екран\n",
        "\n",
        "> Очікуваний результат:\n",
        "```python\n",
        "dict_items([('а', 24), ('д', 5), ('н', 25)])\n",
        "```"
      ]
    },
    {
      "cell_type": "code",
      "metadata": {
        "id": "fbzuRDZujnhF",
        "colab": {
          "base_uri": "https://localhost:8080/"
        },
        "outputId": "a506c379-4d1f-4db9-dc24-96bd81a98daa"
      },
      "source": [
        "string = \"Наука про дані – це наука про методи аналізу даних і вилучення\\\n",
        " з них цінної інформації та знань. Вона тісно пов’язана з такими галузями, \\\n",
        " як машинне навчання, наука про мислення, а також з технологіями для роботи \\\n",
        " з великими даними.\"\n",
        "\n",
        "# МІСЦЕ ДЛЯ КОДУ\n",
        "\n",
        "from collections import Counter\n",
        "\n",
        "counter = Counter(string)\n",
        "result = {k: counter[k] for k in \"адн\"}\n",
        "\n",
        "print(result.items())"
      ],
      "execution_count": 9,
      "outputs": [
        {
          "output_type": "stream",
          "name": "stdout",
          "text": [
            "dict_items([('а', 24), ('д', 5), ('н', 25)])\n"
          ]
        }
      ]
    },
    {
      "cell_type": "markdown",
      "metadata": {
        "id": "frXoXi52twFQ"
      },
      "source": [
        "### Завдання №10\n",
        "\n",
        "Знайти суму всих елеменів словника\n",
        "\n",
        "> використайте функцію `map()`, яка використовується для застосування функції до кожного елементу итеруючого об'єкту (наприклад, списку чи словника) та повернення нового ітератора для отримання результів.\n",
        "\n",
        "> Функция `map()` имеет следующий синтаксис:\n",
        "```\n",
        "map(function, iterable, [iterable 2, iterable 3, ...])\n",
        "\n",
        "> Очікуваний результат\n",
        "```python\n",
        "390\n",
        "```"
      ]
    },
    {
      "cell_type": "code",
      "metadata": {
        "id": "JH7g50AbfVp-",
        "colab": {
          "base_uri": "https://localhost:8080/"
        },
        "outputId": "1892f99c-3374-42f2-d073-fe2b8431f074"
      },
      "source": [
        "my_dict = {'a': [10, 20, 30, 40],\n",
        "           'b': [22, 11, 33, 44],\n",
        "           'c': [12, 34, 56, 78]}\n",
        "\n",
        "# МІСЦЕ ДЛЯ КОДУ\n",
        "\n",
        "sum(map(sum, my_dict.values()))"
      ],
      "execution_count": 10,
      "outputs": [
        {
          "output_type": "execute_result",
          "data": {
            "text/plain": [
              "390"
            ]
          },
          "metadata": {},
          "execution_count": 10
        }
      ]
    },
    {
      "cell_type": "markdown",
      "metadata": {
        "id": "pvVHWUF4gSm8"
      },
      "source": [
        "### Завдання №11\n",
        "\n",
        "Знайдіть друге найменше та друге найбільше значення в списку та виведіть на екран такий запис:\n",
        "\n",
        "```python\n",
        "\"Друге найменше значення - 1 та друге найбільше значення - 398.\"\n",
        "```"
      ]
    },
    {
      "cell_type": "code",
      "metadata": {
        "id": "HFL0NALUf2RG",
        "colab": {
          "base_uri": "https://localhost:8080/"
        },
        "outputId": "9c2dbe99-77d0-43fc-cc6a-79f0db8d1e8e"
      },
      "source": [
        "my_list = [1,200, 34, 65, 499, 11, -4, 42, 398, 12, 3, 100]\n",
        "\n",
        "# МІСЦЕ ДЛЯ КОДУ\n",
        "\n",
        "sorted_elements = sorted(set(my_list))\n",
        "\n",
        "print(f\"Друге найменше значення - {sorted_elements[1]} та друге найбільше значення - {sorted_elements[-2]}.\")"
      ],
      "execution_count": 11,
      "outputs": [
        {
          "output_type": "stream",
          "name": "stdout",
          "text": [
            "Друге найменше значення - 1 та друге найбільше значення - 398.\n"
          ]
        }
      ]
    },
    {
      "cell_type": "markdown",
      "metadata": {
        "id": "yK8b3Mf0guPD"
      },
      "source": [
        "### Завдання №12\n",
        "\n",
        "Об'єднайте наступні словники в один.\n",
        "\n",
        "> Очікуваний результат:\n",
        "```python\n",
        "{1: 10, 2: 20, 3: 30, 4: 40, 5: 50, 6: 60}\n",
        "```"
      ]
    },
    {
      "cell_type": "code",
      "metadata": {
        "id": "NCTujRJdg6n_",
        "colab": {
          "base_uri": "https://localhost:8080/"
        },
        "outputId": "ed217924-b5fc-4edd-8310-970fa3c4848d"
      },
      "source": [
        "dic1 = {1:10, 2:20}\n",
        "dic2 = {3:30, 4:40}\n",
        "dic3 = {5:50, 6:60}\n",
        "\n",
        "# МІСЦЕ ДЛЯ КОДУ\n",
        "\n",
        "# new_dict = dic1 | dic2 | dic3  # if you have py3.9 or above\n",
        "new_dict = dict((*dic1.items(), *dic2.items(), *dic3.items()))\n",
        "print(new_dict)"
      ],
      "execution_count": 12,
      "outputs": [
        {
          "output_type": "stream",
          "name": "stdout",
          "text": [
            "{1: 10, 2: 20, 3: 30, 4: 40, 5: 50, 6: 60}\n"
          ]
        }
      ]
    },
    {
      "cell_type": "markdown",
      "metadata": {
        "id": "32h8Qu3ShOVM"
      },
      "source": [
        "### Завдання №13\n",
        "Створіть словник з наступних списків. Використайте функцію`zip()`\n",
        "\n",
        ">Функція `zip(a, b)` створює об'єкт-ітератор, з якого при кожному обороті циклу створюється кортеж - впорядкована пара $(a_i, b_i)$ \n",
        "\n",
        ">Очікуваний результат:\n",
        "```python\n",
        "{'червоний': '#FF0000', 'зелений': '#008000', 'синій': '#0000FF'} \n",
        "```"
      ]
    },
    {
      "cell_type": "code",
      "metadata": {
        "id": "ZBbgGomchYa3",
        "colab": {
          "base_uri": "https://localhost:8080/"
        },
        "outputId": "10a45fbb-2bfb-489c-d579-e243add431ce"
      },
      "source": [
        "keys = ['червоний', 'зелений', 'синій']\n",
        "values = ['#FF0000','#008000', '#0000FF']\n",
        "\n",
        "# МІСЦЕ ДЛЯ КОДУ\n",
        "dict(zip(keys, values))"
      ],
      "execution_count": 13,
      "outputs": [
        {
          "output_type": "execute_result",
          "data": {
            "text/plain": [
              "{'червоний': '#FF0000', 'зелений': '#008000', 'синій': '#0000FF'}"
            ]
          },
          "metadata": {},
          "execution_count": 13
        }
      ]
    },
    {
      "cell_type": "code",
      "source": [],
      "metadata": {
        "id": "e5lwngOoWGK8"
      },
      "execution_count": 13,
      "outputs": []
    }
  ]
}