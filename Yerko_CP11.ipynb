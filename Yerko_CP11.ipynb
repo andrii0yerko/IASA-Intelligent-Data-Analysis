{
 "cells": [
  {
   "cell_type": "markdown",
   "metadata": {
    "colab_type": "text",
    "id": "view-in-github"
   },
   "source": [
    "<a href=\"https://colab.research.google.com/github/trilgar/IAD2023/blob/main/%D0%97%D0%B0%D1%80%D0%B8%D1%86%D1%8C%D0%BA%D0%B8%D0%B9_CP11.ipynb\" target=\"_parent\"><img src=\"https://colab.research.google.com/assets/colab-badge.svg\" alt=\"Open In Colab\"/></a>"
   ]
  },
  {
   "cell_type": "markdown",
   "metadata": {
    "id": "wNhBviOWN-YW"
   },
   "source": [
    "<center><font size=\"6\"><b>Комп'ютерний практикум 11.\n",
    "\n",
    "<center><b> Колаборативна фільтрація </font>\n",
    "\n",
    "\n",
    "<center><b><i><font size=\"4\"> Collaborative Filtering\n",
    "\n",
    "\n",
    "\n",
    "</b></center>\n",
    "\n"
   ]
  },
  {
   "cell_type": "markdown",
   "metadata": {
    "id": "uEoeTCVzgj0O"
   },
   "source": [
    "##<center>__Самостійні завдання__</center>\n",
    "\n",
    "> Скопіювати блок самостійних завдань в окремий файл ***LastName_CP11.ipynb***\n",
    "\n",
    "> Інсталюйте необхідні пакети бібліотек Python"
   ]
  },
  {
   "cell_type": "code",
   "execution_count": 1,
   "metadata": {
    "id": "jMuh8jZ4-kXw"
   },
   "outputs": [],
   "source": [
    "import pandas as pd\n",
    "from math import sqrt\n",
    "import numpy as np\n",
    "import matplotlib.pyplot as plt\n",
    "%matplotlib inline\n",
    "\n",
    "%matplotlib inline"
   ]
  },
  {
   "cell_type": "markdown",
   "metadata": {
    "id": "0BDe0NyTgmSY"
   },
   "source": [
    "### Завдання №1\n",
    "\n",
    "* Завантажте архів `BX-CSV-Dump.zip` та розпакуйте дані з лінку\n",
    "\n",
    "`url = \"http://www2.informatik.uni-freiburg.de/~cziegler/BX/BX-CSV-Dump.zip\"`\n",
    "\n",
    "* Завантажте датасети `BX-Books.csv` як `df.books` та `BX-Book-Ratings.csv` як `df.ratings`, виведіть частину датасетів на екран\n",
    "\n",
    "Використайте ці дані, щоб побудувати систему рекомендацій, яка підкаже, що користувачеві варто прочитати наступним, виходячи з його поточних книжкових уподобань.\n",
    "\n",
    "\n",
    " \n"
   ]
  },
  {
   "cell_type": "code",
   "execution_count": 2,
   "metadata": {
    "colab": {
     "base_uri": "https://localhost:8080/"
    },
    "id": "s0XIjMe_gpOr",
    "outputId": "d5fdbf1a-88ff-4738-83b6-a2d2b65a3351"
   },
   "outputs": [],
   "source": [
    "import requests\n",
    "import zipfile\n",
    "import io\n",
    "\n",
    "url = \"http://www2.informatik.uni-freiburg.de/~cziegler/BX/BX-CSV-Dump.zip\"\n",
    "response = requests.get(url)\n",
    "\n",
    "zip_file = zipfile.ZipFile(io.BytesIO(response.content))\n",
    "zip_file.extractall()"
   ]
  },
  {
   "cell_type": "code",
   "execution_count": 3,
   "metadata": {
    "colab": {
     "base_uri": "https://localhost:8080/"
    },
    "id": "uuLYl5Ng7x14",
    "outputId": "1d8e84c8-6852-4ee1-c618-4b1c7f5fbe2a"
   },
   "outputs": [
    {
     "name": "stderr",
     "output_type": "stream",
     "text": [
      "/tmp/ipykernel_458355/3652178068.py:3: DtypeWarning: Columns (3) have mixed types. Specify dtype option on import or set low_memory=False.\n",
      "  df_books = pd.read_csv(books_file, sep=\";\", on_bad_lines=\"skip\", encoding=\"latin-1\")\n"
     ]
    },
    {
     "name": "stdout",
     "output_type": "stream",
     "text": [
      "         ISBN                                         Book-Title  \\\n",
      "0  0195153448                                Classical Mythology   \n",
      "1  0002005018                                       Clara Callan   \n",
      "2  0060973129                               Decision in Normandy   \n",
      "3  0374157065  Flu: The Story of the Great Influenza Pandemic...   \n",
      "4  0393045218                             The Mummies of Urumchi   \n",
      "\n",
      "            Book-Author Year-Of-Publication                   Publisher  \\\n",
      "0    Mark P. O. Morford                2002     Oxford University Press   \n",
      "1  Richard Bruce Wright                2001       HarperFlamingo Canada   \n",
      "2          Carlo D'Este                1991             HarperPerennial   \n",
      "3      Gina Bari Kolata                1999        Farrar Straus Giroux   \n",
      "4       E. J. W. Barber                1999  W. W. Norton &amp; Company   \n",
      "\n",
      "                                         Image-URL-S  \\\n",
      "0  http://images.amazon.com/images/P/0195153448.0...   \n",
      "1  http://images.amazon.com/images/P/0002005018.0...   \n",
      "2  http://images.amazon.com/images/P/0060973129.0...   \n",
      "3  http://images.amazon.com/images/P/0374157065.0...   \n",
      "4  http://images.amazon.com/images/P/0393045218.0...   \n",
      "\n",
      "                                         Image-URL-M  \\\n",
      "0  http://images.amazon.com/images/P/0195153448.0...   \n",
      "1  http://images.amazon.com/images/P/0002005018.0...   \n",
      "2  http://images.amazon.com/images/P/0060973129.0...   \n",
      "3  http://images.amazon.com/images/P/0374157065.0...   \n",
      "4  http://images.amazon.com/images/P/0393045218.0...   \n",
      "\n",
      "                                         Image-URL-L  \n",
      "0  http://images.amazon.com/images/P/0195153448.0...  \n",
      "1  http://images.amazon.com/images/P/0002005018.0...  \n",
      "2  http://images.amazon.com/images/P/0060973129.0...  \n",
      "3  http://images.amazon.com/images/P/0374157065.0...  \n",
      "4  http://images.amazon.com/images/P/0393045218.0...  \n",
      "   User-ID        ISBN  Book-Rating\n",
      "0   276725  034545104X            0\n",
      "1   276726  0155061224            5\n",
      "2   276727  0446520802            0\n",
      "3   276729  052165615X            3\n",
      "4   276729  0521795028            6\n"
     ]
    }
   ],
   "source": [
    "# Завантаження датасету BX-Books.csv\n",
    "books_file = \"BX-Books.csv\"\n",
    "df_books = pd.read_csv(books_file, sep=\";\", on_bad_lines=\"skip\", encoding=\"latin-1\")\n",
    "print(df_books.head())\n",
    "\n",
    "# Завантаження датасету BX-Book-Ratings.csv\n",
    "ratings_file = \"BX-Book-Ratings.csv\"\n",
    "df_ratings = pd.read_csv(ratings_file, sep=\";\", on_bad_lines=\"skip\", encoding=\"latin-1\")\n",
    "print(df_ratings.head())"
   ]
  },
  {
   "cell_type": "markdown",
   "metadata": {
    "id": "r5xD3xxVpvNI"
   },
   "source": [
    "### Завдання №2\n",
    "\n",
    "* Виведіть інформацію про датасет\n",
    "* Залиште в датасеті лише колонки `ISBN`, `Book Title`,`Book Author` and `Publisher`.\n",
    "* Перевірте, чи немає дублікатів назв книг, видаліть, якщо такі є. Для цього скористайтесь функціями `duplicated(subset='Book-Title')`  та `drop_duplicates(subset='Book-Title')`\n",
    "* Об'єднайте імена та прізвища авторів, видаляючи пробіли, щоб система розрізняла авторів з однаковими іменами\n",
    "* Виведіть шапку таблиці, щоб переконатись у об'єднанні\n",
    "\n"
   ]
  },
  {
   "cell_type": "code",
   "execution_count": 4,
   "metadata": {
    "id": "3_V_77Igpzgi"
   },
   "outputs": [],
   "source": [
    "# Вибираємо потрібні колонки\n",
    "selected_columns = ['ISBN', 'Book-Title', 'Book-Author', 'Publisher']\n",
    "df_books_selected = df_books[selected_columns]\n",
    "\n",
    "# Видаляємо дублікати назв книг\n",
    "df_books_selected = df_books_selected.drop_duplicates(subset='Book-Title')\n",
    "\n",
    "# Об'єднуємо імена та прізвища авторів, видаляючи пробіли\n",
    "df_books_selected['Book-Author'] = df_books_selected['Book-Author'].str.replace(' ', '')"
   ]
  },
  {
   "cell_type": "code",
   "execution_count": 5,
   "metadata": {
    "colab": {
     "base_uri": "https://localhost:8080/",
     "height": 206
    },
    "id": "i0diC3UX8fZi",
    "outputId": "32dab6c8-5acf-4c23-a725-396309c4a1ba"
   },
   "outputs": [
    {
     "data": {
      "text/html": [
       "<div>\n",
       "<style scoped>\n",
       "    .dataframe tbody tr th:only-of-type {\n",
       "        vertical-align: middle;\n",
       "    }\n",
       "\n",
       "    .dataframe tbody tr th {\n",
       "        vertical-align: top;\n",
       "    }\n",
       "\n",
       "    .dataframe thead th {\n",
       "        text-align: right;\n",
       "    }\n",
       "</style>\n",
       "<table border=\"1\" class=\"dataframe\">\n",
       "  <thead>\n",
       "    <tr style=\"text-align: right;\">\n",
       "      <th></th>\n",
       "      <th>ISBN</th>\n",
       "      <th>Book-Title</th>\n",
       "      <th>Book-Author</th>\n",
       "      <th>Publisher</th>\n",
       "    </tr>\n",
       "  </thead>\n",
       "  <tbody>\n",
       "    <tr>\n",
       "      <th>0</th>\n",
       "      <td>0195153448</td>\n",
       "      <td>Classical Mythology</td>\n",
       "      <td>MarkP.O.Morford</td>\n",
       "      <td>Oxford University Press</td>\n",
       "    </tr>\n",
       "    <tr>\n",
       "      <th>1</th>\n",
       "      <td>0002005018</td>\n",
       "      <td>Clara Callan</td>\n",
       "      <td>RichardBruceWright</td>\n",
       "      <td>HarperFlamingo Canada</td>\n",
       "    </tr>\n",
       "    <tr>\n",
       "      <th>2</th>\n",
       "      <td>0060973129</td>\n",
       "      <td>Decision in Normandy</td>\n",
       "      <td>CarloD'Este</td>\n",
       "      <td>HarperPerennial</td>\n",
       "    </tr>\n",
       "    <tr>\n",
       "      <th>3</th>\n",
       "      <td>0374157065</td>\n",
       "      <td>Flu: The Story of the Great Influenza Pandemic...</td>\n",
       "      <td>GinaBariKolata</td>\n",
       "      <td>Farrar Straus Giroux</td>\n",
       "    </tr>\n",
       "    <tr>\n",
       "      <th>4</th>\n",
       "      <td>0393045218</td>\n",
       "      <td>The Mummies of Urumchi</td>\n",
       "      <td>E.J.W.Barber</td>\n",
       "      <td>W. W. Norton &amp;amp; Company</td>\n",
       "    </tr>\n",
       "  </tbody>\n",
       "</table>\n",
       "</div>"
      ],
      "text/plain": [
       "         ISBN                                         Book-Title  \\\n",
       "0  0195153448                                Classical Mythology   \n",
       "1  0002005018                                       Clara Callan   \n",
       "2  0060973129                               Decision in Normandy   \n",
       "3  0374157065  Flu: The Story of the Great Influenza Pandemic...   \n",
       "4  0393045218                             The Mummies of Urumchi   \n",
       "\n",
       "          Book-Author                   Publisher  \n",
       "0     MarkP.O.Morford     Oxford University Press  \n",
       "1  RichardBruceWright       HarperFlamingo Canada  \n",
       "2         CarloD'Este             HarperPerennial  \n",
       "3      GinaBariKolata        Farrar Straus Giroux  \n",
       "4        E.J.W.Barber  W. W. Norton &amp; Company  "
      ]
     },
     "execution_count": 5,
     "metadata": {},
     "output_type": "execute_result"
    }
   ],
   "source": [
    "df_books_selected.head()"
   ]
  },
  {
   "cell_type": "code",
   "execution_count": 6,
   "metadata": {
    "colab": {
     "base_uri": "https://localhost:8080/",
     "height": 206
    },
    "id": "X0TUciEz8ida",
    "outputId": "2a9b3176-ceba-44f0-86a2-9915e974328b"
   },
   "outputs": [
    {
     "data": {
      "text/html": [
       "<div>\n",
       "<style scoped>\n",
       "    .dataframe tbody tr th:only-of-type {\n",
       "        vertical-align: middle;\n",
       "    }\n",
       "\n",
       "    .dataframe tbody tr th {\n",
       "        vertical-align: top;\n",
       "    }\n",
       "\n",
       "    .dataframe thead th {\n",
       "        text-align: right;\n",
       "    }\n",
       "</style>\n",
       "<table border=\"1\" class=\"dataframe\">\n",
       "  <thead>\n",
       "    <tr style=\"text-align: right;\">\n",
       "      <th></th>\n",
       "      <th>User-ID</th>\n",
       "      <th>ISBN</th>\n",
       "      <th>Rating</th>\n",
       "    </tr>\n",
       "  </thead>\n",
       "  <tbody>\n",
       "    <tr>\n",
       "      <th>0</th>\n",
       "      <td>276725</td>\n",
       "      <td>034545104X</td>\n",
       "      <td>0</td>\n",
       "    </tr>\n",
       "    <tr>\n",
       "      <th>1</th>\n",
       "      <td>276726</td>\n",
       "      <td>0155061224</td>\n",
       "      <td>5</td>\n",
       "    </tr>\n",
       "    <tr>\n",
       "      <th>2</th>\n",
       "      <td>276727</td>\n",
       "      <td>0446520802</td>\n",
       "      <td>0</td>\n",
       "    </tr>\n",
       "    <tr>\n",
       "      <th>3</th>\n",
       "      <td>276729</td>\n",
       "      <td>052165615X</td>\n",
       "      <td>3</td>\n",
       "    </tr>\n",
       "    <tr>\n",
       "      <th>4</th>\n",
       "      <td>276729</td>\n",
       "      <td>0521795028</td>\n",
       "      <td>6</td>\n",
       "    </tr>\n",
       "  </tbody>\n",
       "</table>\n",
       "</div>"
      ],
      "text/plain": [
       "   User-ID        ISBN  Rating\n",
       "0   276725  034545104X       0\n",
       "1   276726  0155061224       5\n",
       "2   276727  0446520802       0\n",
       "3   276729  052165615X       3\n",
       "4   276729  0521795028       6"
      ]
     },
     "execution_count": 6,
     "metadata": {},
     "output_type": "execute_result"
    }
   ],
   "source": [
    "df_ratings = df_ratings.rename(columns={'Book-Rating': 'Rating'})\n",
    "df_ratings.head()"
   ]
  },
  {
   "cell_type": "markdown",
   "metadata": {
    "id": "hxpalvUa3BPL"
   },
   "source": [
    "### Завдання №3\n",
    "\n",
    "* Створіть користувача, якому поставте у відповідність 5 довільних кних з переліку та рейтингом (0-10)\n",
    "* Створіть рекомендований список з 10 книг для користувача, спираючись на автора та видавництво.\n"
   ]
  },
  {
   "cell_type": "code",
   "execution_count": 7,
   "metadata": {
    "colab": {
     "base_uri": "https://localhost:8080/",
     "height": 206
    },
    "id": "DhRQ-upKS2lV",
    "outputId": "e3487e75-01dc-4ab6-881b-b865b6245746"
   },
   "outputs": [
    {
     "data": {
      "text/html": [
       "<div>\n",
       "<style scoped>\n",
       "    .dataframe tbody tr th:only-of-type {\n",
       "        vertical-align: middle;\n",
       "    }\n",
       "\n",
       "    .dataframe tbody tr th {\n",
       "        vertical-align: top;\n",
       "    }\n",
       "\n",
       "    .dataframe thead th {\n",
       "        text-align: right;\n",
       "    }\n",
       "</style>\n",
       "<table border=\"1\" class=\"dataframe\">\n",
       "  <thead>\n",
       "    <tr style=\"text-align: right;\">\n",
       "      <th></th>\n",
       "      <th>ISBN</th>\n",
       "      <th>Rating</th>\n",
       "    </tr>\n",
       "  </thead>\n",
       "  <tbody>\n",
       "    <tr>\n",
       "      <th>0</th>\n",
       "      <td>0004722124</td>\n",
       "      <td>8</td>\n",
       "    </tr>\n",
       "    <tr>\n",
       "      <th>1</th>\n",
       "      <td>8511839102</td>\n",
       "      <td>7</td>\n",
       "    </tr>\n",
       "    <tr>\n",
       "      <th>2</th>\n",
       "      <td>052165615X</td>\n",
       "      <td>6</td>\n",
       "    </tr>\n",
       "    <tr>\n",
       "      <th>3</th>\n",
       "      <td>0521795028</td>\n",
       "      <td>9</td>\n",
       "    </tr>\n",
       "    <tr>\n",
       "      <th>4</th>\n",
       "      <td>0515107662</td>\n",
       "      <td>5</td>\n",
       "    </tr>\n",
       "  </tbody>\n",
       "</table>\n",
       "</div>"
      ],
      "text/plain": [
       "         ISBN  Rating\n",
       "0  0004722124       8\n",
       "1  8511839102       7\n",
       "2  052165615X       6\n",
       "3  0521795028       9\n",
       "4  0515107662       5"
      ]
     },
     "execution_count": 7,
     "metadata": {},
     "output_type": "execute_result"
    }
   ],
   "source": [
    "user_preferences = {\n",
    "    'ISBN': ['0004722124', '8511839102', '052165615X', '0521795028', '0515107662'],\n",
    "    'Rating': [8, 7, 6, 9, 5]\n",
    "}\n",
    "\n",
    "inputBooks = pd.DataFrame(user_preferences)\n",
    "inputBooks"
   ]
  },
  {
   "cell_type": "code",
   "execution_count": 8,
   "metadata": {
    "colab": {
     "base_uri": "https://localhost:8080/",
     "height": 206
    },
    "id": "lgNNw4zzBq-W",
    "outputId": "c8e752b8-ca3f-49b0-86ab-f00823e4d2b2"
   },
   "outputs": [],
   "source": [
    "userSubset = df_ratings[df_ratings['ISBN'].isin(inputBooks['ISBN'].tolist())]\n",
    "userSubsetGroup = userSubset.groupby(['User-ID'])\n",
    "userSubsetGroup = sorted(userSubsetGroup, key=lambda x: len(x[1]), reverse=True)\n",
    "userSubsetGroup = userSubsetGroup[0:100]"
   ]
  },
  {
   "cell_type": "code",
   "execution_count": 9,
   "metadata": {
    "id": "p_dWgzqMFYcs"
   },
   "outputs": [],
   "source": [
    "#Зберігаємо кореляцію Пірсона у словнику, де ключем є ідентифікатор користувача, а значенням - коефіцієнт\n",
    "pearsonCorrelationDict = {}\n",
    "\n",
    "#Для кожної групи користувачів у нашій підмножині\n",
    "for name, group in userSubsetGroup:\n",
    "    name = name[0]\n",
    "    #Почнемо з сортування вхідних даних та поточної групи користувачів, щоб не переплутати значення\n",
    "    group = group.sort_values(by='ISBN')\n",
    "    inputBooks = inputBooks.sort_values(by='ISBN')\n",
    "    #Отримаємо N для формули\n",
    "    nRatings = len(group)\n",
    "    #Отримаємо оцінки на фільми, які мають спільні риси\n",
    "    temp_df = inputBooks[inputBooks['ISBN'].isin(group['ISBN'].tolist())]\n",
    "    #Збережемо їх у тимчасовій буферній змінній у форматі списку, щоб полегшити майбутні обчислення\n",
    "    tempRatingList = temp_df['Rating'].tolist()\n",
    "    #Виведемо оцінки поточної групи користувачів у вигляді списку\n",
    "    tempGroupList = group['Rating'].tolist()\n",
    "    #Обчислимо кореляцію Пірсона між двома користувачами, так званими, x та y\n",
    "    Sxx = sum([i**2 for i in tempRatingList]) - pow(sum(tempRatingList),2)/float(nRatings)\n",
    "    Syy = sum([i**2 for i in tempGroupList]) - pow(sum(tempGroupList),2)/float(nRatings)\n",
    "    Sxy = sum( i*j for i, j in zip(tempRatingList, tempGroupList)) - sum(tempRatingList)*sum(tempGroupList)/float(nRatings)\n",
    "    \n",
    "    #Якщо знаменник відмінний від нуля, то ділимо, інакше кореляція 0.\n",
    "    if Sxx != 0 and Syy != 0:\n",
    "        pearsonCorrelationDict[name] = Sxy/sqrt(Sxx*Syy)\n",
    "    else:\n",
    "        pearsonCorrelationDict[name] = 0\n"
   ]
  },
  {
   "cell_type": "code",
   "execution_count": 10,
   "metadata": {
    "colab": {
     "base_uri": "https://localhost:8080/",
     "height": 206
    },
    "id": "xfQVDcD7Gxag",
    "outputId": "a25d6083-301b-4e79-e559-4a2bf41135cc"
   },
   "outputs": [
    {
     "data": {
      "text/html": [
       "<div>\n",
       "<style scoped>\n",
       "    .dataframe tbody tr th:only-of-type {\n",
       "        vertical-align: middle;\n",
       "    }\n",
       "\n",
       "    .dataframe tbody tr th {\n",
       "        vertical-align: top;\n",
       "    }\n",
       "\n",
       "    .dataframe thead th {\n",
       "        text-align: right;\n",
       "    }\n",
       "</style>\n",
       "<table border=\"1\" class=\"dataframe\">\n",
       "  <thead>\n",
       "    <tr style=\"text-align: right;\">\n",
       "      <th></th>\n",
       "      <th>similarityIndex</th>\n",
       "      <th>User-ID</th>\n",
       "    </tr>\n",
       "  </thead>\n",
       "  <tbody>\n",
       "    <tr>\n",
       "      <th>0</th>\n",
       "      <td>1.0</td>\n",
       "      <td>276729</td>\n",
       "    </tr>\n",
       "    <tr>\n",
       "      <th>1</th>\n",
       "      <td>0.0</td>\n",
       "      <td>1733</td>\n",
       "    </tr>\n",
       "    <tr>\n",
       "      <th>2</th>\n",
       "      <td>0.0</td>\n",
       "      <td>14422</td>\n",
       "    </tr>\n",
       "    <tr>\n",
       "      <th>3</th>\n",
       "      <td>0.0</td>\n",
       "      <td>16795</td>\n",
       "    </tr>\n",
       "    <tr>\n",
       "      <th>4</th>\n",
       "      <td>0.0</td>\n",
       "      <td>26544</td>\n",
       "    </tr>\n",
       "  </tbody>\n",
       "</table>\n",
       "</div>"
      ],
      "text/plain": [
       "   similarityIndex  User-ID\n",
       "0              1.0   276729\n",
       "1              0.0     1733\n",
       "2              0.0    14422\n",
       "3              0.0    16795\n",
       "4              0.0    26544"
      ]
     },
     "execution_count": 10,
     "metadata": {},
     "output_type": "execute_result"
    }
   ],
   "source": [
    "pearsonDF = pd.DataFrame.from_dict(pearsonCorrelationDict, orient='index')\n",
    "pearsonDF.columns = ['similarityIndex']\n",
    "pearsonDF['User-ID'] = pearsonDF.index\n",
    "pearsonDF.index = range(len(pearsonDF))\n",
    "pearsonDF.head()"
   ]
  },
  {
   "cell_type": "code",
   "execution_count": 11,
   "metadata": {
    "colab": {
     "base_uri": "https://localhost:8080/",
     "height": 206
    },
    "id": "5hQk4-kJJ9oX",
    "outputId": "2fb55e4b-dc19-4a43-8fb8-6f1de08efeec"
   },
   "outputs": [
    {
     "data": {
      "text/html": [
       "<div>\n",
       "<style scoped>\n",
       "    .dataframe tbody tr th:only-of-type {\n",
       "        vertical-align: middle;\n",
       "    }\n",
       "\n",
       "    .dataframe tbody tr th {\n",
       "        vertical-align: top;\n",
       "    }\n",
       "\n",
       "    .dataframe thead th {\n",
       "        text-align: right;\n",
       "    }\n",
       "</style>\n",
       "<table border=\"1\" class=\"dataframe\">\n",
       "  <thead>\n",
       "    <tr style=\"text-align: right;\">\n",
       "      <th></th>\n",
       "      <th>similarityIndex</th>\n",
       "      <th>User-ID</th>\n",
       "    </tr>\n",
       "  </thead>\n",
       "  <tbody>\n",
       "    <tr>\n",
       "      <th>0</th>\n",
       "      <td>1.0</td>\n",
       "      <td>276729</td>\n",
       "    </tr>\n",
       "    <tr>\n",
       "      <th>1</th>\n",
       "      <td>0.0</td>\n",
       "      <td>1733</td>\n",
       "    </tr>\n",
       "    <tr>\n",
       "      <th>26</th>\n",
       "      <td>0.0</td>\n",
       "      <td>157116</td>\n",
       "    </tr>\n",
       "    <tr>\n",
       "      <th>27</th>\n",
       "      <td>0.0</td>\n",
       "      <td>160878</td>\n",
       "    </tr>\n",
       "    <tr>\n",
       "      <th>28</th>\n",
       "      <td>0.0</td>\n",
       "      <td>170845</td>\n",
       "    </tr>\n",
       "  </tbody>\n",
       "</table>\n",
       "</div>"
      ],
      "text/plain": [
       "    similarityIndex  User-ID\n",
       "0               1.0   276729\n",
       "1               0.0     1733\n",
       "26              0.0   157116\n",
       "27              0.0   160878\n",
       "28              0.0   170845"
      ]
     },
     "execution_count": 11,
     "metadata": {},
     "output_type": "execute_result"
    }
   ],
   "source": [
    "topUsers = pearsonDF.sort_values(by='similarityIndex', ascending=False)[0:50]\n",
    "topUsers.head()"
   ]
  },
  {
   "cell_type": "code",
   "execution_count": 12,
   "metadata": {
    "colab": {
     "base_uri": "https://localhost:8080/",
     "height": 206
    },
    "id": "7EMVsk3kKHMJ",
    "outputId": "e4281058-729e-4b15-dd64-7f92dbc3ff12"
   },
   "outputs": [
    {
     "data": {
      "text/html": [
       "<div>\n",
       "<style scoped>\n",
       "    .dataframe tbody tr th:only-of-type {\n",
       "        vertical-align: middle;\n",
       "    }\n",
       "\n",
       "    .dataframe tbody tr th {\n",
       "        vertical-align: top;\n",
       "    }\n",
       "\n",
       "    .dataframe thead th {\n",
       "        text-align: right;\n",
       "    }\n",
       "</style>\n",
       "<table border=\"1\" class=\"dataframe\">\n",
       "  <thead>\n",
       "    <tr style=\"text-align: right;\">\n",
       "      <th></th>\n",
       "      <th>similarityIndex</th>\n",
       "      <th>User-ID</th>\n",
       "      <th>ISBN</th>\n",
       "      <th>Rating</th>\n",
       "    </tr>\n",
       "  </thead>\n",
       "  <tbody>\n",
       "    <tr>\n",
       "      <th>0</th>\n",
       "      <td>1.0</td>\n",
       "      <td>276729</td>\n",
       "      <td>052165615X</td>\n",
       "      <td>3</td>\n",
       "    </tr>\n",
       "    <tr>\n",
       "      <th>1</th>\n",
       "      <td>1.0</td>\n",
       "      <td>276729</td>\n",
       "      <td>0521795028</td>\n",
       "      <td>6</td>\n",
       "    </tr>\n",
       "    <tr>\n",
       "      <th>2</th>\n",
       "      <td>0.0</td>\n",
       "      <td>1733</td>\n",
       "      <td>0060536705</td>\n",
       "      <td>7</td>\n",
       "    </tr>\n",
       "    <tr>\n",
       "      <th>3</th>\n",
       "      <td>0.0</td>\n",
       "      <td>1733</td>\n",
       "      <td>0061042005</td>\n",
       "      <td>9</td>\n",
       "    </tr>\n",
       "    <tr>\n",
       "      <th>4</th>\n",
       "      <td>0.0</td>\n",
       "      <td>1733</td>\n",
       "      <td>0061082945</td>\n",
       "      <td>0</td>\n",
       "    </tr>\n",
       "  </tbody>\n",
       "</table>\n",
       "</div>"
      ],
      "text/plain": [
       "   similarityIndex  User-ID        ISBN  Rating\n",
       "0              1.0   276729  052165615X       3\n",
       "1              1.0   276729  0521795028       6\n",
       "2              0.0     1733  0060536705       7\n",
       "3              0.0     1733  0061042005       9\n",
       "4              0.0     1733  0061082945       0"
      ]
     },
     "execution_count": 12,
     "metadata": {},
     "output_type": "execute_result"
    }
   ],
   "source": [
    "topUsersRating = topUsers.merge(df_ratings, left_on='User-ID', right_on='User-ID', how='inner')\n",
    "topUsersRating.head()"
   ]
  },
  {
   "cell_type": "code",
   "execution_count": 13,
   "metadata": {
    "colab": {
     "base_uri": "https://localhost:8080/",
     "height": 206
    },
    "id": "ROOxO5ICKLAp",
    "outputId": "57b9afa1-c65f-428d-90ae-69a19d8b6725"
   },
   "outputs": [
    {
     "data": {
      "text/html": [
       "<div>\n",
       "<style scoped>\n",
       "    .dataframe tbody tr th:only-of-type {\n",
       "        vertical-align: middle;\n",
       "    }\n",
       "\n",
       "    .dataframe tbody tr th {\n",
       "        vertical-align: top;\n",
       "    }\n",
       "\n",
       "    .dataframe thead th {\n",
       "        text-align: right;\n",
       "    }\n",
       "</style>\n",
       "<table border=\"1\" class=\"dataframe\">\n",
       "  <thead>\n",
       "    <tr style=\"text-align: right;\">\n",
       "      <th></th>\n",
       "      <th>similarityIndex</th>\n",
       "      <th>User-ID</th>\n",
       "      <th>ISBN</th>\n",
       "      <th>Rating</th>\n",
       "      <th>weightedRating</th>\n",
       "    </tr>\n",
       "  </thead>\n",
       "  <tbody>\n",
       "    <tr>\n",
       "      <th>0</th>\n",
       "      <td>1.0</td>\n",
       "      <td>276729</td>\n",
       "      <td>052165615X</td>\n",
       "      <td>3</td>\n",
       "      <td>3.0</td>\n",
       "    </tr>\n",
       "    <tr>\n",
       "      <th>1</th>\n",
       "      <td>1.0</td>\n",
       "      <td>276729</td>\n",
       "      <td>0521795028</td>\n",
       "      <td>6</td>\n",
       "      <td>6.0</td>\n",
       "    </tr>\n",
       "    <tr>\n",
       "      <th>2</th>\n",
       "      <td>0.0</td>\n",
       "      <td>1733</td>\n",
       "      <td>0060536705</td>\n",
       "      <td>7</td>\n",
       "      <td>0.0</td>\n",
       "    </tr>\n",
       "    <tr>\n",
       "      <th>3</th>\n",
       "      <td>0.0</td>\n",
       "      <td>1733</td>\n",
       "      <td>0061042005</td>\n",
       "      <td>9</td>\n",
       "      <td>0.0</td>\n",
       "    </tr>\n",
       "    <tr>\n",
       "      <th>4</th>\n",
       "      <td>0.0</td>\n",
       "      <td>1733</td>\n",
       "      <td>0061082945</td>\n",
       "      <td>0</td>\n",
       "      <td>0.0</td>\n",
       "    </tr>\n",
       "  </tbody>\n",
       "</table>\n",
       "</div>"
      ],
      "text/plain": [
       "   similarityIndex  User-ID        ISBN  Rating  weightedRating\n",
       "0              1.0   276729  052165615X       3             3.0\n",
       "1              1.0   276729  0521795028       6             6.0\n",
       "2              0.0     1733  0060536705       7             0.0\n",
       "3              0.0     1733  0061042005       9             0.0\n",
       "4              0.0     1733  0061082945       0             0.0"
      ]
     },
     "execution_count": 13,
     "metadata": {},
     "output_type": "execute_result"
    }
   ],
   "source": [
    "topUsersRating['weightedRating'] = topUsersRating['similarityIndex']*topUsersRating['Rating']\n",
    "topUsersRating.head()"
   ]
  },
  {
   "cell_type": "code",
   "execution_count": 14,
   "metadata": {
    "colab": {
     "base_uri": "https://localhost:8080/",
     "height": 237
    },
    "id": "O87Fs0WkKifw",
    "outputId": "9e5746ab-26d3-4366-de22-06776213406c"
   },
   "outputs": [
    {
     "data": {
      "text/html": [
       "<div>\n",
       "<style scoped>\n",
       "    .dataframe tbody tr th:only-of-type {\n",
       "        vertical-align: middle;\n",
       "    }\n",
       "\n",
       "    .dataframe tbody tr th {\n",
       "        vertical-align: top;\n",
       "    }\n",
       "\n",
       "    .dataframe thead th {\n",
       "        text-align: right;\n",
       "    }\n",
       "</style>\n",
       "<table border=\"1\" class=\"dataframe\">\n",
       "  <thead>\n",
       "    <tr style=\"text-align: right;\">\n",
       "      <th></th>\n",
       "      <th>sum_similarityIndex</th>\n",
       "      <th>sum_weightedRating</th>\n",
       "    </tr>\n",
       "    <tr>\n",
       "      <th>ISBN</th>\n",
       "      <th></th>\n",
       "      <th></th>\n",
       "    </tr>\n",
       "  </thead>\n",
       "  <tbody>\n",
       "    <tr>\n",
       "      <th>000123207X</th>\n",
       "      <td>0.0</td>\n",
       "      <td>0.0</td>\n",
       "    </tr>\n",
       "    <tr>\n",
       "      <th>0001232088</th>\n",
       "      <td>0.0</td>\n",
       "      <td>0.0</td>\n",
       "    </tr>\n",
       "    <tr>\n",
       "      <th>0001931377</th>\n",
       "      <td>0.0</td>\n",
       "      <td>0.0</td>\n",
       "    </tr>\n",
       "    <tr>\n",
       "      <th>0001981625</th>\n",
       "      <td>0.0</td>\n",
       "      <td>0.0</td>\n",
       "    </tr>\n",
       "    <tr>\n",
       "      <th>0002220296</th>\n",
       "      <td>0.0</td>\n",
       "      <td>0.0</td>\n",
       "    </tr>\n",
       "  </tbody>\n",
       "</table>\n",
       "</div>"
      ],
      "text/plain": [
       "            sum_similarityIndex  sum_weightedRating\n",
       "ISBN                                               \n",
       "000123207X                  0.0                 0.0\n",
       "0001232088                  0.0                 0.0\n",
       "0001931377                  0.0                 0.0\n",
       "0001981625                  0.0                 0.0\n",
       "0002220296                  0.0                 0.0"
      ]
     },
     "execution_count": 14,
     "metadata": {},
     "output_type": "execute_result"
    }
   ],
   "source": [
    "#Знайдемо суму до topUsers після групування за userId\n",
    "tempTopUsersRating = topUsersRating.groupby('ISBN').sum()[['similarityIndex','weightedRating']]\n",
    "tempTopUsersRating.columns = ['sum_similarityIndex','sum_weightedRating']\n",
    "tempTopUsersRating.head()"
   ]
  },
  {
   "cell_type": "code",
   "execution_count": 15,
   "metadata": {
    "colab": {
     "base_uri": "https://localhost:8080/",
     "height": 237
    },
    "id": "ei2G5XsAKeuw",
    "outputId": "f1cab042-54f4-43b3-9006-078e56c95948"
   },
   "outputs": [
    {
     "data": {
      "text/html": [
       "<div>\n",
       "<style scoped>\n",
       "    .dataframe tbody tr th:only-of-type {\n",
       "        vertical-align: middle;\n",
       "    }\n",
       "\n",
       "    .dataframe tbody tr th {\n",
       "        vertical-align: top;\n",
       "    }\n",
       "\n",
       "    .dataframe thead th {\n",
       "        text-align: right;\n",
       "    }\n",
       "</style>\n",
       "<table border=\"1\" class=\"dataframe\">\n",
       "  <thead>\n",
       "    <tr style=\"text-align: right;\">\n",
       "      <th></th>\n",
       "      <th>weighted average recommendation score</th>\n",
       "      <th>ISBN</th>\n",
       "    </tr>\n",
       "    <tr>\n",
       "      <th>ISBN</th>\n",
       "      <th></th>\n",
       "      <th></th>\n",
       "    </tr>\n",
       "  </thead>\n",
       "  <tbody>\n",
       "    <tr>\n",
       "      <th>000123207X</th>\n",
       "      <td>NaN</td>\n",
       "      <td>000123207X</td>\n",
       "    </tr>\n",
       "    <tr>\n",
       "      <th>0001232088</th>\n",
       "      <td>NaN</td>\n",
       "      <td>0001232088</td>\n",
       "    </tr>\n",
       "    <tr>\n",
       "      <th>0001931377</th>\n",
       "      <td>NaN</td>\n",
       "      <td>0001931377</td>\n",
       "    </tr>\n",
       "    <tr>\n",
       "      <th>0001981625</th>\n",
       "      <td>NaN</td>\n",
       "      <td>0001981625</td>\n",
       "    </tr>\n",
       "    <tr>\n",
       "      <th>0002220296</th>\n",
       "      <td>NaN</td>\n",
       "      <td>0002220296</td>\n",
       "    </tr>\n",
       "  </tbody>\n",
       "</table>\n",
       "</div>"
      ],
      "text/plain": [
       "            weighted average recommendation score        ISBN\n",
       "ISBN                                                         \n",
       "000123207X                                    NaN  000123207X\n",
       "0001232088                                    NaN  0001232088\n",
       "0001931377                                    NaN  0001931377\n",
       "0001981625                                    NaN  0001981625\n",
       "0002220296                                    NaN  0002220296"
      ]
     },
     "execution_count": 15,
     "metadata": {},
     "output_type": "execute_result"
    }
   ],
   "source": [
    "#Створюємо порожній фрейм даних\n",
    "recommendation_df = pd.DataFrame()\n",
    "#Тепер беремо середньозважене значення\n",
    "recommendation_df['weighted average recommendation score'] = tempTopUsersRating['sum_weightedRating']/tempTopUsersRating['sum_similarityIndex']\n",
    "recommendation_df['ISBN'] = tempTopUsersRating.index\n",
    "recommendation_df.head()"
   ]
  },
  {
   "cell_type": "code",
   "execution_count": 16,
   "metadata": {
    "colab": {
     "base_uri": "https://localhost:8080/",
     "height": 394
    },
    "id": "C2g0RRvAK2GT",
    "outputId": "a8871e7f-b5a5-4784-eca0-b5aa426cdb58"
   },
   "outputs": [
    {
     "data": {
      "text/html": [
       "<div>\n",
       "<style scoped>\n",
       "    .dataframe tbody tr th:only-of-type {\n",
       "        vertical-align: middle;\n",
       "    }\n",
       "\n",
       "    .dataframe tbody tr th {\n",
       "        vertical-align: top;\n",
       "    }\n",
       "\n",
       "    .dataframe thead th {\n",
       "        text-align: right;\n",
       "    }\n",
       "</style>\n",
       "<table border=\"1\" class=\"dataframe\">\n",
       "  <thead>\n",
       "    <tr style=\"text-align: right;\">\n",
       "      <th></th>\n",
       "      <th>weighted average recommendation score</th>\n",
       "      <th>ISBN</th>\n",
       "    </tr>\n",
       "    <tr>\n",
       "      <th>ISBN</th>\n",
       "      <th></th>\n",
       "      <th></th>\n",
       "    </tr>\n",
       "  </thead>\n",
       "  <tbody>\n",
       "    <tr>\n",
       "      <th>0521795028</th>\n",
       "      <td>6.0</td>\n",
       "      <td>0521795028</td>\n",
       "    </tr>\n",
       "    <tr>\n",
       "      <th>052165615X</th>\n",
       "      <td>3.0</td>\n",
       "      <td>052165615X</td>\n",
       "    </tr>\n",
       "    <tr>\n",
       "      <th>000123207X</th>\n",
       "      <td>NaN</td>\n",
       "      <td>000123207X</td>\n",
       "    </tr>\n",
       "    <tr>\n",
       "      <th>0001232088</th>\n",
       "      <td>NaN</td>\n",
       "      <td>0001232088</td>\n",
       "    </tr>\n",
       "    <tr>\n",
       "      <th>0001931377</th>\n",
       "      <td>NaN</td>\n",
       "      <td>0001931377</td>\n",
       "    </tr>\n",
       "    <tr>\n",
       "      <th>0001981625</th>\n",
       "      <td>NaN</td>\n",
       "      <td>0001981625</td>\n",
       "    </tr>\n",
       "    <tr>\n",
       "      <th>0002220296</th>\n",
       "      <td>NaN</td>\n",
       "      <td>0002220296</td>\n",
       "    </tr>\n",
       "    <tr>\n",
       "      <th>0002241447</th>\n",
       "      <td>NaN</td>\n",
       "      <td>0002241447</td>\n",
       "    </tr>\n",
       "    <tr>\n",
       "      <th>000225218X</th>\n",
       "      <td>NaN</td>\n",
       "      <td>000225218X</td>\n",
       "    </tr>\n",
       "    <tr>\n",
       "      <th>0003293459</th>\n",
       "      <td>NaN</td>\n",
       "      <td>0003293459</td>\n",
       "    </tr>\n",
       "  </tbody>\n",
       "</table>\n",
       "</div>"
      ],
      "text/plain": [
       "            weighted average recommendation score        ISBN\n",
       "ISBN                                                         \n",
       "0521795028                                    6.0  0521795028\n",
       "052165615X                                    3.0  052165615X\n",
       "000123207X                                    NaN  000123207X\n",
       "0001232088                                    NaN  0001232088\n",
       "0001931377                                    NaN  0001931377\n",
       "0001981625                                    NaN  0001981625\n",
       "0002220296                                    NaN  0002220296\n",
       "0002241447                                    NaN  0002241447\n",
       "000225218X                                    NaN  000225218X\n",
       "0003293459                                    NaN  0003293459"
      ]
     },
     "execution_count": 16,
     "metadata": {},
     "output_type": "execute_result"
    }
   ],
   "source": [
    "recommendation_df = recommendation_df.sort_values(by='weighted average recommendation score', ascending=False)\n",
    "recommendation_df.head(10)"
   ]
  },
  {
   "cell_type": "code",
   "execution_count": 17,
   "metadata": {
    "colab": {
     "base_uri": "https://localhost:8080/",
     "height": 237
    },
    "id": "frGp6SpnLT4a",
    "outputId": "b773c82e-684f-46b4-b37a-26788635d7d7"
   },
   "outputs": [
    {
     "data": {
      "text/html": [
       "<div>\n",
       "<style scoped>\n",
       "    .dataframe tbody tr th:only-of-type {\n",
       "        vertical-align: middle;\n",
       "    }\n",
       "\n",
       "    .dataframe tbody tr th {\n",
       "        vertical-align: top;\n",
       "    }\n",
       "\n",
       "    .dataframe thead th {\n",
       "        text-align: right;\n",
       "    }\n",
       "</style>\n",
       "<table border=\"1\" class=\"dataframe\">\n",
       "  <thead>\n",
       "    <tr style=\"text-align: right;\">\n",
       "      <th></th>\n",
       "      <th>ISBN</th>\n",
       "      <th>Book-Title</th>\n",
       "      <th>Book-Author</th>\n",
       "      <th>Publisher</th>\n",
       "    </tr>\n",
       "  </thead>\n",
       "  <tbody>\n",
       "    <tr>\n",
       "      <th>134860</th>\n",
       "      <td>000123207X</td>\n",
       "      <td>Paddington's Birthday Party</td>\n",
       "      <td>MichaelBond</td>\n",
       "      <td>HarperCollins Publishers</td>\n",
       "    </tr>\n",
       "    <tr>\n",
       "      <th>134864</th>\n",
       "      <td>0001232088</td>\n",
       "      <td>Paddington in the Kitchen</td>\n",
       "      <td>MichaelBond</td>\n",
       "      <td>HarperCollins Publishers</td>\n",
       "    </tr>\n",
       "    <tr>\n",
       "      <th>136388</th>\n",
       "      <td>000225218X</td>\n",
       "      <td>'Tis the Season to Be Crabby (Festive Peanuts)</td>\n",
       "      <td>CharlesM.Schulz</td>\n",
       "      <td>HarperEntertainment</td>\n",
       "    </tr>\n",
       "    <tr>\n",
       "      <th>160137</th>\n",
       "      <td>0001981625</td>\n",
       "      <td>The Sea of Tranquility</td>\n",
       "      <td>MarkHaddon</td>\n",
       "      <td>HarperCollins Publishers</td>\n",
       "    </tr>\n",
       "    <tr>\n",
       "      <th>246838</th>\n",
       "      <td>052165615X</td>\n",
       "      <td>Help!: Level 1</td>\n",
       "      <td>PhilipProwse</td>\n",
       "      <td>Cambridge University Press</td>\n",
       "    </tr>\n",
       "    <tr>\n",
       "      <th>246839</th>\n",
       "      <td>0521795028</td>\n",
       "      <td>The Amsterdam Connection : Level 4 (Cambridge ...</td>\n",
       "      <td>SueLeather</td>\n",
       "      <td>Cambridge University Press</td>\n",
       "    </tr>\n",
       "  </tbody>\n",
       "</table>\n",
       "</div>"
      ],
      "text/plain": [
       "              ISBN                                         Book-Title  \\\n",
       "134860  000123207X                        Paddington's Birthday Party   \n",
       "134864  0001232088                          Paddington in the Kitchen   \n",
       "136388  000225218X     'Tis the Season to Be Crabby (Festive Peanuts)   \n",
       "160137  0001981625                             The Sea of Tranquility   \n",
       "246838  052165615X                                     Help!: Level 1   \n",
       "246839  0521795028  The Amsterdam Connection : Level 4 (Cambridge ...   \n",
       "\n",
       "            Book-Author                   Publisher  \n",
       "134860      MichaelBond    HarperCollins Publishers  \n",
       "134864      MichaelBond    HarperCollins Publishers  \n",
       "136388  CharlesM.Schulz         HarperEntertainment  \n",
       "160137       MarkHaddon    HarperCollins Publishers  \n",
       "246838     PhilipProwse  Cambridge University Press  \n",
       "246839       SueLeather  Cambridge University Press  "
      ]
     },
     "execution_count": 17,
     "metadata": {},
     "output_type": "execute_result"
    }
   ],
   "source": [
    "#Підсумкова таблиця рекомендацій\n",
    "df_books_selected.loc[df_books_selected['ISBN'].isin(recommendation_df.head(10)['ISBN'].tolist())]"
   ]
  }
 ],
 "metadata": {
  "colab": {
   "include_colab_link": true,
   "provenance": []
  },
  "kernelspec": {
   "display_name": "Python 3 (ipykernel)",
   "language": "python",
   "name": "python3"
  },
  "language_info": {
   "codemirror_mode": {
    "name": "ipython",
    "version": 3
   },
   "file_extension": ".py",
   "mimetype": "text/x-python",
   "name": "python",
   "nbconvert_exporter": "python",
   "pygments_lexer": "ipython3",
   "version": "3.11.3"
  }
 },
 "nbformat": 4,
 "nbformat_minor": 1
}
