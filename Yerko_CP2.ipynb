{
  "nbformat": 4,
  "nbformat_minor": 0,
  "metadata": {
    "colab": {
      "provenance": [],
      "collapsed_sections": [
        "-zHbJdIiAfIA",
        "0Si__dC8B-8g",
        "rI3Sdi-GDP2j",
        "Cm3WFBalEEgh",
        "Sui81PYeFEl4",
        "1ctPyyM-HPxm",
        "nUwUWS_zKUKX",
        "GLnsMsEZNZdn",
        "TJG0XojtPHXo",
        "2LckyWtIRSMa",
        "3Chrw1lNTgVD",
        "kx7dST9xWGYM",
        "hWJsqYSwXZFN",
        "McSodp8lZF_M",
        "iH1JuNNjNf-Q",
        "V8VRqyTmKtG5"
      ],
      "include_colab_link": true
    },
    "kernelspec": {
      "name": "python3",
      "display_name": "Python 3"
    }
  },
  "cells": [
    {
      "cell_type": "markdown",
      "metadata": {
        "id": "view-in-github",
        "colab_type": "text"
      },
      "source": [
        "<a href=\"https://colab.research.google.com/github/andrii0yerko/IASA-Intelligent-Data-Analysis/blob/main/Yerko_CP2.ipynb\" target=\"_parent\"><img src=\"https://colab.research.google.com/assets/colab-badge.svg\" alt=\"Open In Colab\"/></a>"
      ]
    },
    {
      "cell_type": "markdown",
      "metadata": {
        "id": "1jFWt4P5ffoT"
      },
      "source": [
        "\n",
        "<center><font size=\"6\"><b>Комп'ютерний практикум 2.\n",
        "\n",
        "Python для математичних обчислень</b></font></center>"
      ]
    },
    {
      "cell_type": "markdown",
      "metadata": {
        "id": "SxSR9YY5uu96"
      },
      "source": [
        "##<center>__Самостійні завдання__</center>\n",
        "\n",
        "> Скопіювати блок самостійних завдань в окремий файл ***LastName_CP2.ipynb***\n",
        "\n",
        "> Інсталюйте необхідні пакети бібліотек Python"
      ]
    },
    {
      "cell_type": "markdown",
      "metadata": {
        "id": "rN6qzWf8uxn8"
      },
      "source": [
        "### Завдання №1\n",
        "\n",
        "1. Задати матрицю $A$ розмірності $4х5$ з цілих чисел. \n",
        "2. Вивести другий рядок матриці $A$.\n",
        "3. Вивести третій стовпчик матриці $A$. \n",
        "4. Вивести елемент $a_{13}$\n",
        "5. Транспонувати матрицю $A$\n",
        "5. Вивести матрицю $B$, яка є частиною матриці $A$ з перших трьох рядків та стовпців.\n",
        "6. Знайти визначник матриці $B$"
      ]
    },
    {
      "cell_type": "code",
      "metadata": {
        "id": "yts7IXxEu6xs",
        "colab": {
          "base_uri": "https://localhost:8080/"
        },
        "outputId": "f2c70e29-e362-403b-ffa8-e9a42f1763b7"
      },
      "source": [
        "# МІСЦЕ ДЛЯ КОДУ\n",
        "import numpy as np\n",
        "\n",
        "A = np.arange(4 * 5).reshape(4, 5)\n",
        "\n",
        "print(A[1])\n",
        "print(A[:, 2])\n",
        "print(A[0, 2])\n",
        "print(A.T)\n",
        "\n",
        "B = A[:3, :3]\n",
        "print(B)\n",
        "\n",
        "print(np.linalg.det(B))"
      ],
      "execution_count": 1,
      "outputs": [
        {
          "output_type": "stream",
          "name": "stdout",
          "text": [
            "[5 6 7 8 9]\n",
            "[ 2  7 12 17]\n",
            "2\n",
            "[[ 0  5 10 15]\n",
            " [ 1  6 11 16]\n",
            " [ 2  7 12 17]\n",
            " [ 3  8 13 18]\n",
            " [ 4  9 14 19]]\n",
            "[[ 0  1  2]\n",
            " [ 5  6  7]\n",
            " [10 11 12]]\n",
            "0.0\n"
          ]
        }
      ]
    },
    {
      "cell_type": "markdown",
      "metadata": {
        "id": "Q3Jfn-Awv4hX"
      },
      "source": [
        "### Завдання №2\n",
        "\n",
        "1. Задати матрицю $A$ розмірності $2х3$ з цілих чисел. \n",
        "2. Задати матрицю $B$ розмірності $3х2$ з цілих чисел\n",
        "3. Обчислити добуток $AB$ та $BA$ \n",
        "4. Перемножити поелементно $AB^T$ $BA^T$\n",
        "5. Обчислити вираз $(2A-3B^T)N$, де $N$ - квадратна матриця з одиниць, порядку, що дозволяє оперцію множення\n"
      ]
    },
    {
      "cell_type": "code",
      "metadata": {
        "id": "OlhEYu5uxeTu",
        "colab": {
          "base_uri": "https://localhost:8080/"
        },
        "outputId": "a73ba951-7939-410d-e132-07cad0c0cd73"
      },
      "source": [
        "# МІСЦЕ ДЛЯ КОДУ\n",
        "\n",
        "A = np.arange(2 * 3).reshape(2, 3)\n",
        "B = np.arange(2 * 3).reshape(3, 2)\n",
        "\n",
        "print(A @ B)\n",
        "print(B @ A)\n",
        "\n",
        "print(A * B.T)\n",
        "print(B * A.T)\n",
        "\n",
        "tmp = (2 * A - 3 * B.T)\n",
        "N = np.ones((tmp.shape[1], tmp.shape[1]))\n",
        "tmp @ N"
      ],
      "execution_count": 2,
      "outputs": [
        {
          "output_type": "stream",
          "name": "stdout",
          "text": [
            "[[10 13]\n",
            " [28 40]]\n",
            "[[ 3  4  5]\n",
            " [ 9 14 19]\n",
            " [15 24 33]]\n",
            "[[ 0  2  8]\n",
            " [ 3 12 25]]\n",
            "[[ 0  3]\n",
            " [ 2 12]\n",
            " [ 8 25]]\n"
          ]
        },
        {
          "output_type": "execute_result",
          "data": {
            "text/plain": [
              "array([[-12., -12., -12.],\n",
              "       [ -3.,  -3.,  -3.]])"
            ]
          },
          "metadata": {},
          "execution_count": 2
        }
      ]
    },
    {
      "cell_type": "markdown",
      "metadata": {
        "id": "KLxBuXiKxfIb"
      },
      "source": [
        "### Завдання №3\n",
        "\n",
        "Знайти розв'язок системи лінійних рівнянь\n",
        "$$\\begin{cases}\n",
        "   2x_1+5x_2-4x_3=-3\\\\\n",
        "   3x_1-8x_2+3x_3=11\\\\\n",
        "   5x_1+6x_2-4x_3=-1\n",
        " \\end{cases} $$. \n",
        "1. Перевірити за теоремою Кронекера-Капеллі, що система має єдиний розв'язок\n",
        "1. За допомогою вбудованої функції з бібліотеки Python\n",
        "2. За допомогою матричного методу\n",
        "3. За допомогою методу Крамера \n",
        "4. Зробити перевірку, що знайдений розв'язок задовільняє систему\n",
        "5. Знайти власні числа та власні вектори матриці А\n"
      ]
    },
    {
      "cell_type": "code",
      "metadata": {
        "id": "hMWcQK6FzTpQ",
        "colab": {
          "base_uri": "https://localhost:8080/"
        },
        "outputId": "414af996-bf14-4860-fe5e-e5fffc4a302d"
      },
      "source": [
        "# МІСЦЕ ДЛЯ КОДУ\n",
        "\n",
        "A = np.array(\n",
        "    [\n",
        "        [2, 5, -4],\n",
        "        [3, -8, 3],\n",
        "        [5, 6, -4]\n",
        "    ]\n",
        ")\n",
        "\n",
        "b = np.array([-3, 11, -1])\n",
        "\n",
        "# 1\n",
        "assert np.linalg.matrix_rank(A) == np.linalg.matrix_rank(np.column_stack([A, b]))\n",
        "\n",
        "# 2\n",
        "inbuilt = np.linalg.solve(A, b)\n",
        "\n",
        "# 3\n",
        "matrix_method = np.linalg.inv(A) @ b\n",
        "\n",
        "# 4\n",
        "def with_column(matrix, index, replacement):\n",
        "    matrix = matrix.copy()\n",
        "    matrix[:, index] = replacement\n",
        "    return matrix\n",
        "\n",
        "cramers_method = [np.linalg.det(with_column(A, i, b)) for i in range(A.shape[-1])]\n",
        "cramers_method = np.divide(cramers_method, np.linalg.det(A))\n",
        "\n",
        "# 5\n",
        "assert np.isclose(inbuilt, matrix_method).all()\n",
        "assert np.isclose(inbuilt, cramers_method).all()\n",
        "\n",
        "assert np.isclose(A @ inbuilt, b).all()\n",
        "\n",
        "# 6\n",
        "eigvals, eigvects = np.linalg.eig(A)\n",
        "eigvals, eigvects"
      ],
      "execution_count": 3,
      "outputs": [
        {
          "output_type": "execute_result",
          "data": {
            "text/plain": [
              "(array([  0.51083043+2.44937783j,   0.51083043-2.44937783j,\n",
              "        -11.02166086+0.j        ]),\n",
              " array([[-0.26574728-0.36956459j, -0.26574728+0.36956459j,\n",
              "          0.43184973+0.j        ],\n",
              "        [-0.38275228-0.02011423j, -0.38275228+0.02011423j,\n",
              "         -0.81414291+0.j        ],\n",
              "        [-0.80367687+0.j        , -0.80367687-0.j        ,\n",
              "          0.38817153+0.j        ]]))"
            ]
          },
          "metadata": {},
          "execution_count": 3
        }
      ]
    },
    {
      "cell_type": "code",
      "source": [
        "cramers_method"
      ],
      "metadata": {
        "colab": {
          "base_uri": "https://localhost:8080/"
        },
        "id": "0RVt3h72cHT1",
        "outputId": "4ff82683-53d4-487b-e9e3-8a82de44389b"
      },
      "execution_count": 4,
      "outputs": [
        {
          "output_type": "execute_result",
          "data": {
            "text/plain": [
              "array([ 1.00000000e+00, -1.00000000e+00,  7.46584759e-16])"
            ]
          },
          "metadata": {},
          "execution_count": 4
        }
      ]
    },
    {
      "cell_type": "markdown",
      "metadata": {
        "id": "_lEgieLrzm1S"
      },
      "source": [
        "### Завдання №4\n",
        "\n",
        "Знайти границі функції:\n",
        "\n",
        "1. $$\\lim_{x\\to\\infty} \\frac{2x^3+3x^2-7}{4x^2+5x-8}$$\n",
        "\n",
        "2. $$\\lim_{x\\to\\infty} \\left(\\frac{x+4}{x+8}\\right)^{-3x}$$\n",
        "3. $$\\lim_{x\\to 0} \\frac{x^2+x-12}{\\sqrt{x-2}-\\sqrt{4-x}}$$\n",
        "4. $$\\lim_{x\\to 2} \\frac{x^2-5x+6}{x^2-12x+20}$$\n",
        "5. $$\\lim_{x\\to 0} \\frac{\\tan(3x)-\\sin(3x)}{2x^2}$$\n",
        "\n",
        "\n",
        "\n",
        "\n"
      ]
    },
    {
      "cell_type": "code",
      "metadata": {
        "id": "peIh81bA2tAM",
        "colab": {
          "base_uri": "https://localhost:8080/",
          "height": 166
        },
        "outputId": "343c903d-cb02-4a05-d864-013391845b7f"
      },
      "source": [
        " #МІСЦЕ ДЛЯ КОДУ\n",
        "\n",
        "from IPython.display import display\n",
        "from sympy import *\n",
        "\n",
        "x = Symbol(\"x\")\n",
        "\n",
        "display(limit((2 * x ** 3 + 3 * x ** 2 - 7) / (4 * x**2 + 5 * x - 8), x, oo))\n",
        "\n",
        "display(limit(((x + 4) / (x + 8)) ** (-3 * x), x, oo))\n",
        "\n",
        "lim = limit((x ** 2 + x - 12) / (sqrt(x - 2) - sqrt(4 - x)), x, 0)\n",
        "display(lim)\n",
        "\n",
        "lim = limit((x ** 2 - 5 * x + 6) / (x ** 2 - 12 * x + 20), x, 2)\n",
        "display(lim)\n",
        "\n",
        "lim = limit((tan(3 * x) - sin(3 * x)) / (2 * x ** 2), x, 2)\n",
        "display(lim)"
      ],
      "execution_count": 5,
      "outputs": [
        {
          "output_type": "display_data",
          "data": {
            "text/plain": [
              "oo"
            ],
            "text/latex": "$\\displaystyle \\infty$"
          },
          "metadata": {}
        },
        {
          "output_type": "display_data",
          "data": {
            "text/plain": [
              "exp(12)"
            ],
            "text/latex": "$\\displaystyle e^{12}$"
          },
          "metadata": {}
        },
        {
          "output_type": "display_data",
          "data": {
            "text/plain": [
              "-12/(-2 + sqrt(2)*I)"
            ],
            "text/latex": "$\\displaystyle - \\frac{12}{-2 + \\sqrt{2} i}$"
          },
          "metadata": {}
        },
        {
          "output_type": "display_data",
          "data": {
            "text/plain": [
              "1/8"
            ],
            "text/latex": "$\\displaystyle \\frac{1}{8}$"
          },
          "metadata": {}
        },
        {
          "output_type": "display_data",
          "data": {
            "text/plain": [
              "tan(6)/8 - sin(6)/8"
            ],
            "text/latex": "$\\displaystyle \\frac{\\tan{\\left(6 \\right)}}{8} - \\frac{\\sin{\\left(6 \\right)}}{8}$"
          },
          "metadata": {}
        }
      ]
    },
    {
      "cell_type": "markdown",
      "metadata": {
        "id": "9F0h4F4f2uIa"
      },
      "source": [
        "### Завдання №5\n",
        "\n",
        "Знайти похідну функцій\n",
        "\n",
        "1. $$y=x\\sin^3(3x)$$\n",
        "1. $$y=\\ln(x^4-\\cos^2(x))$$\n",
        "2. $$y=x^2\\tan(2x)+e^{6x}$$\n",
        "3. Знайти похідні до 3-го порядку включно\n",
        "$$y=x^2-5\\sin(4x)+3^{2x} $$\n",
        "\n"
      ]
    },
    {
      "cell_type": "code",
      "metadata": {
        "id": "JDMbSOzJ4Ah0",
        "colab": {
          "base_uri": "https://localhost:8080/",
          "height": 182
        },
        "outputId": "1a1790e9-3393-416a-c706-40c9104208b7"
      },
      "source": [
        "# МІСЦЕ ДЛЯ КОДУ\n",
        "\n",
        "display(diff(x * sin(3 * x) ** 3, x))\n",
        "display(diff(ln(x** 4 - cos(x) ** 2), x))\n",
        "display(diff(x ** 2 * tan(2 * x) + E ** (6 * x), x))\n",
        "\n",
        "\n",
        "func = x ** 2 - 5 * sin(4 * x) + 3 ** (2 * x)\n",
        "display(diff(func, x, 1))\n",
        "display(diff(func, x, 2))\n",
        "display(diff(func, x, 3))"
      ],
      "execution_count": 6,
      "outputs": [
        {
          "output_type": "display_data",
          "data": {
            "text/plain": [
              "9*x*sin(3*x)**2*cos(3*x) + sin(3*x)**3"
            ],
            "text/latex": "$\\displaystyle 9 x \\sin^{2}{\\left(3 x \\right)} \\cos{\\left(3 x \\right)} + \\sin^{3}{\\left(3 x \\right)}$"
          },
          "metadata": {}
        },
        {
          "output_type": "display_data",
          "data": {
            "text/plain": [
              "(4*x**3 + 2*sin(x)*cos(x))/(x**4 - cos(x)**2)"
            ],
            "text/latex": "$\\displaystyle \\frac{4 x^{3} + 2 \\sin{\\left(x \\right)} \\cos{\\left(x \\right)}}{x^{4} - \\cos^{2}{\\left(x \\right)}}$"
          },
          "metadata": {}
        },
        {
          "output_type": "display_data",
          "data": {
            "text/plain": [
              "x**2*(2*tan(2*x)**2 + 2) + 2*x*tan(2*x) + 6*exp(6*x)"
            ],
            "text/latex": "$\\displaystyle x^{2} \\left(2 \\tan^{2}{\\left(2 x \\right)} + 2\\right) + 2 x \\tan{\\left(2 x \\right)} + 6 e^{6 x}$"
          },
          "metadata": {}
        },
        {
          "output_type": "display_data",
          "data": {
            "text/plain": [
              "2*3**(2*x)*log(3) + 2*x - 20*cos(4*x)"
            ],
            "text/latex": "$\\displaystyle 2 \\cdot 3^{2 x} \\log{\\left(3 \\right)} + 2 x - 20 \\cos{\\left(4 x \\right)}$"
          },
          "metadata": {}
        },
        {
          "output_type": "display_data",
          "data": {
            "text/plain": [
              "2*(2*3**(2*x)*log(3)**2 + 40*sin(4*x) + 1)"
            ],
            "text/latex": "$\\displaystyle 2 \\left(2 \\cdot 3^{2 x} \\log{\\left(3 \\right)}^{2} + 40 \\sin{\\left(4 x \\right)} + 1\\right)$"
          },
          "metadata": {}
        },
        {
          "output_type": "display_data",
          "data": {
            "text/plain": [
              "8*(3**(2*x)*log(3)**3 + 40*cos(4*x))"
            ],
            "text/latex": "$\\displaystyle 8 \\left(3^{2 x} \\log{\\left(3 \\right)}^{3} + 40 \\cos{\\left(4 x \\right)}\\right)$"
          },
          "metadata": {}
        }
      ]
    },
    {
      "cell_type": "markdown",
      "metadata": {
        "id": "k_NcB7fE4B5S"
      },
      "source": [
        "### Завдання №6\n",
        "\n",
        "Знайти невизначений інеграл\n",
        "\n",
        "1. $$\\int \\frac{2-x}{4x^2+16x-12} \\,dx$$\n",
        "1. $$\\int \\frac{7x-1}{\\sqrt{2x^2-x+5}} \\,dx$$\n",
        "3. $$\\int \\frac{\\ln(x)}{x^3} \\,dx$$\n",
        "4. $$\\int \\frac{x\\arccos(2x)}{\\sqrt{1-4x^2}} \\,dx$$\n",
        "\n",
        "Обчислити визначений інтеграл\n",
        "\n",
        "1. $$\\int_{1}^{2} 3(x-1)^2 \\,dx$$\n",
        "2. $$\\int_{0}^{\\pi/2} \\sin^3(x) \\,dx$$\n",
        "3. $$\\int_{1}^{+\\infty} \\frac{1}{x^2+4x+13} \\,dx$$\n",
        "4. $$\\int_{1}^{+\\infty} \\frac{2+\\sin(x)}{\\sqrt{x}},dx$$\n"
      ]
    },
    {
      "cell_type": "code",
      "metadata": {
        "id": "xiaGK3hK4BPs",
        "colab": {
          "base_uri": "https://localhost:8080/",
          "height": 265
        },
        "outputId": "46023da0-fb4c-468a-e23b-2124334da8d8"
      },
      "source": [
        "# МІСЦЕ ДЛЯ КОДУ\n",
        "\n",
        "display(integrate((2 - x) / (4 * x ** 2 + 16 * x - 12), x))\n",
        "display(integrate((7 * x - 1) / sqrt(2 * x ** 2 - x + 5), x))\n",
        "display(integrate(ln(x) / x ** 3, x))\n",
        "display(integrate((x * acos(2 * x)) / sqrt(1 - 4 * x ** 2), x))\n",
        "\n",
        "display(integrate(3 * (x - 1) ** 2, (x, 1, 2)))\n",
        "display(integrate(sin(x) ** 3, (x, 0, pi / 2)))\n",
        "display(integrate(1 / (x ** 2 + 4 * x + 13), (x, 1, oo)))\n",
        "# display(integrate((2 + sin(x)) / sqrt(x), (x, 1, oo)))  # does not converge"
      ],
      "execution_count": 7,
      "outputs": [
        {
          "output_type": "display_data",
          "data": {
            "text/plain": [
              "-(1/8 + sqrt(7)/14)*log(x + 2 + sqrt(7)) - (1/8 - sqrt(7)/14)*log(x - sqrt(7) + 2)"
            ],
            "text/latex": "$\\displaystyle - \\left(\\frac{1}{8} + \\frac{\\sqrt{7}}{14}\\right) \\log{\\left(x + 2 + \\sqrt{7} \\right)} - \\left(\\frac{1}{8} - \\frac{\\sqrt{7}}{14}\\right) \\log{\\left(x - \\sqrt{7} + 2 \\right)}$"
          },
          "metadata": {}
        },
        {
          "output_type": "display_data",
          "data": {
            "text/plain": [
              "Integral((7*x - 1)/sqrt(2*x**2 - x + 5), x)"
            ],
            "text/latex": "$\\displaystyle \\int \\frac{7 x - 1}{\\sqrt{2 x^{2} - x + 5}}\\, dx$"
          },
          "metadata": {}
        },
        {
          "output_type": "display_data",
          "data": {
            "text/plain": [
              "-log(x)/(2*x**2) - 1/(4*x**2)"
            ],
            "text/latex": "$\\displaystyle - \\frac{\\log{\\left(x \\right)}}{2 x^{2}} - \\frac{1}{4 x^{2}}$"
          },
          "metadata": {}
        },
        {
          "output_type": "display_data",
          "data": {
            "text/plain": [
              "-x/2 - sqrt(1 - 4*x**2)*acos(2*x)/4"
            ],
            "text/latex": "$\\displaystyle - \\frac{x}{2} - \\frac{\\sqrt{1 - 4 x^{2}} \\operatorname{acos}{\\left(2 x \\right)}}{4}$"
          },
          "metadata": {}
        },
        {
          "output_type": "display_data",
          "data": {
            "text/plain": [
              "1"
            ],
            "text/latex": "$\\displaystyle 1$"
          },
          "metadata": {}
        },
        {
          "output_type": "display_data",
          "data": {
            "text/plain": [
              "2/3"
            ],
            "text/latex": "$\\displaystyle \\frac{2}{3}$"
          },
          "metadata": {}
        },
        {
          "output_type": "display_data",
          "data": {
            "text/plain": [
              "pi/12"
            ],
            "text/latex": "$\\displaystyle \\frac{\\pi}{12}$"
          },
          "metadata": {}
        }
      ]
    },
    {
      "cell_type": "code",
      "source": [],
      "metadata": {
        "id": "pRxH03X0sk8b"
      },
      "execution_count": 7,
      "outputs": []
    }
  ]
}