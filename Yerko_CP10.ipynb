{
  "cells": [
    {
      "cell_type": "markdown",
      "metadata": {
        "id": "wNhBviOWN-YW"
      },
      "source": [
        "<center><font size=\"6\"><b>Комп'ютерний практикум 10.\n",
        "\n",
        "<center><b> Рекомендаційні системи </font>\n",
        "\n",
        "\n",
        "<center><b><i><font size=\"4\"> Content-based filtering\n",
        "\n",
        "\n",
        "\n",
        "</b></center>\n",
        "\n"
      ]
    },
    {
      "cell_type": "markdown",
      "metadata": {
        "id": "uEoeTCVzgj0O"
      },
      "source": [
        "##<center>__Самостійні завдання__</center>\n",
        "\n",
        "> Скопіювати блок самостійних завдань в окремий файл ***LastName_CP10.ipynb***\n",
        "\n",
        "> Інсталюйте необхідні пакети бібліотек Python"
      ]
    },
    {
      "cell_type": "markdown",
      "metadata": {
        "id": "0BDe0NyTgmSY"
      },
      "source": [
        "### Завдання №1\n",
        "\n",
        "* Завантажте архів `BX-CSV-Dump.zip` та розпакуйте дані з лінку\n",
        "\n",
        "`url = \"http://www2.informatik.uni-freiburg.de/~cziegler/BX/BX-CSV-Dump.zip\"`\n",
        "\n",
        "* Завантажте датасети `BX-Books.csv` як `df.books` та `BX-Book-Ratings.csv` як `df.ratings`, виведіть частину датасетів на екран\n",
        "\n",
        "Використайте ці дані, щоб побудувати систему рекомендацій, яка підкаже, що користувачеві варто прочитати наступним, виходячи з його поточних книжкових уподобань.\n",
        "\n",
        "\n",
        " \n"
      ]
    },
    {
      "cell_type": "code",
      "execution_count": 2,
      "metadata": {
        "id": "s0XIjMe_gpOr",
        "colab": {
          "base_uri": "https://localhost:8080/"
        },
        "outputId": "bdd5f48c-21db-40d1-bf5d-addd90b40287"
      },
      "outputs": [
        {
          "output_type": "stream",
          "name": "stderr",
          "text": [
            "<ipython-input-2-76f96a0ce531>:15: DtypeWarning: Columns (3) have mixed types. Specify dtype option on import or set low_memory=False.\n",
            "  df_books = pd.read_csv(\"BX-Books.csv\", on_bad_lines=\"skip\", sep=';', encoding='latin-1')\n"
          ]
        },
        {
          "output_type": "stream",
          "name": "stdout",
          "text": [
            "         ISBN                                         Book-Title  \\\n",
            "0  0195153448                                Classical Mythology   \n",
            "1  0002005018                                       Clara Callan   \n",
            "2  0060973129                               Decision in Normandy   \n",
            "3  0374157065  Flu: The Story of the Great Influenza Pandemic...   \n",
            "4  0393045218                             The Mummies of Urumchi   \n",
            "\n",
            "            Book-Author Year-Of-Publication                   Publisher  \\\n",
            "0    Mark P. O. Morford                2002     Oxford University Press   \n",
            "1  Richard Bruce Wright                2001       HarperFlamingo Canada   \n",
            "2          Carlo D'Este                1991             HarperPerennial   \n",
            "3      Gina Bari Kolata                1999        Farrar Straus Giroux   \n",
            "4       E. J. W. Barber                1999  W. W. Norton &amp; Company   \n",
            "\n",
            "                                         Image-URL-S  \\\n",
            "0  http://images.amazon.com/images/P/0195153448.0...   \n",
            "1  http://images.amazon.com/images/P/0002005018.0...   \n",
            "2  http://images.amazon.com/images/P/0060973129.0...   \n",
            "3  http://images.amazon.com/images/P/0374157065.0...   \n",
            "4  http://images.amazon.com/images/P/0393045218.0...   \n",
            "\n",
            "                                         Image-URL-M  \\\n",
            "0  http://images.amazon.com/images/P/0195153448.0...   \n",
            "1  http://images.amazon.com/images/P/0002005018.0...   \n",
            "2  http://images.amazon.com/images/P/0060973129.0...   \n",
            "3  http://images.amazon.com/images/P/0374157065.0...   \n",
            "4  http://images.amazon.com/images/P/0393045218.0...   \n",
            "\n",
            "                                         Image-URL-L  \n",
            "0  http://images.amazon.com/images/P/0195153448.0...  \n",
            "1  http://images.amazon.com/images/P/0002005018.0...  \n",
            "2  http://images.amazon.com/images/P/0060973129.0...  \n",
            "3  http://images.amazon.com/images/P/0374157065.0...  \n",
            "4  http://images.amazon.com/images/P/0393045218.0...  \n",
            "   User-ID        ISBN  Book-Rating\n",
            "0   276725  034545104X            0\n",
            "1   276726  0155061224            5\n",
            "2   276727  0446520802            0\n",
            "3   276729  052165615X            3\n",
            "4   276729  0521795028            6\n"
          ]
        }
      ],
      "source": [
        "# МІСЦЕ ДЛЯ КОДУ\n",
        "import pandas as pd\n",
        "import urllib.request\n",
        "import zipfile\n",
        "\n",
        "# Завантаження архіву\n",
        "url = \"http://www2.informatik.uni-freiburg.de/~cziegler/BX/BX-CSV-Dump.zip\"\n",
        "urllib.request.urlretrieve(url, \"BX-CSV-Dump.zip\")\n",
        "\n",
        "# Розпакування архіву\n",
        "with zipfile.ZipFile(\"BX-CSV-Dump.zip\", \"r\") as zip_ref:\n",
        "    zip_ref.extractall()\n",
        "\n",
        "# Завантаження датасетів\n",
        "df_books = pd.read_csv(\"BX-Books.csv\", on_bad_lines=\"skip\", sep=';', encoding='latin-1')\n",
        "df_ratings = pd.read_csv(\"BX-Book-Ratings.csv\", on_bad_lines=\"skip\", sep=';', encoding='latin-1')\n",
        "\n",
        "# Виведення частини датасетів на екран\n",
        "print(df_books.head())\n",
        "print(df_ratings.head())"
      ]
    },
    {
      "cell_type": "markdown",
      "metadata": {
        "id": "r5xD3xxVpvNI"
      },
      "source": [
        "### Завдання №2\n",
        "\n",
        "* Виведіть інформацію про датасет\n",
        "* Залиште в датасеті лише колонки `ISBN`, `Book Title`,`Book Author` and `Publisher`.\n",
        "* Перевірте, чи немає дублікатів назв книг, видаліть, якщо такі є. Для цього скористайтесь функціями `duplicated(subset='Book-Title')`  та `drop_duplicates(subset='Book-Title')`\n",
        "* Об'єднайте імена та прізвища авторів, видаляючи пробіли, щоб система розрізняла авторів з однаковими іменами\n",
        "* Виведіть шапку таблиці, щоб переконатись у об'єднанні\n",
        "\n"
      ]
    },
    {
      "cell_type": "code",
      "execution_count": 3,
      "metadata": {
        "id": "3_V_77Igpzgi",
        "colab": {
          "base_uri": "https://localhost:8080/"
        },
        "outputId": "75dcffc2-5cfc-4143-b130-783ab7b624b1"
      },
      "outputs": [
        {
          "output_type": "stream",
          "name": "stdout",
          "text": [
            "<class 'pandas.core.frame.DataFrame'>\n",
            "RangeIndex: 271360 entries, 0 to 271359\n",
            "Data columns (total 8 columns):\n",
            " #   Column               Non-Null Count   Dtype \n",
            "---  ------               --------------   ----- \n",
            " 0   ISBN                 271360 non-null  object\n",
            " 1   Book-Title           271360 non-null  object\n",
            " 2   Book-Author          271359 non-null  object\n",
            " 3   Year-Of-Publication  271360 non-null  object\n",
            " 4   Publisher            271358 non-null  object\n",
            " 5   Image-URL-S          271360 non-null  object\n",
            " 6   Image-URL-M          271360 non-null  object\n",
            " 7   Image-URL-L          271357 non-null  object\n",
            "dtypes: object(8)\n",
            "memory usage: 16.6+ MB\n",
            "None\n",
            "Кількість рядків до видалення дублікатів:  271360\n",
            "Кількість рядків після видалення дублікатів:  242135\n",
            "         ISBN                                         Book-Title  \\\n",
            "0  0195153448                                Classical Mythology   \n",
            "1  0002005018                                       Clara Callan   \n",
            "2  0060973129                               Decision in Normandy   \n",
            "3  0374157065  Flu: The Story of the Great Influenza Pandemic...   \n",
            "4  0393045218                             The Mummies of Urumchi   \n",
            "\n",
            "          Book-Author                   Publisher  \n",
            "0     MarkP.O.Morford     Oxford University Press  \n",
            "1  RichardBruceWright       HarperFlamingo Canada  \n",
            "2         CarloD'Este             HarperPerennial  \n",
            "3      GinaBariKolata        Farrar Straus Giroux  \n",
            "4        E.J.W.Barber  W. W. Norton &amp; Company  \n"
          ]
        }
      ],
      "source": [
        "# МІСЦЕ ДЛЯ КОДУ\n",
        "# Виведення інформації про датасет\n",
        "print(df_books.info())\n",
        "\n",
        "# Залишення необхідних колонок\n",
        "df_books = df_books[['ISBN', 'Book-Title', 'Book-Author', 'Publisher']]\n",
        "\n",
        "# Видалення дублікатів\n",
        "print(\"Кількість рядків до видалення дублікатів: \", len(df_books))\n",
        "df_books = df_books.drop_duplicates(subset='Book-Title')\n",
        "print(\"Кількість рядків після видалення дублікатів: \", len(df_books))\n",
        "\n",
        "# Об'єднання імен та прізвищ авторів\n",
        "df_books['Book-Author'] = df_books['Book-Author'].str.replace(' ', '')\n",
        "\n",
        "# Виведення шапки таблиці\n",
        "print(df_books.head())"
      ]
    },
    {
      "cell_type": "markdown",
      "metadata": {
        "id": "hxpalvUa3BPL"
      },
      "source": [
        "### Завдання №3\n",
        "\n",
        "* Створіть користувача, якому поставте у відповідність 5 довільних кних з переліку та рейтингом (0-10)\n",
        "* Створіть рекомендований список з 10 книг для користувача, спираючись на автора та видавництво.\n"
      ]
    },
    {
      "cell_type": "code",
      "execution_count": 5,
      "metadata": {
        "id": "DhRQ-upKS2lV",
        "colab": {
          "base_uri": "https://localhost:8080/",
          "height": 501
        },
        "outputId": "d0fd4a1f-0662-460f-ed4d-8f0ab191eec4"
      },
      "outputs": [
        {
          "output_type": "stream",
          "name": "stderr",
          "text": [
            "<ipython-input-5-f398e0c0ac1d>:18: FutureWarning: In a future version of pandas all arguments of DataFrame.drop except for the argument 'labels' will be keyword-only.\n",
            "  userAuthorPublisherTable = userBooks.drop('ISBN', 1).drop('Book-Title', 1)\n",
            "<ipython-input-5-f398e0c0ac1d>:18: FutureWarning: In a future version of pandas all arguments of DataFrame.drop except for the argument 'labels' will be keyword-only.\n",
            "  userAuthorPublisherTable = userBooks.drop('ISBN', 1).drop('Book-Title', 1)\n",
            "<ipython-input-5-f398e0c0ac1d>:27: FutureWarning: In a future version of pandas all arguments of DataFrame.drop except for the argument 'labels' will be keyword-only.\n",
            "  authorPublisherTable = authorPublisherTable.drop('ISBN', 1).drop('Book-Title', 1)\n",
            "<ipython-input-5-f398e0c0ac1d>:27: FutureWarning: In a future version of pandas all arguments of DataFrame.drop except for the argument 'labels' will be keyword-only.\n",
            "  authorPublisherTable = authorPublisherTable.drop('ISBN', 1).drop('Book-Title', 1)\n"
          ]
        },
        {
          "output_type": "execute_result",
          "data": {
            "text/plain": [
              "              ISBN                                         Book-Title  \\\n",
              "184780  3548231608        HÃ?Â¼gel der SelbstmÃ?Â¶rder. Polizeiroman.   \n",
              "75805   0553254332                                         Fairytales   \n",
              "57449   0553567071  Sweet Kiss of Summer (Sweet Valley University,...   \n",
              "147006  0805032002                                    Wabash: A Novel   \n",
              "17118   0373250258           Fashionistas (Red Dress Ink (Paperback))   \n",
              "119286  0786706368                The Secret Cases of Sherlock Holmes   \n",
              "94674   0142300667         Shakespeare's Scribe (Shakespeare Stealer)   \n",
              "222733  2070300463  Signe Ascendant/Fata Morgana/Les Etats Generau...   \n",
              "70630   0425162397  Goose in the Pond (Benni Harper Mysteries (Pap...   \n",
              "107815  0586041664    Lovecraft, a look behind the \\Cthulhu mythos\\\"\"   \n",
              "\n",
              "             Book-Author                                          Publisher  \n",
              "184780       JamesEllroy  Ullstein Buchverlage GmbH &amp; Co. KG / Ullst...  \n",
              "75805     CynthiaFreeman                                       Bantam Books  \n",
              "57449     FrancinePascal                                       Sweet Valley  \n",
              "147006  RobertOlenButler                                Henry Holt &amp; Co  \n",
              "17118        LynnMessina                                      Red Dress Ink  \n",
              "119286      DonaldThomas                      Carroll &amp; Graf Publishers  \n",
              "94674      GaryBlackwood                                       Puffin Books  \n",
              "222733            Breton                                Editions Flammarion  \n",
              "70630      EarleneFowler                           Berkley Publishing Group  \n",
              "107815         LinCarter                                            Panther  "
            ],
            "text/html": [
              "\n",
              "  <div id=\"df-55cb0a37-8b50-4aff-8a67-b99db4acb256\">\n",
              "    <div class=\"colab-df-container\">\n",
              "      <div>\n",
              "<style scoped>\n",
              "    .dataframe tbody tr th:only-of-type {\n",
              "        vertical-align: middle;\n",
              "    }\n",
              "\n",
              "    .dataframe tbody tr th {\n",
              "        vertical-align: top;\n",
              "    }\n",
              "\n",
              "    .dataframe thead th {\n",
              "        text-align: right;\n",
              "    }\n",
              "</style>\n",
              "<table border=\"1\" class=\"dataframe\">\n",
              "  <thead>\n",
              "    <tr style=\"text-align: right;\">\n",
              "      <th></th>\n",
              "      <th>ISBN</th>\n",
              "      <th>Book-Title</th>\n",
              "      <th>Book-Author</th>\n",
              "      <th>Publisher</th>\n",
              "    </tr>\n",
              "  </thead>\n",
              "  <tbody>\n",
              "    <tr>\n",
              "      <th>184780</th>\n",
              "      <td>3548231608</td>\n",
              "      <td>HÃ?Â¼gel der SelbstmÃ?Â¶rder. Polizeiroman.</td>\n",
              "      <td>JamesEllroy</td>\n",
              "      <td>Ullstein Buchverlage GmbH &amp;amp; Co. KG / Ullst...</td>\n",
              "    </tr>\n",
              "    <tr>\n",
              "      <th>75805</th>\n",
              "      <td>0553254332</td>\n",
              "      <td>Fairytales</td>\n",
              "      <td>CynthiaFreeman</td>\n",
              "      <td>Bantam Books</td>\n",
              "    </tr>\n",
              "    <tr>\n",
              "      <th>57449</th>\n",
              "      <td>0553567071</td>\n",
              "      <td>Sweet Kiss of Summer (Sweet Valley University,...</td>\n",
              "      <td>FrancinePascal</td>\n",
              "      <td>Sweet Valley</td>\n",
              "    </tr>\n",
              "    <tr>\n",
              "      <th>147006</th>\n",
              "      <td>0805032002</td>\n",
              "      <td>Wabash: A Novel</td>\n",
              "      <td>RobertOlenButler</td>\n",
              "      <td>Henry Holt &amp;amp; Co</td>\n",
              "    </tr>\n",
              "    <tr>\n",
              "      <th>17118</th>\n",
              "      <td>0373250258</td>\n",
              "      <td>Fashionistas (Red Dress Ink (Paperback))</td>\n",
              "      <td>LynnMessina</td>\n",
              "      <td>Red Dress Ink</td>\n",
              "    </tr>\n",
              "    <tr>\n",
              "      <th>119286</th>\n",
              "      <td>0786706368</td>\n",
              "      <td>The Secret Cases of Sherlock Holmes</td>\n",
              "      <td>DonaldThomas</td>\n",
              "      <td>Carroll &amp;amp; Graf Publishers</td>\n",
              "    </tr>\n",
              "    <tr>\n",
              "      <th>94674</th>\n",
              "      <td>0142300667</td>\n",
              "      <td>Shakespeare's Scribe (Shakespeare Stealer)</td>\n",
              "      <td>GaryBlackwood</td>\n",
              "      <td>Puffin Books</td>\n",
              "    </tr>\n",
              "    <tr>\n",
              "      <th>222733</th>\n",
              "      <td>2070300463</td>\n",
              "      <td>Signe Ascendant/Fata Morgana/Les Etats Generau...</td>\n",
              "      <td>Breton</td>\n",
              "      <td>Editions Flammarion</td>\n",
              "    </tr>\n",
              "    <tr>\n",
              "      <th>70630</th>\n",
              "      <td>0425162397</td>\n",
              "      <td>Goose in the Pond (Benni Harper Mysteries (Pap...</td>\n",
              "      <td>EarleneFowler</td>\n",
              "      <td>Berkley Publishing Group</td>\n",
              "    </tr>\n",
              "    <tr>\n",
              "      <th>107815</th>\n",
              "      <td>0586041664</td>\n",
              "      <td>Lovecraft, a look behind the \\Cthulhu mythos\\\"\"</td>\n",
              "      <td>LinCarter</td>\n",
              "      <td>Panther</td>\n",
              "    </tr>\n",
              "  </tbody>\n",
              "</table>\n",
              "</div>\n",
              "      <button class=\"colab-df-convert\" onclick=\"convertToInteractive('df-55cb0a37-8b50-4aff-8a67-b99db4acb256')\"\n",
              "              title=\"Convert this dataframe to an interactive table.\"\n",
              "              style=\"display:none;\">\n",
              "        \n",
              "  <svg xmlns=\"http://www.w3.org/2000/svg\" height=\"24px\"viewBox=\"0 0 24 24\"\n",
              "       width=\"24px\">\n",
              "    <path d=\"M0 0h24v24H0V0z\" fill=\"none\"/>\n",
              "    <path d=\"M18.56 5.44l.94 2.06.94-2.06 2.06-.94-2.06-.94-.94-2.06-.94 2.06-2.06.94zm-11 1L8.5 8.5l.94-2.06 2.06-.94-2.06-.94L8.5 2.5l-.94 2.06-2.06.94zm10 10l.94 2.06.94-2.06 2.06-.94-2.06-.94-.94-2.06-.94 2.06-2.06.94z\"/><path d=\"M17.41 7.96l-1.37-1.37c-.4-.4-.92-.59-1.43-.59-.52 0-1.04.2-1.43.59L10.3 9.45l-7.72 7.72c-.78.78-.78 2.05 0 2.83L4 21.41c.39.39.9.59 1.41.59.51 0 1.02-.2 1.41-.59l7.78-7.78 2.81-2.81c.8-.78.8-2.07 0-2.86zM5.41 20L4 18.59l7.72-7.72 1.47 1.35L5.41 20z\"/>\n",
              "  </svg>\n",
              "      </button>\n",
              "      \n",
              "  <style>\n",
              "    .colab-df-container {\n",
              "      display:flex;\n",
              "      flex-wrap:wrap;\n",
              "      gap: 12px;\n",
              "    }\n",
              "\n",
              "    .colab-df-convert {\n",
              "      background-color: #E8F0FE;\n",
              "      border: none;\n",
              "      border-radius: 50%;\n",
              "      cursor: pointer;\n",
              "      display: none;\n",
              "      fill: #1967D2;\n",
              "      height: 32px;\n",
              "      padding: 0 0 0 0;\n",
              "      width: 32px;\n",
              "    }\n",
              "\n",
              "    .colab-df-convert:hover {\n",
              "      background-color: #E2EBFA;\n",
              "      box-shadow: 0px 1px 2px rgba(60, 64, 67, 0.3), 0px 1px 3px 1px rgba(60, 64, 67, 0.15);\n",
              "      fill: #174EA6;\n",
              "    }\n",
              "\n",
              "    [theme=dark] .colab-df-convert {\n",
              "      background-color: #3B4455;\n",
              "      fill: #D2E3FC;\n",
              "    }\n",
              "\n",
              "    [theme=dark] .colab-df-convert:hover {\n",
              "      background-color: #434B5C;\n",
              "      box-shadow: 0px 1px 3px 1px rgba(0, 0, 0, 0.15);\n",
              "      filter: drop-shadow(0px 1px 2px rgba(0, 0, 0, 0.3));\n",
              "      fill: #FFFFFF;\n",
              "    }\n",
              "  </style>\n",
              "\n",
              "      <script>\n",
              "        const buttonEl =\n",
              "          document.querySelector('#df-55cb0a37-8b50-4aff-8a67-b99db4acb256 button.colab-df-convert');\n",
              "        buttonEl.style.display =\n",
              "          google.colab.kernel.accessAllowed ? 'block' : 'none';\n",
              "\n",
              "        async function convertToInteractive(key) {\n",
              "          const element = document.querySelector('#df-55cb0a37-8b50-4aff-8a67-b99db4acb256');\n",
              "          const dataTable =\n",
              "            await google.colab.kernel.invokeFunction('convertToInteractive',\n",
              "                                                     [key], {});\n",
              "          if (!dataTable) return;\n",
              "\n",
              "          const docLinkHtml = 'Like what you see? Visit the ' +\n",
              "            '<a target=\"_blank\" href=https://colab.research.google.com/notebooks/data_table.ipynb>data table notebook</a>'\n",
              "            + ' to learn more about interactive tables.';\n",
              "          element.innerHTML = '';\n",
              "          dataTable['output_type'] = 'display_data';\n",
              "          await google.colab.output.renderOutput(dataTable, element);\n",
              "          const docLink = document.createElement('div');\n",
              "          docLink.innerHTML = docLinkHtml;\n",
              "          element.appendChild(docLink);\n",
              "        }\n",
              "      </script>\n",
              "    </div>\n",
              "  </div>\n",
              "  "
            ]
          },
          "metadata": {},
          "execution_count": 5
        }
      ],
      "source": [
        "# МІСЦЕ ДЛЯ КОДУ\n",
        "# Створення користувача та його книжкових уподобань\n",
        "userInput = [\n",
        "            {'Book-Title': 'The Firm', 'Book-Rating': 10},\n",
        "            {'Book-Title': 'Mientras Escribo', 'Book-Rating': 6},\n",
        "            {'Book-Title': 'A Man in Full', 'Book-Rating': 9},\n",
        "            {'Book-Title': 'Hannibal', 'Book-Rating': 1},\n",
        "            {'Book-Title': 'The Lovely Bones: A Novel', 'Book-Rating': 3.5}\n",
        "         ] \n",
        "inputBooks = pd.DataFrame(userInput)\n",
        "df_books = df_books.sample(10000, random_state=17)\n",
        "inputId = df_books[df_books['Book-Title'].isin(inputBooks['Book-Title'].tolist())]\n",
        "inputBooks = pd.merge(inputId, inputBooks)\n",
        "encoded_books_df = pd.get_dummies(df_books, columns=[\"Book-Author\", \"Publisher\"])\n",
        "userBooks = encoded_books_df[encoded_books_df['ISBN'].isin(inputBooks['ISBN'].tolist())]\n",
        "\n",
        "userBooks = userBooks.reset_index(drop=True)\n",
        "userAuthorPublisherTable = userBooks.drop('ISBN', 1).drop('Book-Title', 1)\n",
        "\n",
        "\n",
        "#Скалярний добуток для отримання вагів вподобань у профайлі користувача\n",
        "userProfile = userAuthorPublisherTable.transpose().dot(inputBooks['Book-Rating'])\n",
        "\n",
        "#Отримаємо жанри кожного фільму у нашому вихідному фреймі даних\n",
        "authorPublisherTable = encoded_books_df.set_index(encoded_books_df['ISBN'])\n",
        "#Видаляємо зайву інформацію\n",
        "authorPublisherTable = authorPublisherTable.drop('ISBN', 1).drop('Book-Title', 1)\n",
        "\n",
        "recommendationTable_df = ((authorPublisherTable*userProfile).sum(axis=1))/(userProfile.sum())\n",
        "recommendationTable_df = recommendationTable_df.sort_values(ascending=False)\n",
        "\n",
        "df_books.loc[df_books['ISBN'].isin(recommendationTable_df.head(10).keys())]\n"
      ]
    },
    {
      "cell_type": "code",
      "execution_count": null,
      "metadata": {
        "id": "02HVsAh3ZrSq",
        "outputId": "2dcffe39-10ca-4dfa-e35f-8a257984479a"
      },
      "outputs": [
        {
          "data": {
            "text/plain": [
              "'BDD Promotional Books Company'"
            ]
          },
          "execution_count": 9,
          "metadata": {},
          "output_type": "execute_result"
        }
      ],
      "source": [
        "publisher"
      ]
    },
    {
      "cell_type": "code",
      "execution_count": null,
      "metadata": {
        "id": "GB6cKcI8ZrSq"
      },
      "outputs": [],
      "source": []
    }
  ],
  "metadata": {
    "colab": {
      "provenance": []
    },
    "kernelspec": {
      "display_name": "Python 3 (ipykernel)",
      "language": "python",
      "name": "python3"
    },
    "language_info": {
      "codemirror_mode": {
        "name": "ipython",
        "version": 3
      },
      "file_extension": ".py",
      "mimetype": "text/x-python",
      "name": "python",
      "nbconvert_exporter": "python",
      "pygments_lexer": "ipython3",
      "version": "3.11.3"
    }
  },
  "nbformat": 4,
  "nbformat_minor": 0
}