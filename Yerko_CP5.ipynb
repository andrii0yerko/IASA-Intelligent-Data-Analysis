{
 "cells": [
  {
   "cell_type": "markdown",
   "metadata": {
    "id": "wNhBviOWN-YW"
   },
   "source": [
    "<center><font size=\"6\"><b>Комп'ютерний практикум 5.\n",
    "\n",
    "Лінійна регресія</b></font></center>"
   ]
  },
  {
   "cell_type": "markdown",
   "metadata": {
    "id": "U0xZilE1TFpg"
   },
   "source": [
    "##<center>__Самостійні завдання__</center>\n",
    "\n",
    "> Скопіювати блок самостійних завдань в окремий файл ***LastName_CP5.ipynb***\n",
    "\n",
    "> Інсталюйте необхідні пакети бібліотек Python"
   ]
  },
  {
   "cell_type": "markdown",
   "metadata": {
    "id": "n2DcwcrSULJA"
   },
   "source": [
    "### Завдання №1\n",
    "\n",
    "Завантажте дані з ресурсу\n",
    "\n",
    "URL = 'https://cf-courses-data.s3.us.cloud-object-storage.appdomain.cloud/IBMDeveloperSkillsNetwork-DA0101EN-SkillsNetwork/labs/Data%20files/automobileEDA.csv'"
   ]
  },
  {
   "cell_type": "code",
   "execution_count": 1,
   "metadata": {
    "id": "U43QSaHHTFOL"
   },
   "outputs": [],
   "source": [
    "# МІСЦЕ ДЛЯ КОДУ\n",
    "import numpy as np\n",
    "import pandas as pd\n",
    "\n",
    "url = 'https://cf-courses-data.s3.us.cloud-object-storage.appdomain.cloud/IBMDeveloperSkillsNetwork-DA0101EN-SkillsNetwork/labs/Data%20files/automobileEDA.csv'\n",
    "\n",
    "df = pd.read_csv(url)"
   ]
  },
  {
   "cell_type": "markdown",
   "metadata": {
    "id": "NNIV6q91UW2B"
   },
   "source": [
    "### Завдання №2\n",
    "Перевірте дані на пропущені значення, та при необхідності, поповніть їх \n"
   ]
  },
  {
   "cell_type": "code",
   "execution_count": 2,
   "metadata": {
    "id": "pfweeG1YVU_h"
   },
   "outputs": [
    {
     "name": "stdout",
     "output_type": "stream",
     "text": [
      "symboling            0\n",
      "normalized-losses    0\n",
      "make                 0\n",
      "aspiration           0\n",
      "num-of-doors         0\n",
      "body-style           0\n",
      "drive-wheels         0\n",
      "engine-location      0\n",
      "wheel-base           0\n",
      "length               0\n",
      "width                0\n",
      "height               0\n",
      "curb-weight          0\n",
      "engine-type          0\n",
      "num-of-cylinders     0\n",
      "engine-size          0\n",
      "fuel-system          0\n",
      "bore                 0\n",
      "stroke               4\n",
      "compression-ratio    0\n",
      "horsepower           0\n",
      "peak-rpm             0\n",
      "city-mpg             0\n",
      "highway-mpg          0\n",
      "price                0\n",
      "city-L/100km         0\n",
      "horsepower-binned    1\n",
      "diesel               0\n",
      "gas                  0\n",
      "dtype: int64\n"
     ]
    }
   ],
   "source": [
    "# МІСЦЕ ДЛЯ КОДУ\n",
    "\n",
    "# перевірка на пропущені значення\n",
    "print(df.isnull().sum())\n",
    "\n",
    "# поповнення пропущених значень у колонках \"normalized-losses\", \"price\", 'horsepower-binned', 'stroke' та \"horsepower\"\n",
    "df['normalized-losses'].fillna(df['normalized-losses'].mean(), inplace=True)\n",
    "df['price'].fillna(df['price'].mean(), inplace=True)\n",
    "df['horsepower'].fillna(df['horsepower'].mean(), inplace=True)\n",
    "df['horsepower-binned'].fillna(df['horsepower-binned'].mode(), inplace=True)\n",
    "df['stroke'].fillna(df['stroke'].mean(), inplace=True)"
   ]
  },
  {
   "cell_type": "markdown",
   "metadata": {
    "id": "rW3cLbAdGDzu"
   },
   "source": [
    "### Завдання №3\n",
    "Побудуйте кореляційну матрицю для всього датафрейму, визначте найбільш суттєві змінні по кореляційному зв'язку\n"
   ]
  },
  {
   "cell_type": "code",
   "execution_count": 3,
   "metadata": {
    "id": "XHfQOd_PGDzv"
   },
   "outputs": [
    {
     "data": {
      "text/plain": [
       "Index(['wheel-base', 'length', 'width', 'curb-weight', 'engine-size', 'bore',\n",
       "       'horsepower', 'city-mpg', 'highway-mpg', 'price', 'city-L/100km'],\n",
       "      dtype='object')"
      ]
     },
     "execution_count": 3,
     "metadata": {},
     "output_type": "execute_result"
    }
   ],
   "source": [
    "# МІСЦЕ ДЛЯ КОДУ\n",
    "\n",
    "# побудова кореляційної матриці\n",
    "corr_matrix = df.corr()\n",
    "\n",
    "# відбір найбільш суттєвих змінних\n",
    "top_corr_features = corr_matrix.index[abs(corr_matrix['price']) > 0.5]\n",
    "top_corr_features"
   ]
  },
  {
   "cell_type": "markdown",
   "metadata": {
    "id": "VGQj_Wp2GGsD"
   },
   "source": [
    "### Завдання №4\n",
    "Оберіть дві змінні, відмінні від лекційного прикладу\n",
    "* побудуйте рівняння лінійної регресії\n",
    "* виведіть коефіцієнти регресії\n",
    "* знайдіть $R^2$ \n",
    "* знайдіть $MSE$\n",
    "* побудуйте графік з точковим розподілом та рівнянням лінії регресії\n",
    "* побудуйте графік залишків моделі\n",
    "* зробіть висновки по моделі, проаналізуйте графік залишків, як ви вважаєте чи присутня автокореляція в моделі"
   ]
  },
  {
   "cell_type": "code",
   "execution_count": 4,
   "metadata": {
    "id": "xEY9EUZGGGsE"
   },
   "outputs": [
    {
     "name": "stdout",
     "output_type": "stream",
     "text": [
      "Coefficients: [0.73988431]\n",
      "Intercept: 9.532251825870375\n",
      "R^2: 0.6767952186553199\n",
      "MSE: 449.01200105450306\n"
     ]
    },
    {
     "data": {
      "image/png": "[encoded data removed]",
      "text/plain": [
       "<Figure size 432x288 with 1 Axes>"
      ]
     },
     "metadata": {
      "needs_background": "light"
     },
     "output_type": "display_data"
    },
    {
     "data": {
      "text/plain": [
       "Text(0, 0.5, 'Residuals Values')"
      ]
     },
     "execution_count": 4,
     "metadata": {},
     "output_type": "execute_result"
    },
    {
     "data": {
      "image/png": "[encoded data removed]",
      "text/plain": [
       "<Figure size 432x288 with 1 Axes>"
      ]
     },
     "metadata": {
      "needs_background": "light"
     },
     "output_type": "display_data"
    }
   ],
   "source": [
    "# МІСЦЕ ДЛЯ КОДУ\n",
    "\n",
    "# побудова рівняння лінійної регресії\n",
    "from sklearn.linear_model import LinearRegression\n",
    "\n",
    "X = df[['engine-size']]\n",
    "y = df['horsepower']\n",
    "\n",
    "lr = LinearRegression()\n",
    "lr.fit(X, y)\n",
    "\n",
    "# виведення коефіцієнтів регресії\n",
    "print('Coefficients:', lr.coef_)\n",
    "print('Intercept:', lr.intercept_)\n",
    "\n",
    "# знаходження R^2\n",
    "from sklearn.metrics import r2_score\n",
    "\n",
    "y_pred = lr.predict(X)\n",
    "r2 = r2_score(y, y_pred)\n",
    "print('R^2:', r2)\n",
    "\n",
    "# знаходження MSE\n",
    "from sklearn.metrics import mean_squared_error\n",
    "\n",
    "mse = mean_squared_error(y, y_pred)\n",
    "print('MSE:', mse)\n",
    "\n",
    "# побудова графіку з точковим розподілом та рівнянням лінії регресії\n",
    "import matplotlib.pyplot as plt\n",
    "\n",
    "plt.scatter(X, y, color='blue')\n",
    "plt.plot(X, lr.predict(X), color='red')\n",
    "plt.title('Linear Regression')\n",
    "plt.xlabel('Engine Size')\n",
    "plt.ylabel('Horsepower')\n",
    "plt.show()\n",
    "\n",
    "# побудова графіку залишків моделі\n",
    "residuals = y - y_pred\n",
    "\n",
    "plt.scatter(y_pred, residuals, color='blue')\n",
    "plt.title('Residuals Plot')\n",
    "plt.xlabel('Predicted Values')\n",
    "plt.ylabel('Residuals Values')"
   ]
  },
  {
   "cell_type": "markdown",
   "metadata": {},
   "source": [
    "#### Висновок\n",
    "Явні закономірності на графіку залишків відсутні, розподіл має середнє близьке до нуля, а за характером відхилення нагадує гаусівський розподіл. З цього можна припустити, що автокореляція відсутня"
   ]
  },
  {
   "cell_type": "markdown",
   "metadata": {
    "id": "8cuSFSmhHJUe"
   },
   "source": [
    "### Завдання №5\n",
    "Оберіть 5 змінних, відмінних від лекційного прикладу\n",
    "* побудуйте рівняння множинної лінійної регресії\n",
    "* виведіть коефіцієнти регресії\n",
    "* знайдіть $R^2$ \n",
    "* знайдіть $MSE$\n",
    "* зробіть висновки по моделі, як ви вважаєте чи присутня мультиколінеарність в моделі"
   ]
  },
  {
   "cell_type": "code",
   "execution_count": 5,
   "metadata": {
    "id": "_ZcrrE_KGFtY"
   },
   "outputs": [
    {
     "name": "stdout",
     "output_type": "stream",
     "text": [
      "Coefficients: [ 7.20965046e-01  1.84392132e-03  1.36935992e+01 -4.72869078e+01\n",
      "  5.75725001e+01]\n",
      "Intercept: -62.63236744179231\n",
      "R^2: 0.7963974873415874\n",
      "MSE: 282.8546386230105\n"
     ]
    },
    {
     "data": {
      "text/plain": [
       "Text(0, 0.5, 'Residuals Values')"
      ]
     },
     "execution_count": 5,
     "metadata": {},
     "output_type": "execute_result"
    },
    {
     "data": {
      "image/png": "[encoded data removed]",
      "text/plain": [
       "<Figure size 432x288 with 1 Axes>"
      ]
     },
     "metadata": {
      "needs_background": "light"
     },
     "output_type": "display_data"
    }
   ],
   "source": [
    "# МІСЦЕ ДЛЯ КОДУ\n",
    "\n",
    "X = df[['compression-ratio', \"peak-rpm\", \"city-L/100km\", \"length\", \"width\"]]\n",
    "y = df['horsepower']\n",
    "\n",
    "lr = LinearRegression()\n",
    "lr.fit(X, y)\n",
    "\n",
    "# виведення коефіцієнтів регресії\n",
    "print('Coefficients:', lr.coef_)\n",
    "print('Intercept:', lr.intercept_)\n",
    "\n",
    "# знаходження R^2\n",
    "from sklearn.metrics import r2_score\n",
    "\n",
    "y_pred = lr.predict(X)\n",
    "r2 = r2_score(y, y_pred)\n",
    "print('R^2:', r2)\n",
    "\n",
    "# знаходження MSE\n",
    "from sklearn.metrics import mean_squared_error\n",
    "\n",
    "mse = mean_squared_error(y, y_pred)\n",
    "print('MSE:', mse)\n",
    "\n",
    "\n",
    "# побудова графіку залишків моделі\n",
    "residuals = y - y_pred\n",
    "\n",
    "plt.scatter(y_pred, residuals, color='blue')\n",
    "plt.title('Residuals Plot')\n",
    "plt.xlabel('Predicted Values')\n",
    "plt.ylabel('Residuals Values')"
   ]
  },
  {
   "cell_type": "markdown",
   "metadata": {},
   "source": [
    "#### Висновок\n",
    "Розподіл залишків має середнє близьке до нуля, проте дисперсія зростає при зростані прогнозованих значень. Це може свідчити про мультиколінеарність, проте графіка не достатньо щоб зробити остаточний висновок, необхідно проводити глибший аналіз з використанням статистичних тестів. "
   ]
  },
  {
   "cell_type": "markdown",
   "metadata": {
    "id": "oa80mYsIH3-o"
   },
   "source": [
    "### Завдання №6\n",
    "Оберіть дві змінних з завдання 4\n",
    "* побудуйте поліноміальну регресію порядку 2\n",
    "* побудуйте поліноміальну регресію порядку 3\n",
    "* побудуйте поліноміальну регресію порядку 4\n",
    "* знайдіть $R^2$ для всих моделей\n",
    "* знайдіть $MSE$ для всих моделей\n",
    "* побудуйте графік з точковим розподілом та поліноміальними функціями\n",
    "* зробіть висновки по моделям, враховуючи і лінійну регресію в завданні 4, оберіть найкращу на вашу думку модель."
   ]
  },
  {
   "cell_type": "code",
   "execution_count": 6,
   "metadata": {
    "id": "FaJJGdRIHHIc"
   },
   "outputs": [
    {
     "name": "stdout",
     "output_type": "stream",
     "text": [
      "R^2: 0.6932726871848546\n",
      "MSE: 426.1206902082419\n"
     ]
    },
    {
     "name": "stderr",
     "output_type": "stream",
     "text": [
      "/home/fort/.local/lib/python3.10/site-packages/sklearn/base.py:420: UserWarning: X does not have valid feature names, but PolynomialFeatures was fitted with feature names\n",
      "  warnings.warn(\n"
     ]
    },
    {
     "data": {
      "image/png": "[encoded data removed]",
      "text/plain": [
       "<Figure size 432x288 with 1 Axes>"
      ]
     },
     "metadata": {
      "needs_background": "light"
     },
     "output_type": "display_data"
    }
   ],
   "source": [
    "# МІСЦЕ ДЛЯ КОДУ\n",
    "\n",
    "from sklearn.preprocessing import PolynomialFeatures\n",
    "from sklearn.linear_model import LinearRegression\n",
    "\n",
    "# Обрані змінні\n",
    "X = df[['engine-size']]\n",
    "y = df['horsepower']\n",
    "\n",
    "# Побудова поліноміальної регресії порядку 2\n",
    "poly_2 = PolynomialFeatures(degree=2)\n",
    "X_poly_2 = poly_2.fit_transform(X)\n",
    "poly_reg_2 = LinearRegression().fit(X_poly_2, y)\n",
    "\n",
    "# Прогнозування значень\n",
    "y_pred_2 = poly_reg_2.predict(X_poly_2)\n",
    "\n",
    "# Визначення коефіцієнта детермінації та MSE\n",
    "from sklearn.metrics import r2_score, mean_squared_error\n",
    "r2_2 = r2_score(y, y_pred_2)\n",
    "mse_2 = mean_squared_error(y, y_pred_2)\n",
    "\n",
    "print('R^2:', r2_2)\n",
    "print('MSE:', mse_2)\n",
    "\n",
    "# побудова графіку з точковим розподілом та рівнянням лінії регресії\n",
    "import matplotlib.pyplot as plt\n",
    "\n",
    "plt.scatter(X, y, color='blue')\n",
    "xs = np.linspace(X[\"engine-size\"].min(), X[\"engine-size\"].max(), 300).reshape(-1, 1)\n",
    "plt.plot(xs, poly_reg_2.predict(poly_2.transform(xs)), color='red')\n",
    "plt.title('Linear Regression')\n",
    "plt.xlabel('Engine Size')\n",
    "plt.ylabel('Horsepower')\n",
    "plt.show()"
   ]
  },
  {
   "cell_type": "code",
   "execution_count": 7,
   "metadata": {},
   "outputs": [
    {
     "name": "stdout",
     "output_type": "stream",
     "text": [
      "R^2: 0.6960159404274515\n",
      "MSE: 422.3096276901285\n"
     ]
    },
    {
     "name": "stderr",
     "output_type": "stream",
     "text": [
      "/home/fort/.local/lib/python3.10/site-packages/sklearn/base.py:420: UserWarning: X does not have valid feature names, but PolynomialFeatures was fitted with feature names\n",
      "  warnings.warn(\n"
     ]
    },
    {
     "data": {
      "image/png": "[encoded data removed]",
      "text/plain": [
       "<Figure size 432x288 with 1 Axes>"
      ]
     },
     "metadata": {
      "needs_background": "light"
     },
     "output_type": "display_data"
    }
   ],
   "source": [
    "# Побудова поліноміальної регресії порядку 3\n",
    "poly_3 = PolynomialFeatures(degree=3)\n",
    "X_poly_3 = poly_3.fit_transform(X)\n",
    "poly_reg_3 = LinearRegression().fit(X_poly_3, y)\n",
    "\n",
    "# Прогнозування значень\n",
    "y_pred_3 = poly_reg_3.predict(X_poly_3)\n",
    "\n",
    "# Визначення коефіцієнта детермінації та MSE\n",
    "r2_3 = r2_score(y, y_pred_3)\n",
    "mse_3 = mean_squared_error(y, y_pred_3)\n",
    "\n",
    "print('R^2:', r2_3)\n",
    "print('MSE:', mse_3)\n",
    "\n",
    "# побудова графіку з точковим розподілом та рівнянням лінії регресії\n",
    "import matplotlib.pyplot as plt\n",
    "\n",
    "plt.scatter(X, y, color='blue')\n",
    "xs = np.linspace(X[\"engine-size\"].min(), X[\"engine-size\"].max(), 300).reshape(-1, 1)\n",
    "plt.plot(xs, poly_reg_3.predict(poly_3.transform(xs)), color='red')\n",
    "plt.title('Linear Regression')\n",
    "plt.xlabel('Engine Size')\n",
    "plt.ylabel('Horsepower')\n",
    "plt.show()"
   ]
  },
  {
   "cell_type": "code",
   "execution_count": 8,
   "metadata": {},
   "outputs": [
    {
     "name": "stdout",
     "output_type": "stream",
     "text": [
      "R^2: 0.7267184765316232\n",
      "MSE: 379.65615234169155\n"
     ]
    },
    {
     "name": "stderr",
     "output_type": "stream",
     "text": [
      "/home/fort/.local/lib/python3.10/site-packages/sklearn/base.py:420: UserWarning: X does not have valid feature names, but PolynomialFeatures was fitted with feature names\n",
      "  warnings.warn(\n"
     ]
    },
    {
     "data": {
      "image/png": "[encoded data removed]",
      "text/plain": [
       "<Figure size 432x288 with 1 Axes>"
      ]
     },
     "metadata": {
      "needs_background": "light"
     },
     "output_type": "display_data"
    }
   ],
   "source": [
    "# Побудова поліноміальної регресії порядку 4\n",
    "poly_4 = PolynomialFeatures(degree=4)\n",
    "X_poly_4 = poly_4.fit_transform(X)\n",
    "poly_reg_4 = LinearRegression().fit(X_poly_4, y)\n",
    "\n",
    "# Прогнозування значень\n",
    "y_pred_4 = poly_reg_4.predict(X_poly_4)\n",
    "\n",
    "# Визначення коефіцієнта детермінації та MSE\n",
    "r2_4 = r2_score(y, y_pred_4)\n",
    "mse_4 = mean_squared_error(y, y_pred_4)\n",
    "\n",
    "print('R^2:', r2_4)\n",
    "print('MSE:', mse_4)\n",
    "\n",
    "# побудова графіку з точковим розподілом та рівнянням лінії регресії\n",
    "import matplotlib.pyplot as plt\n",
    "\n",
    "plt.scatter(X, y, color='blue')\n",
    "xs = np.linspace(X[\"engine-size\"].min(), X[\"engine-size\"].max(), 300).reshape(-1, 1)\n",
    "plt.plot(xs, poly_reg_4.predict(poly_4.transform(xs)), color='red')\n",
    "plt.title('Linear Regression')\n",
    "plt.xlabel('Engine Size')\n",
    "plt.ylabel('Horsepower')\n",
    "plt.show()"
   ]
  },
  {
   "cell_type": "markdown",
   "metadata": {},
   "source": [
    "#### Висновок\n",
    "Попри те, що поліноміальна модель 4 порядку показує найкращі показники коєфіцієнта детермінованості на середньоквадратичної похибки, на графіку ця модель виглядає дещо перенавченою, та може демонструвати низьку якість прогнозу поза межами тренувальних даних. В якості найкращої моделі, ймовірно, варто обрати модель 3го порядку, а точність прогнозу покращити, наприклад, залучивши додаткові змінні."
   ]
  }
 ],
 "metadata": {
  "colab": {
   "name": "КП№5_Лінійна_Регресія (1).ipynb",
   "provenance": []
  },
  "kernelspec": {
   "display_name": "Python 3 (ipykernel)",
   "language": "python",
   "name": "python3"
  },
  "language_info": {
   "codemirror_mode": {
    "name": "ipython",
    "version": 3
   },
   "file_extension": ".py",
   "mimetype": "text/x-python",
   "name": "python",
   "nbconvert_exporter": "python",
   "pygments_lexer": "ipython3",
   "version": "3.10.8"
  }
 },
 "nbformat": 4,
 "nbformat_minor": 1
}
